{
 "cells": [
  {
   "cell_type": "code",
   "execution_count": 1,
   "metadata": {},
   "outputs": [],
   "source": [
    "#我做的，嵌套循环，时间复杂度On2，因为3sum中运行2sum有循环。边界情况[0,0]会输出[0,0,0]，没想好怎么改。\n",
    "class Solution(object):\n",
    "    def threeSum(self, nums):\n",
    "        \"\"\"\n",
    "        :type nums: List[int]\n",
    "        :rtype: List[List[int]]\n",
    "        \"\"\"\n",
    "        ans=[]\n",
    "        visited={}\n",
    "        for i in nums:\n",
    "            rest=0-i\n",
    "            if self.twosum(nums,rest):\n",
    "                level=[i]+self.twosum(nums,rest)\n",
    "                level.sort()\n",
    "                if i not in visited:\n",
    "                    visited[i]=level\n",
    "        \n",
    "        for i in visited.values():\n",
    "            if i not in ans:\n",
    "                ans.append(i)\n",
    "            \n",
    "        return ans\n",
    "    \n",
    "    \n",
    "    def twosum(self,nums,target):\n",
    "        visited={}\n",
    "        for num in nums:\n",
    "            rest=target-num\n",
    "            if rest not in visited:\n",
    "                visited[num]=num\n",
    "            else:\n",
    "                return [num,visited[rest]]\n",
    "        return False"
   ]
  },
  {
   "cell_type": "code",
   "execution_count": 2,
   "metadata": {},
   "outputs": [
    {
     "name": "stdout",
     "output_type": "stream",
     "text": [
      "{1: [1, 2]}\n"
     ]
    }
   ],
   "source": [
    "#答案. 双指针，\n",
    "class Solution(object):\n",
    "    def threeSum(self, nums):\n",
    "        nums.sort()\n",
    "        result = []\n",
    "        n = len(nums)\n",
    "        for i in range(n):\n",
    "            if i > 0 and nums[i] == nums[i-1]:#去重\n",
    "                continue\n",
    "            head = i + 1\n",
    "            end = n - 1\n",
    "            while head < end:\n",
    "                if nums[i] + nums[head] + nums[end] == 0:\n",
    "                    result.append([nums[i], nums[head], nums[end]])\n",
    "                    head += 1\n",
    "                    while head < end and nums[head] == nums[head-1]:#去重\n",
    "                        head += 1\n",
    "                    end -= 1\n",
    "                    while head < end and nums[end] == nums[end+1]:#去重\n",
    "                        end -= 1\n",
    "                elif nums[i] + nums[head] + nums[end] < 0:\n",
    "                    head += 1\n",
    "                    while head < end and nums[head] == nums[head-1]:#去重\n",
    "                        head += 1\n",
    "                else:\n",
    "                    end -= 1\n",
    "                    while head < end and nums[end] == nums[end+1]:#去重\n",
    "                        end -= 1\n",
    "        return result"
   ]
  },
  {
   "cell_type": "code",
   "execution_count": 7,
   "metadata": {},
   "outputs": [
    {
     "data": {
      "text/plain": [
       "<function dict.values>"
      ]
     },
     "execution_count": 7,
     "metadata": {},
     "output_type": "execute_result"
    }
   ],
   "source": []
  },
  {
   "cell_type": "code",
   "execution_count": null,
   "metadata": {},
   "outputs": [],
   "source": []
  }
 ],
 "metadata": {
  "kernelspec": {
   "display_name": "Python 3",
   "language": "python",
   "name": "python3"
  },
  "language_info": {
   "codemirror_mode": {
    "name": "ipython",
    "version": 3
   },
   "file_extension": ".py",
   "mimetype": "text/x-python",
   "name": "python",
   "nbconvert_exporter": "python",
   "pygments_lexer": "ipython3",
   "version": "3.7.1"
  }
 },
 "nbformat": 4,
 "nbformat_minor": 2
}
