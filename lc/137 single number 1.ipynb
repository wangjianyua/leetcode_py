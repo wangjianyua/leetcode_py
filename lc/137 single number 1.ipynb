{
 "cells": [
  {
   "cell_type": "markdown",
   "metadata": {},
   "source": [
    "#single number 1\n",
    "\n",
    "Approach 1: List operation\n",
    "\n",
    "Algorithm\n",
    "\n",
    "    Iterate over all the elements in nums\\text{nums}nums\n",
    "    If some number in nums\\text{nums}nums is new to array, append it\n",
    "    If some number is already in the array, remove it\n"
   ]
  },
  {
   "cell_type": "code",
   "execution_count": null,
   "metadata": {},
   "outputs": [],
   "source": [
    "class Solution(object):\n",
    "    def singleNumber(self, nums):\n",
    "        \"\"\"\n",
    "        :type nums: List[int]\n",
    "        :rtype: int\n",
    "        \"\"\"\n",
    "        no_duplicate_list = []\n",
    "        for i in nums:\n",
    "            if i not in no_duplicate_list:\n",
    "                no_duplicate_list.append(i)\n",
    "            else:\n",
    "                no_duplicate_list.remove(i)\n",
    "        return no_duplicate_list.pop()"
   ]
  },
  {
   "cell_type": "markdown",
   "metadata": {},
   "source": [
    "Approach 2: Hash Table\n",
    "\n",
    "Algorithm\n",
    "\n",
    "We use hash table to avoid the O(n)O(n)O(n) time required for searching the elements.\n",
    "\n",
    "    Iterate through all elements in nums and set up key/value pair.\n",
    "    Return the element which appeared only once.\n"
   ]
  },
  {
   "cell_type": "code",
   "execution_count": null,
   "metadata": {},
   "outputs": [],
   "source": [
    "#我写的\n",
    "class Solution(object):\n",
    "    def singleNumber(self, nums):\n",
    "        \"\"\"\n",
    "        :type nums: List[int]\n",
    "        :rtype: int\n",
    "        \"\"\"\n",
    "        visited={}\n",
    "        for i in nums:\n",
    "            if i in visited:\n",
    "                visited[i]=2\n",
    "            else:\n",
    "                visited[i]=1    #这一个循环可以优化为visitid[i]+=1\n",
    "        for i in visited:#不用visited.keys()\n",
    "            if visited[i]==1:\n",
    "                return i\n",
    "        else:\n",
    "            return 0"
   ]
  },
  {
   "cell_type": "code",
   "execution_count": null,
   "metadata": {},
   "outputs": [],
   "source": [
    "#答案\n",
    "from collections import defaultdict\n",
    "class Solution:\n",
    "    def singleNumber(self, nums: List[int]) -> int:\n",
    "        hash_table = defaultdict(int)\n",
    "        for i in nums:\n",
    "            hash_table[i] += 1\n",
    "        \n",
    "        for i in hash_table:\n",
    "            if hash_table[i] == 1:\n",
    "                return i"
   ]
  },
  {
   "cell_type": "markdown",
   "metadata": {},
   "source": [
    "Approach 3: Math\n",
    "\n",
    "Concept\n",
    "\n",
    "2∗(a+b+c)−(a+a+b+b+c)=c2 * (a + b + c) - (a + a + b + b + c) = c2∗(a+b+c)−(a+a+b+b+c)=c"
   ]
  },
  {
   "cell_type": "code",
   "execution_count": null,
   "metadata": {},
   "outputs": [],
   "source": [
    "class Solution(object):\n",
    "    def singleNumber(self, nums):\n",
    "        \"\"\"\n",
    "        :type nums: List[int]\n",
    "        :rtype: int\n",
    "        \"\"\"\n",
    "        return 2 * sum(set(nums)) - sum(nums)   #用set去重"
   ]
  },
  {
   "cell_type": "markdown",
   "metadata": {},
   "source": [
    "Approach 4: Bit Manipulation\n",
    "\n",
    "Concept\n",
    "\n",
    "    If we take XOR of zero and some bit, it will return that bit\n",
    "        a⊕0=aa \\oplus 0 = aa⊕0=a\n",
    "    If we take XOR of two same bits, it will return 0\n",
    "        a⊕a=0a \\oplus a = 0a⊕a=0\n",
    "    a⊕b⊕a=(a⊕a)⊕b=0⊕b=ba \\oplus b \\oplus a = (a \\oplus a) \\oplus b = 0 \\oplus b = ba⊕b⊕a=(a⊕a)⊕b=0⊕b=b\n",
    "\n",
    "So we can XOR all bits together to find the unique number."
   ]
  },
  {
   "cell_type": "code",
   "execution_count": null,
   "metadata": {},
   "outputs": [],
   "source": [
    "class Solution(object):\n",
    "    def singleNumber(self, nums):\n",
    "        \"\"\"\n",
    "        :type nums: List[int]\n",
    "        :rtype: int\n",
    "        \"\"\"\n",
    "        a = 0\n",
    "        for i in nums:\n",
    "            a ^= i\n",
    "        return a"
   ]
  }
 ],
 "metadata": {
  "kernelspec": {
   "display_name": "Python 3",
   "language": "python",
   "name": "python3"
  },
  "language_info": {
   "codemirror_mode": {
    "name": "ipython",
    "version": 3
   },
   "file_extension": ".py",
   "mimetype": "text/x-python",
   "name": "python",
   "nbconvert_exporter": "python",
   "pygments_lexer": "ipython3",
   "version": "3.7.1"
  }
 },
 "nbformat": 4,
 "nbformat_minor": 2
}
