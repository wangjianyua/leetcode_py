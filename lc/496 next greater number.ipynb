{
 "cells": [
  {
   "cell_type": "code",
   "execution_count": 1,
   "metadata": {},
   "outputs": [
    {
     "ename": "IndexError",
     "evalue": "list assignment index out of range",
     "output_type": "error",
     "traceback": [
      "\u001b[1;31m---------------------------------------------------------------------------\u001b[0m",
      "\u001b[1;31mIndexError\u001b[0m                                Traceback (most recent call last)",
      "\u001b[1;32m<ipython-input-1-36b32a60d9d0>\u001b[0m in \u001b[0;36m<module>\u001b[1;34m\u001b[0m\n\u001b[0;32m      1\u001b[0m \u001b[0mres\u001b[0m\u001b[1;33m=\u001b[0m\u001b[1;33m[\u001b[0m\u001b[1;33m]\u001b[0m\u001b[1;33m\u001b[0m\u001b[1;33m\u001b[0m\u001b[0m\n\u001b[1;32m----> 2\u001b[1;33m \u001b[0mres\u001b[0m\u001b[1;33m[\u001b[0m\u001b[1;36m0\u001b[0m\u001b[1;33m]\u001b[0m\u001b[1;33m=\u001b[0m\u001b[1;36m1\u001b[0m\u001b[1;33m\u001b[0m\u001b[1;33m\u001b[0m\u001b[0m\n\u001b[0m",
      "\u001b[1;31mIndexError\u001b[0m: list assignment index out of range"
     ]
    }
   ],
   "source": [
    "res=[]\n",
    "res[0]=1#错的\n",
    "应该用res.append"
   ]
  },
  {
   "cell_type": "code",
   "execution_count": 6,
   "metadata": {},
   "outputs": [
    {
     "data": {
      "text/plain": [
       "True"
      ]
     },
     "execution_count": 6,
     "metadata": {},
     "output_type": "execute_result"
    }
   ],
   "source": [
    "stack=[]\n",
    "stack==None#stack不是NOne,但是空\n",
    "not stack#这个是true，可用这个判断"
   ]
  },
  {
   "cell_type": "code",
   "execution_count": null,
   "metadata": {},
   "outputs": [],
   "source": [
    "class Solution(object):\n",
    "    def nextGreaterElement(self, nums1, nums2):\n",
    "        \"\"\"\n",
    "        :type nums1: List[int]\n",
    "        :type nums2: List[int]\n",
    "        :rtype: List[int]\n",
    "        \"\"\"\n",
    "        stack=[]\n",
    "        hashmap={}\n",
    "        res=[]\n",
    "        for i in range(len(nums2)):\n",
    "            while stack and nums2[i]>stack[-1]:\n",
    "                hashmap[stack.pop()]=nums2[i]\n",
    "            stack.append(nums2[i])\n",
    "        while stack:#如果stack不为空\n",
    "            hashmap[stack.pop()]=-1\n",
    "        for i in range(len(nums1)):\n",
    "            res.append(hashmap[nums1[i]])\n",
    "        return res\n",
    "            \n",
    "        #用stack做\n",
    "                \n",
    "                \n",
    "    \n",
    "#我的思路，把原来的每个元素放入站中。\n",
    "#存在的问题：\n",
    "#1比较下一个元素是否比原来的一个大，这里没实现出来，因为我想的是用i和i+1比较。i+1可能出边界，还要加边界条件。答案给的是先判断while栈不空(这个处理了i=0边界条件）和这个值大于栈顶排出，否则压入。\n",
    "#2栈中有很多元素时，遇到一个下面的大的，依次排出。\n"
   ]
  }
 ],
 "metadata": {
  "kernelspec": {
   "display_name": "Python 3",
   "language": "python",
   "name": "python3"
  },
  "language_info": {
   "codemirror_mode": {
    "name": "ipython",
    "version": 3
   },
   "file_extension": ".py",
   "mimetype": "text/x-python",
   "name": "python",
   "nbconvert_exporter": "python",
   "pygments_lexer": "ipython3",
   "version": "3.7.1"
  }
 },
 "nbformat": 4,
 "nbformat_minor": 2
}
