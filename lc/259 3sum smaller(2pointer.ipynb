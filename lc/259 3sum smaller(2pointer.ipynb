{
 "cells": [
  {
   "cell_type": "code",
   "execution_count": null,
   "metadata": {},
   "outputs": [],
   "source": [
    "#正确的\n",
    "class Solution(object):\n",
    "    def threeSumSmaller(self, nums, target):\n",
    "        \"\"\"\n",
    "        :type nums: List[int]\n",
    "        :type target: int\n",
    "        :rtype: int\n",
    "        \"\"\"\n",
    "        res=0\n",
    "        nums.sort()\n",
    "        for i in range(len(nums)-2):\n",
    "            j,k=i+1,len(nums)-1\n",
    "            while j<k:\n",
    "                if nums[i]+nums[j]+nums[k]<target:\n",
    "                    res+=k-j\n",
    "                    j+=1\n",
    "                    # if (i,j,k) works, then (i,j,k), (i,j,k-1),..., \n",
    "                    # (i,j,j+1) all work, totally (k-j) triplets\n",
    "                else:\n",
    "                    k-=1\n",
    "        return res\n",
    "            "
   ]
  },
  {
   "cell_type": "code",
   "execution_count": null,
   "metadata": {},
   "outputs": [],
   "source": [
    "#错误的，if else中else不可以省略。如果这里省略else,而if没有使函数返回，那个每次while无论if成立与否都会k-=1，出错\n",
    "class Solution(object):\n",
    "    def threeSumSmaller(self, nums, target):\n",
    "        \"\"\"\n",
    "        :type nums: List[int]\n",
    "        :type target: int\n",
    "        :rtype: int\n",
    "        \"\"\"\n",
    "        res=0\n",
    "        nums.sort()\n",
    "        for i in range(len(nums)-2):\n",
    "            j,k=i+1,len(nums)-1\n",
    "            while j<k:\n",
    "                if nums[i]+nums[j]+nums[k]<target:\n",
    "                    res+=k-j\n",
    "                    j+=1\n",
    "                    # if (i,j,k) works, then (i,j,k), (i,j,k-1),..., \n",
    "                    # (i,j,j+1) all work, totally (k-j) triplets\n",
    "                    \n",
    "                k-=1\n",
    "        return res\n",
    "            "
   ]
  },
  {
   "cell_type": "code",
   "execution_count": null,
   "metadata": {},
   "outputs": [],
   "source": [
    "#错误的，这里res这么加会有显示不到的，需要加k-j\n",
    "class Solution(object):\n",
    "    def threeSumSmaller(self, nums, target):\n",
    "        \"\"\"\n",
    "        :type nums: List[int]\n",
    "        :type target: int\n",
    "        :rtype: int\n",
    "        \"\"\"\n",
    "        res=0\n",
    "        nums.sort()\n",
    "        for i in range(len(nums)-2):\n",
    "            j,k=i+1,len(nums)-1\n",
    "            while j<k:\n",
    "                if nums[i]+nums[j]+nums[k]<target:\n",
    "                    res+=1#\n",
    "                    j+=1\n",
    "                    \n",
    "                    \n",
    "                k-=1\n",
    "        return res"
   ]
  }
 ],
 "metadata": {
  "kernelspec": {
   "display_name": "Python 3",
   "language": "python",
   "name": "python3"
  },
  "language_info": {
   "codemirror_mode": {
    "name": "ipython",
    "version": 3
   },
   "file_extension": ".py",
   "mimetype": "text/x-python",
   "name": "python",
   "nbconvert_exporter": "python",
   "pygments_lexer": "ipython3",
   "version": "3.7.1"
  }
 },
 "nbformat": 4,
 "nbformat_minor": 2
}
