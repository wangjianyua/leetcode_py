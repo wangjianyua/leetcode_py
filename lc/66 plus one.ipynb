{
 "cells": [
  {
   "cell_type": "code",
   "execution_count": null,
   "metadata": {},
   "outputs": [],
   "source": [
    "return [int(a) for a in (str(int(''.join(map(str, digits))) + 1))]"
   ]
  },
  {
   "cell_type": "code",
   "execution_count": null,
   "metadata": {},
   "outputs": [],
   "source": [
    "\"\"\"\n",
    "没做对，999不好使\n",
    "        index=len(digits)#end index,3\n",
    "        carry=[0]*(len(digits)+1)\n",
    "        while index>0 and (digits[index-1]+1)//10:#ifcarry不为0\n",
    "            digits[index-1]=0\n",
    "            carry[index-1]=(digits[index-1]+1)//10#把这个进位的存在carry的index-1里\n",
    "            index=index-1\n",
    "            print((digits[index-1]+1)//10)\n",
    "        else:#while条件判断为false时，执行else3\n",
    "            digits[index-1]+=1\n",
    "        digits.insert(0,0)\n",
    "        print(digits,carry)\n",
    "        \n",
    "        res=list(map(lambda x,y:x+y,digits,carry))\n",
    "        if res[0]==0:\n",
    "            return res[1:]\n",
    "        return res\n",
    "    \n",
    "    \n",
    "    #oneline solution\n",
    "    #return [int(a) for a in (str(int(''.join(map(str, digits))) + 1))]\n",
    "\n",
    "\"\"\""
   ]
  },
  {
   "cell_type": "code",
   "execution_count": null,
   "metadata": {},
   "outputs": [],
   "source": [
    "#recursion\n",
    "def plusOne(self, digits):\n",
    "    \"\"\"\n",
    "    :type digits: List[int]\n",
    "    :rtype: List[int]\n",
    "    \"\"\"\n",
    "    if len(digits) == 0:\n",
    "        digits = [1]\n",
    "    elif digits[-1] == 9:\n",
    "        digits = self.plusOne(digits[:-1])#digits[:-1]表示到最后一个为止（不包括的）\n",
    "        digits.extend([0])\n",
    "    else:\n",
    "        digits[-1] += 1\n",
    "    return digits"
   ]
  },
  {
   "cell_type": "code",
   "execution_count": null,
   "metadata": {},
   "outputs": [],
   "source": [
    "#iteration\n",
    "class Solution:\n",
    "    def plusOne(self, digits: List[int]) -> List[int]:\n",
    "        n = len(digits)\n",
    "        \n",
    "        # move along the input array starting from the end\n",
    "        for i in range(n):\n",
    "            idx = n - 1 - i\n",
    "            # set all the nines at the end of array to zeros\n",
    "            if digits[idx] == 9:\n",
    "                digits[idx] = 0\n",
    "            # here we have the rightmost not-nine\n",
    "            else:\n",
    "                # increase this rightmost not-nine by 1 \n",
    "                digits[idx] += 1\n",
    "                # and the job is done\n",
    "                return digits\n",
    "                \n",
    "        # we're here because all the digits are nines\n",
    "        return [1] + digits"
   ]
  }
 ],
 "metadata": {
  "kernelspec": {
   "display_name": "Python 3",
   "language": "python",
   "name": "python3"
  },
  "language_info": {
   "codemirror_mode": {
    "name": "ipython",
    "version": 3
   },
   "file_extension": ".py",
   "mimetype": "text/x-python",
   "name": "python",
   "nbconvert_exporter": "python",
   "pygments_lexer": "ipython3",
   "version": "3.7.1"
  }
 },
 "nbformat": 4,
 "nbformat_minor": 2
}
