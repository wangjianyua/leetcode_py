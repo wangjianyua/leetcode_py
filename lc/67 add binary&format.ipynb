{
 "cells": [
  {
   "cell_type": "code",
   "execution_count": null,
   "metadata": {},
   "outputs": [],
   "source": [
    "#1用内置函数进行进制转换\n",
    "def addBinary(self, a, b):\n",
    "    return '{0:b}'.format(int(a,2)+int(b,2))"
   ]
  },
  {
   "cell_type": "markdown",
   "metadata": {},
   "source": [
    "format\n",
    "https://www.programiz.com/python-programming/methods/string/format\n",
    "template.format(p0, p1, ..., k0=v0, k1=v1, ...)\n",
    "\n",
    "Here, p0, p1,... are positional arguments and, k0, k1,... are keyword arguments with values v0, v1,... respectively.\n",
    "\n",
    "And, template is a mixture of format codes with placeholders for the arguments."
   ]
  },
  {
   "cell_type": "code",
   "execution_count": 2,
   "metadata": {},
   "outputs": [
    {
     "ename": "TypeError",
     "evalue": "unsupported operand type(s) for ^: 'str' and 'str'",
     "output_type": "error",
     "traceback": [
      "\u001b[1;31m---------------------------------------------------------------------------\u001b[0m",
      "\u001b[1;31mTypeError\u001b[0m                                 Traceback (most recent call last)",
      "\u001b[1;32m<ipython-input-2-176400f04985>\u001b[0m in \u001b[0;36m<module>\u001b[1;34m\u001b[0m\n\u001b[0;32m      1\u001b[0m \u001b[0ma\u001b[0m\u001b[1;33m=\u001b[0m\u001b[1;34m'1010'\u001b[0m\u001b[1;33m\u001b[0m\u001b[1;33m\u001b[0m\u001b[0m\n\u001b[0;32m      2\u001b[0m \u001b[0mb\u001b[0m\u001b[1;33m=\u001b[0m\u001b[1;34m'0101'\u001b[0m\u001b[1;33m\u001b[0m\u001b[1;33m\u001b[0m\u001b[0m\n\u001b[1;32m----> 3\u001b[1;33m \u001b[0ma\u001b[0m\u001b[1;33m^\u001b[0m\u001b[0mb\u001b[0m\u001b[1;33m\u001b[0m\u001b[1;33m\u001b[0m\u001b[0m\n\u001b[0m",
      "\u001b[1;31mTypeError\u001b[0m: unsupported operand type(s) for ^: 'str' and 'str'"
     ]
    }
   ],
   "source": [
    "\"\"\"\n",
    "Algorithm\n",
    "\n",
    "    Convert a and b into integers x and y, x will be used to keep an answer, and y for the carry.\n",
    "\n",
    "    While carry is nonzero: y != 0:\n",
    "\n",
    "        Current answer without carry is XOR of x and y: answer = x^y.\n",
    "\n",
    "        Current carry is left-shifted AND of x and y: carry = (x & y) << 1.\n",
    "\n",
    "        Job is done, prepare the next loop: x = answer, y = carry.\n",
    "\n",
    "    Return x in the binary form.\n",
    "\n",
    "\"\"\"\n",
    "class Solution:\n",
    "    def addBinary(self, a, b) -> str:\n",
    "        x, y = int(a, 2), int(b, 2)\n",
    "        while y:\n",
    "            answer = x ^ y\n",
    "            carry = (x & y) << 1\n",
    "            print(answer,carry)\n",
    "            x, y = answer, carry\n",
    "            print(x,y)\n",
    "        return bin(x)[2:]"
   ]
  },
  {
   "cell_type": "code",
   "execution_count": 8,
   "metadata": {},
   "outputs": [
    {
     "name": "stdout",
     "output_type": "stream",
     "text": [
      "11 2\n"
     ]
    }
   ],
   "source": [
    "#从右往左，按位运算\n",
    "class Solution:\n",
    "    def addBinary(self, a, b) -> str:\n",
    "        n = max(len(a), len(b))\n",
    "        a, b = a.zfill(n), b.zfill(n)\n",
    "        \n",
    "        carry = 0\n",
    "        answer = []\n",
    "        for i in range(n - 1, -1, -1):\n",
    "            if a[i] == '1':\n",
    "                carry += 1\n",
    "            if b[i] == '1':\n",
    "                carry += 1\n",
    "                \n",
    "            if carry % 2 == 1:\n",
    "                answer.append('1')\n",
    "            else:\n",
    "                answer.append('0')\n",
    "            \n",
    "            carry //= 2\n",
    "        \n",
    "        if carry == 1:\n",
    "            answer.append('1')\n",
    "        answer.reverse()\n",
    "        \n",
    "        return ''.join(answer)"
   ]
  },
  {
   "cell_type": "code",
   "execution_count": 11,
   "metadata": {},
   "outputs": [
    {
     "name": "stdout",
     "output_type": "stream",
     "text": [
      "1\n"
     ]
    }
   ],
   "source": []
  },
  {
   "cell_type": "code",
   "execution_count": null,
   "metadata": {},
   "outputs": [],
   "source": []
  }
 ],
 "metadata": {
  "kernelspec": {
   "display_name": "Python 3",
   "language": "python",
   "name": "python3"
  },
  "language_info": {
   "codemirror_mode": {
    "name": "ipython",
    "version": 3
   },
   "file_extension": ".py",
   "mimetype": "text/x-python",
   "name": "python",
   "nbconvert_exporter": "python",
   "pygments_lexer": "ipython3",
   "version": "3.7.1"
  }
 },
 "nbformat": 4,
 "nbformat_minor": 2
}
