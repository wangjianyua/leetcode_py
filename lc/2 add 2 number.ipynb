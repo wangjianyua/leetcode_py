{
 "cells": [
  {
   "cell_type": "code",
   "execution_count": 2,
   "metadata": {},
   "outputs": [
    {
     "name": "stdout",
     "output_type": "stream",
     "text": [
      "['8', '0', '7']\n"
     ]
    }
   ],
   "source": [
    "#拆分整数\n",
    "a=807\n",
    "l=list(str(a))\n",
    "print(l)"
   ]
  },
  {
   "cell_type": "code",
   "execution_count": 1,
   "metadata": {},
   "outputs": [
    {
     "data": {
      "text/plain": [
       "3"
      ]
     },
     "execution_count": 1,
     "metadata": {},
     "output_type": "execute_result"
    }
   ],
   "source": [
    "b='123'\n",
    "len(b)"
   ]
  },
  {
   "cell_type": "code",
   "execution_count": 18,
   "metadata": {},
   "outputs": [
    {
     "name": "stdout",
     "output_type": "stream",
     "text": [
      "[0, 1, 2]\n"
     ]
    }
   ],
   "source": [
    "a=[1,2]\n",
    "a.insert(0,0)\n",
    "print(a)"
   ]
  },
  {
   "cell_type": "code",
   "execution_count": 14,
   "metadata": {},
   "outputs": [
    {
     "name": "stdout",
     "output_type": "stream",
     "text": [
      "[1, 10, 9]\n"
     ]
    }
   ],
   "source": [
    "a=map(lambda x,y:x+y,[1,1,0],[0,9,9])\n",
    "print(list(a))"
   ]
  },
  {
   "cell_type": "code",
   "execution_count": null,
   "metadata": {},
   "outputs": [],
   "source": [
    "# coding=gbk\n",
    " \n",
    "v1 = [21, 34, 45]\n",
    "v2 = [55, 25, 77]\n",
    " \n",
    "#v = v2 - v1\t\t\t# Error: TypeError: unsupported operand type(s) for -: 'list' and 'list'\n",
    "v = list(map(lambda x: x[0]-x[1], zip(v2, v1)))\n",
    "print(\"%s\\n%s\\n%s\" %(v1, v2, v))\n",
    "————————————————\n",
    "版权声明：本文为CSDN博主「JoeBlackzqq」的原创文章，遵循 CC 4.0 BY-SA 版权协议，转载请附上原文出处链接及本声明。\n",
    "原文链接：https://blog.csdn.net/JoeBlackzqq/article/details/7385333"
   ]
  },
  {
   "cell_type": "code",
   "execution_count": 20,
   "metadata": {},
   "outputs": [
    {
     "ename": "TypeError",
     "evalue": "can only concatenate str (not \"int\") to str",
     "output_type": "error",
     "traceback": [
      "\u001b[1;31m---------------------------------------------------------------------------\u001b[0m",
      "\u001b[1;31mTypeError\u001b[0m                                 Traceback (most recent call last)",
      "\u001b[1;32m<ipython-input-20-14ef1cef996f>\u001b[0m in \u001b[0;36m<module>\u001b[1;34m\u001b[0m\n\u001b[1;32m----> 1\u001b[1;33m \u001b[0mint\u001b[0m\u001b[1;33m(\u001b[0m\u001b[1;34m'9'\u001b[0m\u001b[1;33m+\u001b[0m\u001b[1;36m1\u001b[0m\u001b[1;33m)\u001b[0m\u001b[1;33m\u001b[0m\u001b[1;33m\u001b[0m\u001b[0m\n\u001b[0m",
      "\u001b[1;31mTypeError\u001b[0m: can only concatenate str (not \"int\") to str"
     ]
    }
   ],
   "source": [
    "class Solution(object):\n",
    "    def addTwoNumbers(self, l1, l2):\n",
    "        \"\"\"\n",
    "        :type l1: ListNode\n",
    "        :type l2: ListNode\n",
    "        :rtype: ListNode\n",
    "        \"\"\"\n",
    "        #把linked转化为array\n",
    "        c1=1\n",
    "        l1array=[]\n",
    "        while l1!=None:\n",
    "            l1array.append(l1.val*c1)\n",
    "            l1=l1.next\n",
    "            c1*=10\n",
    "        c2=1\n",
    "        l2array=[]\n",
    "        while l2!=None:\n",
    "            l2array.append(l2.val*c2)\n",
    "            l2=l2.next\n",
    "            c2*=10\n",
    "        #把array相加\n",
    "        res=list(str(sum(l1array)+sum(l2array)))[::-1]\n",
    "        length=len(res)\n",
    "        \n",
    "        #初始化Linkedres\n",
    "        dumhead=ListNode(0)\n",
    "        Linkedres=ListNode(None)\n",
    "        dumhead.next=Linkedres\n",
    "        for i in range(length-1):\n",
    "            Linkedres.next=ListNode(None)\n",
    "            Linkedres=Linkedres.next\n",
    "        \n",
    "        #初始化新的head\n",
    "        head=dumhead.next\n",
    "        dum=ListNode(0)\n",
    "        dum.next=head\n",
    "        #把res填入为linked list\n",
    "        for i in range(length):\n",
    "            head.val=res[i]\n",
    "            head=head.next\n",
    "        \n",
    "        #return\n",
    "        return dum.next"
   ]
  },
  {
   "cell_type": "code",
   "execution_count": 21,
   "metadata": {},
   "outputs": [
    {
     "data": {
      "text/plain": [
       "[1, 2, 3, 4]"
      ]
     },
     "execution_count": 21,
     "metadata": {},
     "output_type": "execute_result"
    }
   ],
   "source": []
  },
  {
   "cell_type": "code",
   "execution_count": null,
   "metadata": {},
   "outputs": [],
   "source": []
  }
 ],
 "metadata": {
  "kernelspec": {
   "display_name": "Python 3",
   "language": "python",
   "name": "python3"
  },
  "language_info": {
   "codemirror_mode": {
    "name": "ipython",
    "version": 3
   },
   "file_extension": ".py",
   "mimetype": "text/x-python",
   "name": "python",
   "nbconvert_exporter": "python",
   "pygments_lexer": "ipython3",
   "version": "3.7.1"
  }
 },
 "nbformat": 4,
 "nbformat_minor": 2
}
