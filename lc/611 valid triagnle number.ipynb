{
 "cells": [
  {
   "cell_type": "code",
   "execution_count": null,
   "metadata": {},
   "outputs": [],
   "source": [
    "class Solution(object):\n",
    "    def triangleNumber(self, nums):\n",
    "        \"\"\"\n",
    "        :type nums: List[int]\n",
    "        :rtype: int\n",
    "        \"\"\"\n",
    "        op=0\n",
    "        nums.sort(reverse = True)\n",
    "        for i in range(len(nums)-2):\n",
    "            j,k=i+1,len(nums)-1\n",
    "            while j<k:#一定不要忘！！！要在for里也有判断条件\n",
    "                if nums[j]+nums[k]>nums[i] and abs(nums[j]-nums[k])<nums[i]:\n",
    "                    op+=k-j\n",
    "                    j+=1\n",
    "                else:\n",
    "                    k-=1\n",
    "        return op"
   ]
  },
  {
   "cell_type": "code",
   "execution_count": null,
   "metadata": {},
   "outputs": [],
   "source": [
    "思路和sum 3sum 一样的，用two pointer"
   ]
  }
 ],
 "metadata": {
  "kernelspec": {
   "display_name": "Python 3",
   "language": "python",
   "name": "python3"
  },
  "language_info": {
   "codemirror_mode": {
    "name": "ipython",
    "version": 3
   },
   "file_extension": ".py",
   "mimetype": "text/x-python",
   "name": "python",
   "nbconvert_exporter": "python",
   "pygments_lexer": "ipython3",
   "version": "3.7.1"
  }
 },
 "nbformat": 4,
 "nbformat_minor": 2
}
