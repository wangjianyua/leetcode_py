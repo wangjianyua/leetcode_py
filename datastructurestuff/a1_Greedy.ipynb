{
 "cells": [
  {
   "cell_type": "markdown",
   "metadata": {},
   "source": [
    "贪心算法\n",
    "\n",
    "贪心算法（又称贪婪算法）是指，在对问题求解时，总是做出在当前看来是最好的选择。也就是说，不从整体最优上加以考虑，他所做出的是在某种意义上的局部最优解。\n",
    "贪心算法不是对所有问题都能得到整体最优解，关键是贪心策略的选择，选择的贪心策略必须具备无后效性，即某个状态以前的过程不会影响以后的状态，只与当前状态有关。\n",
    "基本思路\n",
    "\n",
    "    建立数学模型来描述问题；\n",
    "    把求解的问题分成若干个子问题；\n",
    "    对每一子问题求解，得到子问题的局部最优解；\n",
    "    把子问题的解局部最优解合成原来解问题的一个解。\n",
    "\n",
    "算法实现\n",
    "\n",
    "    从问题的某个初始解出发。\n",
    "    采用循环语句，当可以向求解目标前进一步时，就根据局部最优策略，得到一个部分解，缩小问题的范围或规模。\n",
    "    将所有部分解综合起来，得到问题的最终解。\n",
    "\n",
    "作者：致Great\n",
    "链接：https://www.jianshu.com/p/50f1d4e0555c"
   ]
  },
  {
   "cell_type": "code",
   "execution_count": 4,
   "metadata": {},
   "outputs": [
    {
     "name": "stdout",
     "output_type": "stream",
     "text": [
      "7\n"
     ]
    }
   ],
   "source": [
    "#122. Best Time to Buy and Sell Stock II\n",
    "def maxProfit(prices):\n",
    "    \"\"\"\n",
    "    :type prices: List[int]\n",
    "    :rtype: int\n",
    "    \"\"\"\n",
    "    profit=0\n",
    "    for i in range(1,len(prices)):\n",
    "        if prices[i]>prices[i-1]:\n",
    "            profit=profit+prices[i]-prices[i-1]\n",
    "    return profit\n",
    "\n",
    "if __name__ == \"__main__\":\n",
    "    prices=[7,1,5,3,6,4]\n",
    "    print(maxProfit(prices))"
   ]
  },
  {
   "cell_type": "code",
   "execution_count": null,
   "metadata": {},
   "outputs": [],
   "source": [
    "#392 is subsequence\n",
    "def isSubsequence(s, t):\n",
    "    \"\"\"\n",
    "    :type s: str\n",
    "    :type t: str\n",
    "    :rtype: bool\n",
    "    \"\"\"\n",
    "    a=0\n",
    "    i,j=0,0\n",
    "    while i < len(s) and j < len(t):\n",
    "        if s[i] == t[j]:\n",
    "            i += 1\n",
    "        j += 1\n",
    "    return i==len(s)\n",
    "\n",
    "if __name__ == \"__main__\":\n",
    "    s=\"acb\"\n",
    "    t=\"ahbgdc\"\n",
    "    isSubsequence(s, t)\n",
    "\n",
    "\"\"\"\n",
    "for i in range(len(s)):\n",
    "    for j in range(len(t)):\n",
    "        if s[i]==t[j]:\n",
    "            a+=1\n",
    "#这个是错的，因为for的话循环所有，下次写循环注意while，可以逐个iter\n",
    "\"\"\"\n",
    "\n",
    "\"\"\"\n",
    "t = iter(t)\n",
    "    return all(c in t for c in s)\n",
    "用iter，保证t按顺序iter，不太理解\n",
    "\"\"\"\n"
   ]
  },
  {
   "cell_type": "code",
   "execution_count": null,
   "metadata": {},
   "outputs": [],
   "source": [
    "#455. Assign Cookies\n",
    "def findContentChildren(g, s):\n",
    "    \"\"\"\n",
    "    :type g: List[int],child\n",
    "    :type s: List[int],cookie\n",
    "    :rtype: int\n",
    "    \"\"\"\n",
    "\n",
    "    g.sort()\n",
    "    s.sort()\n",
    "    i, j = 0, 0\n",
    "    while i < len(g) and j < len(s):\n",
    "        if s[j] >= g[i]:\n",
    "            i += 1\n",
    "        j += 1\n",
    "    return i"
   ]
  },
  {
   "cell_type": "code",
   "execution_count": null,
   "metadata": {},
   "outputs": [],
   "source": []
  }
 ],
 "metadata": {
  "kernelspec": {
   "display_name": "Python 3",
   "language": "python",
   "name": "python3"
  },
  "language_info": {
   "codemirror_mode": {
    "name": "ipython",
    "version": 3
   },
   "file_extension": ".py",
   "mimetype": "text/x-python",
   "name": "python",
   "nbconvert_exporter": "python",
   "pygments_lexer": "ipython3",
   "version": "3.7.1"
  }
 },
 "nbformat": 4,
 "nbformat_minor": 2
}
