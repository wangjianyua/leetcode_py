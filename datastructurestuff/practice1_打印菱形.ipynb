{
 "cells": [
  {
   "cell_type": "code",
   "execution_count": 1,
   "metadata": {},
   "outputs": [
    {
     "name": "stdout",
     "output_type": "stream",
     "text": [
      "  *\n",
      " ***\n",
      "*****\n",
      " ***\n",
      "  *\n"
     ]
    }
   ],
   "source": [
    "#打印金字塔\n",
    "n=3#边长\n",
    "for i in range(n):\n",
    "    print ((n-1-i)*' '+(2*i+1)*'*')#转化为数学问题\n",
    "for i in range(n-1):\n",
    "    print ((i+1)*' '+(2*n-3-2*i)*'*')"
   ]
  },
  {
   "cell_type": "code",
   "execution_count": null,
   "metadata": {},
   "outputs": [],
   "source": [
    "#空心菱形一样的，有数学问题解决"
   ]
  },
  {
   "cell_type": "code",
   "execution_count": 2,
   "metadata": {},
   "outputs": [
    {
     "name": "stdout",
     "output_type": "stream",
     "text": [
      "1111"
     ]
    }
   ],
   "source": [
    "#注意print里面\n",
    "for i in range(4):\n",
    "    print('1',end='')#不换行打印"
   ]
  },
  {
   "cell_type": "code",
   "execution_count": 4,
   "metadata": {},
   "outputs": [
    {
     "name": "stdout",
     "output_type": "stream",
     "text": [
      "1\n",
      "\n",
      "1\n",
      "\n",
      "1\n",
      "\n",
      "1\n",
      "\n"
     ]
    }
   ],
   "source": [
    "#切换换行与不换行\n",
    "for i in range(4):\n",
    "    print('1',end='')#不换行打印\n",
    "    print()#强制换行\n",
    "#或者直接print('1',end='\\n')，直接换行打印"
   ]
  },
  {
   "cell_type": "code",
   "execution_count": null,
   "metadata": {},
   "outputs": [],
   "source": [
    "#零星中还有一个问题是巧用空格\n",
    "print('*  ',end='  ')等来更改样式"
   ]
  }
 ],
 "metadata": {
  "kernelspec": {
   "display_name": "Python 3",
   "language": "python",
   "name": "python3"
  },
  "language_info": {
   "codemirror_mode": {
    "name": "ipython",
    "version": 3
   },
   "file_extension": ".py",
   "mimetype": "text/x-python",
   "name": "python",
   "nbconvert_exporter": "python",
   "pygments_lexer": "ipython3",
   "version": "3.7.1"
  }
 },
 "nbformat": 4,
 "nbformat_minor": 2
}
