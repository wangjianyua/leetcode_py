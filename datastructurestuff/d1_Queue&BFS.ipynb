{
 "cells": [
  {
   "cell_type": "code",
   "execution_count": null,
   "metadata": {},
   "outputs": [],
   "source": [
    "\"\"\"\n",
    "Insights\n",
    "\n",
    "After watching the animation above, let's answer the following questions:\n",
    "\n",
    "1. What is the processing order of the nodes?\n",
    "\n",
    "In the first round, we process the root node. \n",
    "In the second round, we process the nodes next to the root node; \n",
    "in the third round, we process the nodes which are two steps from the root node; so on and so forth.\n",
    "\n",
    "Similar to tree's level-order traversal, the nodes closer to the root node will be traversed earlier.\n",
    "\n",
    "If a node X is added to the queue in the kth round, \n",
    "the length of the shortest path between the root node and X is exactly k. \n",
    "That is to say, you are already in the shortest path the first time you find the target node.\n",
    "\n",
    "2. What is the enqueue and dequeue order of the queue?\n",
    "\n",
    "As shown in the animation above, we first enqueue the root node. \n",
    "Then in each round, we process the nodes which are already in the queue one by one and add all their neighbors to the queue. \n",
    "It is worth noting that the newly-added nodes will not be traversed immediately but will be processed in the next round.\n",
    "\n",
    "The processing order of the nodes is the exact same order as how they were added to the queue, \n",
    "which is First-in-First-out (FIFO). That's why we use a queue in BFS.\n",
    "\n",
    "\"\"\""
   ]
  },
  {
   "cell_type": "code",
   "execution_count": null,
   "metadata": {},
   "outputs": [],
   "source": [
    "#wall and gates\n",
    "#蠢法，重新定义queue\n",
    "from collections import deque\n",
    "def wallsAndGates(rooms):\n",
    "    if not rooms:#if room empty(none,[])，not room in if return to true. then return -1 is exed, system fail.\n",
    "        return\n",
    "        \n",
    "    q=deque()\n",
    "    distance=0\n",
    "    row=len(rooms)#row\n",
    "    col=len(rooms[0])#col\n",
    "    for i in range(row):\n",
    "        for j in range(col):\n",
    "            if rooms[i][j]==0: #if meet gates\n",
    "                q.append((i,j))#add index i,j to queue\n",
    "    directions=((-1,0),(1,0),(0,1),(0,-1))#left,right,up,down    \n",
    "    \n",
    "    while q:\n",
    "        #when q is not empty(have appended gates already)\n",
    "        #start BFS\n",
    "        \n",
    "        q1=deque()#set initial, and reset to 0 each time \n",
    "        distance+=1\n",
    "        \n",
    "        for t in range(len(q)):\n",
    "            x,y=q.popleft()#indexes of gate in this iter\n",
    "            for d in directions:\n",
    "                dx,dy=d#get indexs\n",
    "                nx=x+dx\n",
    "                ny=y+dy\n",
    "                if 0<=nx<row and 0<=ny<col and rooms[nx][ny] == 2147483647:#check if in domain and if reach any room\n",
    "                    rooms[nx][ny]=distance#change room number to distance\n",
    "                    q1.append((nx,ny))#get a new que, ready for next search\n",
    "        q=q1#after searching all neighbors of gates, start next search.不用这个，queue的话是动态的，每次加减自动给变长度便元素"
   ]
  },
  {
   "cell_type": "code",
   "execution_count": null,
   "metadata": {},
   "outputs": [],
   "source": [
    "#wall and gates\n",
    "#好办法！！，用deque创建的que是动态的，可以同时添加减少\n",
    "from collections import deque\n",
    "\n",
    "def wallsAndGates(rooms):\n",
    "    if not rooms:  # if room empty(none,[])，not room in if return to true. then return -1 is exed, system fail.\n",
    "        return \n",
    "\n",
    "    q = deque()\n",
    "    distance = 0\n",
    "    row = len(rooms)  # row\n",
    "    col = len(rooms[0])  # col\n",
    "    for i in range(row):\n",
    "        for j in range(col):\n",
    "            if rooms[i][j] == 0:  # if meet gates\n",
    "                q.append((i, j))  # add index i,j to queue\n",
    "                \n",
    "    directions = ((-1, 0), (1, 0), (0, 1), (0, -1))  # left,right,up,down\n",
    "\n",
    "    while q:##非空时#非常重要！！！！这里不需要重新定义q1，因为下面\n",
    "\n",
    "        distance += 1\n",
    "        \n",
    "        for t in range(len(q)):\n",
    "            #接上面！！！！！因为这里第一次len(q)=2，只运行两次，无论在循环中怎么改变q，都只运行两次\n",
    "            #q.append的新值作为下一次的循环，比如3个新值，下一次循环3。不管在循环中append几个，只跑三次。\n",
    "            #巧妙！记住这个，防止犯错\n",
    "            \n",
    "            x, y = q.popleft()  # 出最左边的，既这次要遍历的点\n",
    "            for d in directions:\n",
    "                nx, ny = x+d[0], y+d[-1]\n",
    "                if 0 <= nx < row and 0 <= ny < col and rooms[nx][ny] == 2147483647:  # check if in domain and if reach any room\n",
    "                    rooms[nx][ny] = distance  # change room number to distance\n",
    "                    q.append((nx, ny))  # get a new que, ready for next search"
   ]
  },
  {
   "cell_type": "code",
   "execution_count": null,
   "metadata": {},
   "outputs": [],
   "source": [
    "rooms=[[2147483647,-1,0,2147483647],[2147483647,2147483647,2147483647,-1],[2147483647,-1,2147483647,-1],[0,-1,2147483647,2147483647]]\n",
    "wallsAndGates(rooms)\n",
    "print(rooms)"
   ]
  },
  {
   "cell_type": "code",
   "execution_count": null,
   "metadata": {},
   "outputs": [],
   "source": [
    "#island BFS\n",
    "from collections import deque\n",
    "\n",
    "def numIslands(self, grid):\n",
    "    if not grid:\n",
    "        return 0#这里return 0是因为直接return 0个岛。不指定的话return none\n",
    "    islands = 0 \n",
    "    for i in range(len(grid)):\n",
    "        for j in range(len(grid[0])):\n",
    "            if grid[i][j] ==\"1\":  #全局搜索，发现1，从这个1开始BFS\n",
    "                self.bfs(grid, i, j) #输入这个1的坐标与grid matrix，做bfs，把这个island全置为0，然后计数加一。继续for，再找下一个。\n",
    "                islands +=1 \n",
    "    return islands\n",
    "\n",
    "def bfs(self, grid, x, y):\n",
    "    queue = deque([(x, y)])#以这个1坐标为基础生成queue\n",
    "    grid[x][y] = '0' #置为0(因为已经遍历)\n",
    "    while queue: #当queue不为空时\n",
    "        x, y = queue.popleft() #第一次，弹出一个。第二次，弹出valid的。\n",
    "        for delta_x, delta_y in [(1, 0), (0, -1), (-1, 0), (0, 1)]: #四个方向的索引\n",
    "            next_x = x + delta_x #更新x\n",
    "            next_y = y + delta_y #更新y\n",
    "            if self.is_valid(grid, next_x, next_y) and grid[next_x][next_y]=='1':  #索引在范围内且值等于1的位置索引 \n",
    "                queue.append((next_x, next_y)) #把这个索引在范围内且值等于1的位置索引放入queue中\n",
    "                grid[next_x][next_y] = '0' #然后把新坐标置0，因为已经放入queue中，和最开始初始化一样。\n",
    "\n",
    "def is_valid(self, grid, x, y): #查看是否落在grid外，落在外面返回false，落在里面返回这个点值设为1\n",
    "    n, m = len(grid), len(grid[0])\n",
    "    if n> x >= 0 and  m> y >= 0:#在grid里,returntrue\n",
    "        return True\n",
    "    return False #不在的话return false，上面的if直接失效。重点！！！！如果false，不用定义返回值，上面的for直接循环下一个。\n",
    "\n",
    "\n",
    "#这次的调试错误：\n",
    "#1 grid[next_x][next_y]=='1'写成了grid[next_x，next_y]=='1'，逻辑觉得没错的时候检查这些细节"
   ]
  },
  {
   "cell_type": "code",
   "execution_count": null,
   "metadata": {},
   "outputs": [],
   "source": [
    "#BFS,7行bfs，用map,递归\n",
    "def numIslands(self, grid):\n",
    "    def sink(i, j):\n",
    "        if 0 <= i < len(grid) and 0 <= j < len(grid[i]) and grid[i][j] == '1':\n",
    "            grid[i][j] = '0'\n",
    "            map(sink, (i+1, i-1, i, i), (j, j, j+1, j-1))   #可以在自己的函数中调用自己，递归\n",
    "            return 1\n",
    "        return 0\n",
    "    return sum(sink(i, j) for i in range(len(grid)) for j in range(len(grid[i])))"
   ]
  },
  {
   "cell_type": "code",
   "execution_count": null,
   "metadata": {},
   "outputs": [],
   "source": [
    "#island DFS  别人的\n",
    "#不懂这个为什么是DFS\n",
    "class Solution(object):\n",
    "    def is_valid(self, grid, r, c):\n",
    "        m, n = len(grid), len(grid[0])\n",
    "        if r < 0 or c < 0 or r >= m or c >= n:\n",
    "            return False\n",
    "        return True\n",
    "\n",
    "    def numIslandsDFS(self, grid):\n",
    "        \"\"\"\n",
    "        :type grid: List[List[str]]\n",
    "        :rtype: int\n",
    "        \"\"\"\n",
    "        if not grid or not grid[0]:\n",
    "            return 0\n",
    "\n",
    "        m, n = len(grid), len(grid[0])\n",
    "        count = 0\n",
    "        for i in xrange(m):\n",
    "            for j in xrange(n):\n",
    "                if grid[i][j] == '1':\n",
    "                    self.dfs(grid, i, j)\n",
    "                    count += 1\n",
    "        return count\n",
    "\n",
    "    def dfs(self, grid, r, c):\n",
    "        grid[r][c] = '0'\n",
    "        directions = [(0,1), (0,-1), (-1,0), (1,0)]\n",
    "        for d in directions:\n",
    "            nr, nc = r + d[0], c + d[1]    \n",
    "            if self.is_valid(grid, nr, nc) and grid[nr][nc] == '1':\n",
    "                self.dfs(grid, nr, nc)\n",
    "\n"
   ]
  },
  {
   "cell_type": "code",
   "execution_count": 10,
   "metadata": {},
   "outputs": [],
   "source": [
    "#Open the Lock \n",
    "from collections import deque\n",
    "def openLock(deadends, target):\n",
    "    \"\"\"\n",
    "    :type deadends: List[str]\n",
    "    :type target: str\n",
    "    :rtype: int\n",
    "    \"\"\"\n",
    "    dead_set = set(deadends)\n",
    "    queue = deque([('0000', 0)])\n",
    "    visited = set('0000')\n",
    "\n",
    "    while queue:#不queue是空的时候，while queue当queue不为空时===while true\n",
    "        (string, steps) = queue.popleft()\n",
    "        if string == target:\n",
    "            return steps #这个return在前，如果判断这个if，先return他\n",
    "        elif string in dead_set:\n",
    "            continue #如果下面新加进来的string在ds中，直接跳出这个循环（（既跳过这个string后面的bfs)continue的作用），进入下一个循环(判断下一个string)\n",
    "        for i in range(4):\n",
    "            digit = int(string[i])\n",
    "            for move in [-1, 1]: #bfs，这里不是之前的上下左右，是-1 +1，写一个list代替\n",
    "                new_digit = (digit + move) % 10 #9+1=0\n",
    "                new_string = string[:i]+str(new_digit)+string[i+1:]\n",
    "                if new_string not in visited:#如果没viist过\n",
    "                    visited.add(new_string)\n",
    "                    queue.append((new_string, steps+1))\n",
    "    return -1#如果所有都visit了，返回-1"
   ]
  },
  {
   "cell_type": "code",
   "execution_count": 11,
   "metadata": {},
   "outputs": [
    {
     "data": {
      "text/plain": [
       "6"
      ]
     },
     "execution_count": 11,
     "metadata": {},
     "output_type": "execute_result"
    }
   ],
   "source": [
    "deadends = [\"0201\",\"0101\",\"0102\",\"1212\",\"2002\"]\n",
    "target = \"0202\"\n",
    "openLock(deadends, target)"
   ]
  },
  {
   "cell_type": "code",
   "execution_count": 12,
   "metadata": {},
   "outputs": [
    {
     "data": {
      "text/plain": [
       "-1"
      ]
     },
     "execution_count": 12,
     "metadata": {},
     "output_type": "execute_result"
    }
   ],
   "source": [
    "deadends = [\"0000\"]\n",
    "target = \"8888\"\n",
    "openLock(deadends, target)"
   ]
  },
  {
   "cell_type": "code",
   "execution_count": null,
   "metadata": {},
   "outputs": [],
   "source": [
    "#perfect cube\n",
    "\n",
    "\n",
    "#自己做，没做出来，没找到方法更新rest，还是思路不好\n",
    "from collections import deque\n",
    "def numSquares(self, n):\n",
    "    \"\"\"\n",
    "    :type n: int\n",
    "    :rtype: int\n",
    "    \"\"\"\n",
    "    if n<1:\n",
    "        return \n",
    "    if n<2:\n",
    "        return n\n",
    "    \n",
    "    que=deque()\n",
    "    count=0\n",
    "    \n",
    "    #generate list of square numbers and initialize q\n",
    "    l=[]\n",
    "    a = list(map(lambda x:x**2,map(lambda n:n+1,list(range(n)))))\n",
    "    for i in range(n): #0 1 2\n",
    "        if a[i]<=n: \n",
    "            l.append(a[i])  #注意，不能在循环中带索引pop或del，会导致索引值出错。比如1 4 9,在循环中删除4，则9变为i=1，这是没有i=2。解决这个，协议的新的list,append\n",
    "    for i in l[::-1]: #reverse l, highest first,here assume n=9,l[::-1]=9 4 1.注意highest肯定小于等于 n\n",
    "        que.append(i)\n",
    "        \n",
    "    while que:\n",
    "        highest=que.pop()#pop out highest number in suqare numbers, here 9\n",
    "        count+=1\n",
    "        rest=n#第一次循环是一共的总数\n",
    "        for i in range(n)\n",
    "            if rest==highest:\n",
    "                return highest\n",
    "            rest=n-highest\n",
    "            que.append(rest)\n",
    "            visited=list(highest)\n",
    "        \n",
    "def check_rest(pre_sum,value):\n",
    "    \n",
    "                \n",
    "#这个用queue思路不对，queue最好用在一个遍历过的东西需要完全消失时，既把queue过的记为0        \n",
    "            \n",
    "            \n",
    "        \n",
    "        \n",
    "    \n",
    "    \n"
   ]
  },
  {
   "cell_type": "code",
   "execution_count": 48,
   "metadata": {},
   "outputs": [
    {
     "name": "stdout",
     "output_type": "stream",
     "text": [
      "[1, 4, 9]\n"
     ]
    }
   ],
   "source": [
    "#generate list of square numbers\n",
    "n = 9\n",
    "a = list(range(n))#创建0 - n-1 list\n",
    "a = list(map(lambda n:n+1,a)) #list中每个数字+1\n",
    "a = list(map(lambda x:x**2,a ))# list中每个数字平方\n",
    "print(a)\n",
    "#map : map(fun, iter), iter可以是一个list，等等\n",
    "#lamda : lamda argument: expression\n",
    "\n",
    "#上面这个逻辑不对，如果123456，应该生成square number 1 4即可，而上面思路生成了1 4 9 16 25 36\n",
    "#改写：用lambada改写太麻烦，加入while\n",
    "n = 9\n",
    "l=[]\n",
    "a = list(range(n))#创建0 - n-1 list\n",
    "a = list(map(lambda n:n+1,a)) #list中每个数字+1，得到0-n\n",
    "a = list(map(lambda x:x**2,a))# list中每个数字平方, 1 4 9\n",
    "for i in range(n): #0 1 2\n",
    "    if a[i]<=n: \n",
    "        l.append(a[i])   #注意，不能在循环中带索引pop或del，会导致索引值出错。比如1 4 9,在循环中删除4，则9变为i=1，这是没有i=2。解决这个，协议的新的list,append\n",
    "print(l) #1 4 9\n",
    "\n",
    "#注意deque中\n",
    "a=deque()\n",
    "a.append(l)\n",
    "print(a) #deque([[1, 4, 9]]),deque中只有一个数，a[0]\n",
    "a.popleft()\n",
    "print(a) #派出一个就空了，deque([])\n",
    "\n",
    "#改进\n",
    "b=deque()\n",
    "for r in l:\n",
    "        b.append(r)\n",
    "print(b)\n",
    "b.popleft()\n",
    "print(b)"
   ]
  },
  {
   "cell_type": "code",
   "execution_count": 83,
   "metadata": {},
   "outputs": [
    {
     "name": "stdout",
     "output_type": "stream",
     "text": [
      "[1]\n"
     ]
    }
   ],
   "source": [
    "#square，这个方法用rest，每次比较做减法余数\n",
    "def numSquares(n):\n",
    "    if n < 2:\n",
    "        return n\n",
    "    lst = []\n",
    "    i = 1\n",
    "    while i * i <= n:\n",
    "        lst.append( i * i )\n",
    "        i += 1\n",
    "    cnt = 0\n",
    "    \n",
    "    toCheck = {n}#初始化set，像你ransac初始化inlierratio一样，无所谓，后面会改，这个条件只需要保证下面的循环开始\n",
    "    \n",
    "    while toCheck:\n",
    "        cnt += 1\n",
    "        temp = set()#每次置0，相当于排出上一层\n",
    "        for x in toCheck: #要写成for，因为第一次是一个，后面都是好多个\n",
    "            #从n开始（可以理解为第一次没减，n-0=n）；。第二次循环（做一次减法）为n-9=1, n-4=6, n-1=9三个数。 \n",
    "            #第三次为1-1=0，跳出for y in lst:循环，然后temp被置0，while中为false，直接返回cnt\n",
    "            for y in lst:\n",
    "                if x == y:\n",
    "                    return cnt\n",
    "                if x < y:\n",
    "                    break\n",
    "                temp.add(x-y) #中间加了一个temp。否则直接设tocheck=为每次的rest，则一直不为0，无法结束循环\n",
    "        toCheck = temp\n",
    "\n",
    "    return cnt\n",
    "\n",
    "#我没写出来，1是因为用queue，复杂了问题。\n",
    "#2是写循环找不到跳出循环的条件，这里的tocheck就是我想设的rest，要写成for循环相当于bfs所有节点，每个循环后更新可行的节点\n",
    "#3是，里面加了temp用来缓冲和重置,每次检查rest(check)把他记为0，这样反而省事\n",
    "#4，toCheck = {n}定义为set，运用去重特性，这里用不到，但是数量级大的时候"
   ]
  },
  {
   "cell_type": "code",
   "execution_count": 53,
   "metadata": {},
   "outputs": [
    {
     "name": "stdout",
     "output_type": "stream",
     "text": [
      "4\n"
     ]
    }
   ],
   "source": [
    "#square，这个方法每次累计：\n",
    "def numSquares(n):\n",
    "    \"\"\"\n",
    "    :type n: int\n",
    "    :rtype: int\n",
    "    \"\"\"\n",
    "\n",
    "    q1 = [0]\n",
    "    q2 = []\n",
    "    level = 0\n",
    "    visited = [False] * (n+1)\n",
    "    while True:\n",
    "        level += 1\n",
    "        for v in q1:\n",
    "            i = 0\n",
    "            while True:\n",
    "                i += 1\n",
    "                t = v + i * i\n",
    "                if t == n: return level\n",
    "                if t > n: break\n",
    "                if visited[t]: continue\n",
    "                q2.append(t)\n",
    "                visited[t] = True\n",
    "        q1 = q2\n",
    "        q2 = []\n",
    "\n",
    "    return 0"
   ]
  },
  {
   "cell_type": "code",
   "execution_count": 85,
   "metadata": {},
   "outputs": [
    {
     "data": {
      "text/plain": [
       "[0, 1, 2]"
      ]
     },
     "execution_count": 85,
     "metadata": {},
     "output_type": "execute_result"
    }
   ],
   "source": [
    "#python生成0-n\n",
    "n=3\n",
    "list(range(3))#注意不能写list(range(1:n))，会报错invalid syntax"
   ]
  },
  {
   "cell_type": "code",
   "execution_count": 105,
   "metadata": {},
   "outputs": [
    {
     "name": "stdout",
     "output_type": "stream",
     "text": [
      "[1, 4, 9]\n",
      "deque([1, 4, 9])\n"
     ]
    },
    {
     "data": {
      "text/plain": [
       "9"
      ]
     },
     "execution_count": 105,
     "metadata": {},
     "output_type": "execute_result"
    }
   ],
   "source": [
    "n=9\n",
    "l=[]\n",
    "a = list(map(lambda x:x**2,map(lambda n:n+1,list(range(n)))))# list中每个数字平方, 1 4 9\n",
    "for i in range(n): #0 1 2\n",
    "    if a[i]<=n: \n",
    "        l.append(a[i])   #注意，不能在循环中带索引pop或del，会导致索引值出错。比如1 4 9,在循环中删除4，则9变为i=1，这是没有i=2。解决这个，协议的新的list,append\n",
    "print(l)\n",
    "b=deque()\n",
    "for r in l:\n",
    "        b.append(r)\n",
    "print(b)\n",
    "b.pop()"
   ]
  },
  {
   "cell_type": "code",
   "execution_count": 106,
   "metadata": {},
   "outputs": [
    {
     "data": {
      "text/plain": [
       "False"
      ]
     },
     "execution_count": 106,
     "metadata": {},
     "output_type": "execute_result"
    }
   ],
   "source": [
    "vi=[False]*3\n",
    "vi[1]"
   ]
  },
  {
   "cell_type": "code",
   "execution_count": 98,
   "metadata": {},
   "outputs": [
    {
     "name": "stdout",
     "output_type": "stream",
     "text": [
      "deque([])\n"
     ]
    }
   ],
   "source": [
    "print(a)"
   ]
  },
  {
   "cell_type": "code",
   "execution_count": null,
   "metadata": {},
   "outputs": [],
   "source": []
  }
 ],
 "metadata": {
  "kernelspec": {
   "display_name": "Python 3",
   "language": "python",
   "name": "python3"
  }
 },
 "nbformat": 4,
 "nbformat_minor": 2
}
