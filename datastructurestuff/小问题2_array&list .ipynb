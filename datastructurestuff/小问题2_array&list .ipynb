{
 "cells": [
  {
   "cell_type": "code",
   "execution_count": 2,
   "metadata": {},
   "outputs": [],
   "source": [
    "#一维array\n",
    "\n",
    "array = [1, 2, 5, 3, 6, 8, 4]"
   ]
  },
  {
   "cell_type": "code",
   "execution_count": 3,
   "metadata": {},
   "outputs": [
    {
     "data": {
      "text/plain": [
       "[3]"
      ]
     },
     "execution_count": 3,
     "metadata": {},
     "output_type": "execute_result"
    }
   ],
   "source": [
    "array[0:] #列出0以后的 [1, 2, 5, 3, 6, 8, 4]\n",
    "array[1:] #列出1以后的 [2, 5, 3, 6, 8, 4]\n",
    "array[:-1] #列出-1之前的 [1, 2, 5, 3, 6, 8]\n",
    "array[3:-3] #列出3到-3之间的  [3]\n",
    "array[2::] #[5, 3, 6, 8, 4] 从index 2（第三个（包含）开始输出。与arrray[2:]相同"
   ]
  },
  {
   "cell_type": "code",
   "execution_count": null,
   "metadata": {},
   "outputs": [],
   "source": [
    "array[::2] #[1, 5, 6, 4] 间隔一个输出\n",
    "array[::3] #[1, 3, 4] 间隔两个输出\n",
    "array[::4] #[1, 6] 间隔三个输出\n",
    "#总结，array[::k],间隔k-1个输出"
   ]
  },
  {
   "cell_type": "code",
   "execution_count": null,
   "metadata": {},
   "outputs": [],
   "source": [
    "#如果想让他们颠倒形成reverse函数的效果\n",
    "\n",
    "array[::-1] #[4, 8, 6, 3, 5, 2, 1] #倒着间隔一个输出\n",
    "array[::-2] #[4, 6, 5, 1] #倒着间隔两个输出"
   ]
  },
  {
   "cell_type": "code",
   "execution_count": 31,
   "metadata": {},
   "outputs": [],
   "source": [
    "#冒泡算法practice,可以直接用sort\n",
    "\n",
    "array = [1, 2, 5, 3, 6, 8, 4]\n",
    "for i in range(len(array) - 1, 0, -1):\n",
    "    #for i in range(len(array) - 1, 0, -1):这就是上边给的例子的第二条，我们替换下就成为range(6,1,-1)，(从第六个开始，倒叙到1，注意包含6不包含1)\n",
    "    #意思是从6到1间隔-1,也就是倒叙的range(2,7,1),随后把这些值循环赋给i，那么i的值将会是[6, 5, 4, 3, 2]\n",
    "    #print (i)\n",
    "    for j in range(0, i):\n",
    "        #print (j)\n",
    "        if array[j] > array[j + 1]:\n",
    "            array[j], array[j + 1] = array[j + 1], array[j]\n",
    "#print (array)"
   ]
  },
  {
   "cell_type": "code",
   "execution_count": 26,
   "metadata": {},
   "outputs": [
    {
     "name": "stdout",
     "output_type": "stream",
     "text": [
      "[None, None, None]\n"
     ]
    }
   ],
   "source": [
    "#创造指定长度list\n",
    "\n",
    "a=[0]*3\n",
    "print(a)"
   ]
  },
  {
   "cell_type": "code",
   "execution_count": 5,
   "metadata": {},
   "outputs": [
    {
     "name": "stdout",
     "output_type": "stream",
     "text": [
      "[0, 0, 0, 0, 0, 0, 0, 0, 0, 0]\n"
     ]
    }
   ],
   "source": [
    "#二维array,p3中用这个指定此形式List[List[int]]\n",
    "\n",
    "N = [[0]*10 for i in range(10)]#对于 10 行数据进行遍历，每行输出含有 10 个元素值为 0 的 list。\n",
    "#注意，这里是10个10个0的线性叠加，构造起来像是一维，其实是二维\n",
    "print(N[9][8])#可以这样调用"
   ]
  },
  {
   "cell_type": "code",
   "execution_count": 32,
   "metadata": {},
   "outputs": [],
   "source": [
    "#或者，np.array\n",
    "\n",
    "import numpy as np\n",
    "N = np.random.rand(4,3)"
   ]
  },
  {
   "cell_type": "code",
   "execution_count": 34,
   "metadata": {},
   "outputs": [
    {
     "name": "stdout",
     "output_type": "stream",
     "text": [
      "4\n",
      "3\n"
     ]
    }
   ],
   "source": [
    "#二维行列判断\n",
    "\n",
    "print(len(N))#返回行\n",
    "print(len(N[0]))#返回列"
   ]
  },
  {
   "cell_type": "code",
   "execution_count": 43,
   "metadata": {},
   "outputs": [
    {
     "name": "stdout",
     "output_type": "stream",
     "text": [
      "11 2\n"
     ]
    }
   ],
   "source": [
    "#数列新元素封装解包\n",
    "\n",
    "a=[]\n",
    "a.append([11,2])#封装，list与tuple均可以，但tuple immutable，稳定性高？？\n",
    "#注意，append一次一个元素，想存11和2，必须先封装，用再解封装\n",
    "q,w=a.pop()#解封装\n",
    "print(q,w)#11 2\n"
   ]
  },
  {
   "cell_type": "code",
   "execution_count": 45,
   "metadata": {},
   "outputs": [
    {
     "name": "stdout",
     "output_type": "stream",
     "text": [
      "-1 0\n"
     ]
    }
   ],
   "source": [
    "a=(-1,0)\n",
    "u,i=a\n",
    "print(u,i)"
   ]
  },
  {
   "cell_type": "code",
   "execution_count": 52,
   "metadata": {},
   "outputs": [
    {
     "name": "stdout",
     "output_type": "stream",
     "text": [
      "-1 0\n",
      "1 0\n",
      "0 1\n",
      "0 -1\n"
     ]
    }
   ],
   "source": [
    "directions=((-1,0),(1,0),(0,1),(0,-1))\n",
    "for d in directions:\n",
    "    x,y=d\n",
    "    print(x,y)\n",
    "#一样的"
   ]
  },
  {
   "cell_type": "code",
   "execution_count": 53,
   "metadata": {},
   "outputs": [
    {
     "name": "stdout",
     "output_type": "stream",
     "text": [
      "-1 0\n",
      "1 0\n",
      "0 1\n",
      "0 -1\n"
     ]
    }
   ],
   "source": [
    "directions=((-1,0),(1,0),(0,1),(0,-1))\n",
    "for d in range(len(directions)):\n",
    "    x,y=directions[d]\n",
    "    print(x,y)\n",
    "#一样的"
   ]
  },
  {
   "cell_type": "code",
   "execution_count": 49,
   "metadata": {},
   "outputs": [
    {
     "name": "stdout",
     "output_type": "stream",
     "text": [
      "2\n"
     ]
    }
   ],
   "source": [
    "a=2\n",
    "for i in range(2):\n",
    "    a=a^2\n",
    "print(a)"
   ]
  },
  {
   "cell_type": "code",
   "execution_count": 4,
   "metadata": {},
   "outputs": [
    {
     "name": "stdout",
     "output_type": "stream",
     "text": [
      "[1, 2, 3, 1]\n"
     ]
    }
   ],
   "source": [
    "a=[1,2,3]\n",
    "a.append(1)\n",
    "print(a)"
   ]
  },
  {
   "cell_type": "code",
   "execution_count": null,
   "metadata": {},
   "outputs": [],
   "source": []
  }
 ],
 "metadata": {
  "kernelspec": {
   "display_name": "Python 3",
   "language": "python",
   "name": "python3"
  },
  "language_info": {
   "codemirror_mode": {
    "name": "ipython",
    "version": 3
   },
   "file_extension": ".py",
   "mimetype": "text/x-python",
   "name": "python",
   "nbconvert_exporter": "python",
   "pygments_lexer": "ipython3",
   "version": "3.7.1"
  }
 },
 "nbformat": 4,
 "nbformat_minor": 2
}
