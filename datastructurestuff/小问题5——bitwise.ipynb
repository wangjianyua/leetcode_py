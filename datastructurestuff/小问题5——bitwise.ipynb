{
 "cells": [
  {
   "cell_type": "code",
   "execution_count": null,
   "metadata": {},
   "outputs": [],
   "source": [
    "bitwise本质上是二进制运算\n",
    "按位与&（1|0=0，1|1=1，0|0=0）\n",
    "按位并|（1|0=1，1|1=1，0|0=0）\n",
    "按位异或^（1^0=1，0^1=1,1^1=0，0^0=0）(注意次方是**)\n",
    "按位反转~(1变0，0变1)\n",
    "左移运算<<(3<<2,11向左移动两位变为1100,即12)\n",
    "右移运算>>(3>>2,11向右移动两位变为0)"
   ]
  }
 ],
 "metadata": {
  "kernelspec": {
   "display_name": "Python 3",
   "language": "python",
   "name": "python3"
  },
  "language_info": {
   "codemirror_mode": {
    "name": "ipython",
    "version": 3
   },
   "file_extension": ".py",
   "mimetype": "text/x-python",
   "name": "python",
   "nbconvert_exporter": "python",
   "pygments_lexer": "ipython3",
   "version": "3.7.1"
  }
 },
 "nbformat": 4,
 "nbformat_minor": 2
}
