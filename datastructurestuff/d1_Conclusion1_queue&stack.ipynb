{
 "cells": [
  {
   "cell_type": "markdown",
   "metadata": {},
   "source": [
    "BFS&queue\n",
    "这里面利用queue先入先出的性质,bfs中对每个元素的所有子集先做遍历，做完一个元素遍历后把他排出，添加进他的level1的子集，重复以上直到找到。\n",
    "优点：能找到最短（相对的，dfs在deepest停止，比如A-B-C-G，但不是最短。若有bfs,可能有A-B-G）\n",
    "缺点：不能全遍历到"
   ]
  },
  {
   "cell_type": "code",
   "execution_count": null,
   "metadata": {},
   "outputs": [],
   "source": []
  }
 ],
 "metadata": {
  "kernelspec": {
   "display_name": "Python 3",
   "language": "python",
   "name": "python3"
  },
  "language_info": {
   "codemirror_mode": {
    "name": "ipython",
    "version": 3
   },
   "file_extension": ".py",
   "mimetype": "text/x-python",
   "name": "python",
   "nbconvert_exporter": "python",
   "pygments_lexer": "ipython3",
   "version": "3.7.1"
  }
 },
 "nbformat": 4,
 "nbformat_minor": 2
}
