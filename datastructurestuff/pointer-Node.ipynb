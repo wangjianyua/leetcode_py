{
 "cells": [
  {
   "cell_type": "code",
   "execution_count": null,
   "metadata": {},
   "outputs": [],
   "source": [
    "#Nodes are the foundations on which various other data structures linked lists and tress can be handled in python.\n",
    "#树和链表的基础"
   ]
  },
  {
   "cell_type": "code",
   "execution_count": 2,
   "metadata": {},
   "outputs": [],
   "source": [
    "class daynames:\n",
    "    def __init__(self, dataval=None):\n",
    "        self.dataval = dataval\n",
    "        self.nextval = None  #这个就是next，直接这么定义链表即可。\n",
    "        \n",
    "        \n",
    "if __name__ == \"__main__\":\n",
    "    \n",
    "    e1 = daynames('Mon')\n",
    "    e2 = daynames('Tue')\n",
    "    e3 = daynames('Wed')\n",
    "\n",
    "    e1.nextval = e3\n",
    "    e3.nextval = e2"
   ]
  },
  {
   "cell_type": "code",
   "execution_count": 3,
   "metadata": {},
   "outputs": [
    {
     "name": "stdout",
     "output_type": "stream",
     "text": [
      "Mon\n",
      "Tue\n",
      "Wed\n",
      "Thu\n"
     ]
    }
   ],
   "source": [
    "class daynames:\n",
    "    def __init__(self, dataval=None):\n",
    "        self.dataval = dataval\n",
    "        self.nextval = None\n",
    "\n",
    "if __name__ == \"__main__\":  \n",
    "    \n",
    "    e1 = daynames('Mon')\n",
    "    e2 = daynames('Wed')\n",
    "    e3 = daynames('Tue')\n",
    "    e4 = daynames('Thu')\n",
    "\n",
    "    e1.nextval = e3\n",
    "    e3.nextval = e2\n",
    "    e2.nextval = e4\n",
    "\n",
    "    thisvalue = e1\n",
    "\n",
    "    while thisvalue:\n",
    "            print(thisvalue.dataval)\n",
    "            thisvalue = thisvalue.nextval\n"
   ]
  },
  {
   "cell_type": "code",
   "execution_count": null,
   "metadata": {},
   "outputs": [],
   "source": []
  }
 ],
 "metadata": {
  "kernelspec": {
   "display_name": "Python 3",
   "language": "python",
   "name": "python3"
  },
  "language_info": {
   "codemirror_mode": {
    "name": "ipython",
    "version": 3
   },
   "file_extension": ".py",
   "mimetype": "text/x-python",
   "name": "python",
   "nbconvert_exporter": "python",
   "pygments_lexer": "ipython3",
   "version": "3.7.1"
  }
 },
 "nbformat": 4,
 "nbformat_minor": 2
}
