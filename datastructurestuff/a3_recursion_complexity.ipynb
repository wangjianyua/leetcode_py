{
 "cells": [
  {
   "cell_type": "markdown",
   "metadata": {},
   "source": [
    "https://juejin.im/post/5d556b7ef265da03aa2568d5#heading-4\n",
    "时间：子问题的数量*每个子问题计算时间（这里正常递归为二叉树2^n，每个计算为加法没有循环为1），共时间O(2^n)\n",
    "空间："
   ]
  },
  {
   "cell_type": "code",
   "execution_count": 3,
   "metadata": {},
   "outputs": [
    {
     "ename": "SyntaxError",
     "evalue": "invalid character in identifier (<ipython-input-3-9feadfb5c1ad>, line 1)",
     "output_type": "error",
     "traceback": [
      "\u001b[1;36m  File \u001b[1;32m\"<ipython-input-3-9feadfb5c1ad>\"\u001b[1;36m, line \u001b[1;32m1\u001b[0m\n\u001b[1;33m    O(T)=R∗O(s){\\mathcal{O}(T) = R * \\mathcal{O}(s)}O(T)=R∗O(s)\u001b[0m\n\u001b[1;37m           ^\u001b[0m\n\u001b[1;31mSyntaxError\u001b[0m\u001b[1;31m:\u001b[0m invalid character in identifier\n"
     ]
    }
   ],
   "source": [
    "#尾递归"
   ]
  },
  {
   "cell_type": "code",
   "execution_count": null,
   "metadata": {},
   "outputs": [],
   "source": [
    "#pow\n",
    "#复杂并错，逻辑混乱了\n",
    "        \"\"\"\n",
    "        if n==0:\n",
    "            return 1\n",
    "        elif n>0:\n",
    "            if n==1:\n",
    "                return x\n",
    "            else:\n",
    "                a=self.myPow(x,n-1)\n",
    "                self.res=a*x\n",
    "            return self.res\n",
    "        else:\n",
    "            n=abs(n)\n",
    "            if n==1:\n",
    "                return 1/x\n",
    "            else:\n",
    "                a=self.myPow(x,n-1)\n",
    "                self.res=a*(1/x)\n",
    "            return self.res\n",
    "        \"\"\""
   ]
  },
  {
   "cell_type": "code",
   "execution_count": 5,
   "metadata": {},
   "outputs": [
    {
     "name": "stdout",
     "output_type": "stream",
     "text": [
      "1\n"
     ]
    }
   ],
   "source": [
    "if 1&1:\n",
    "    print(1)"
   ]
  },
  {
   "cell_type": "code",
   "execution_count": null,
   "metadata": {},
   "outputs": [],
   "source": []
  }
 ],
 "metadata": {
  "kernelspec": {
   "display_name": "Python 3",
   "language": "python",
   "name": "python3"
  },
  "language_info": {
   "codemirror_mode": {
    "name": "ipython",
    "version": 3
   },
   "file_extension": ".py",
   "mimetype": "text/x-python",
   "name": "python",
   "nbconvert_exporter": "python",
   "pygments_lexer": "ipython3",
   "version": "3.7.1"
  }
 },
 "nbformat": 4,
 "nbformat_minor": 2
}
