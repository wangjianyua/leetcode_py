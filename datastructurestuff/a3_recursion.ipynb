{
 "cells": [
  {
   "cell_type": "markdown",
   "metadata": {},
   "source": [
    " The recursion call continues until it reaches a point where the subproblem can be solved without further recursion.\n",
    "\n",
    "A recursive function should have the following properties so that it does not result in an infinite loop:\n",
    "\n",
    "    A simple base case (or cases) — a terminating scenario that does not use recursion to produce an answer.\n",
    "    A set of rules, also known as recurrence relation that reduces all other cases towards the base case.\n",
    "\n",
    "Note that there could be multiple places where the function may call itself.\n",
    "\n",
    "#一般recursion想两层，抽象出来一个规律就可以写代码了，不用想太多层，想不明白"
   ]
  },
  {
   "cell_type": "code",
   "execution_count": 4,
   "metadata": {},
   "outputs": [
    {
     "data": {
      "text/plain": [
       "0"
      ]
     },
     "execution_count": 4,
     "metadata": {},
     "output_type": "execute_result"
    }
   ],
   "source": [
    "#1 reverse string\n",
    "#正常方法\n",
    "class Solution(object):\n",
    "    def reverseString(self, string):\n",
    "        s = 0\n",
    "        e = len(string)-1\n",
    "        while e>s:\n",
    "            (string[s], string[e]) = (string[e], string[s])\n",
    "            s+=1\n",
    "            e-=1\n",
    "        return string\n",
    "#设置了两个指针s,e，不相遇则调换相遇return"
   ]
  },
  {
   "cell_type": "code",
   "execution_count": null,
   "metadata": {},
   "outputs": [],
   "source": [
    "#1 reverse string\n",
    "#recursion\n",
    "def reverseString(self, string):\n",
    "    \"\"\"\n",
    "    Time:  O(n)\n",
    "    Space: O(n)\n",
    "    \"\"\"\n",
    "\n",
    "    def helper(start, end):\n",
    "        if start < end: # A set of rules, also known as recurrence relation that reduces all other cases towards the base case.\n",
    "            string[start], string[end] = string[end], string[start]\n",
    "            helper(start + 1, end - 1)   \n",
    "        #这里省略了else return，作为base condition\n",
    "    helper(0, len(string) - 1)"
   ]
  },
  {
   "cell_type": "code",
   "execution_count": null,
   "metadata": {},
   "outputs": [],
   "source": [
    "# 1 reverse string\n",
    "#real life\n",
    "str[::-1]\n",
    "#called: extended slice"
   ]
  },
  {
   "cell_type": "markdown",
   "metadata": {},
   "source": [
    "#guideline of recursion\n",
    "For a problem, if there exists a recursive solution, we can follow the guidelines below to implement it. \n",
    "\n",
    "For instance, we define the problem as the function F(X){F(X)}F(X) to implement, where X{X}X is the input of the function which also defines the scope of the problem.\n",
    "\n",
    "Then, in the function F(X){F(X)}F(X), we will:\n",
    "\n",
    "    Break the problem down into smaller scopes, such as x0∈X,x1∈X,...,xn∈X{x_0} \\in X, {x_1} \\in X, ..., {x_n} \\in Xx0​∈X,x1​∈X,...,xn​∈X;\n",
    "    Call function F(x0),F(x1),...,F(xn){F(x_0)}, F(x_1), ..., F(x_n)F(x0​),F(x1​),...,F(xn​) recursively to solve the subproblems of X{X}X;\n",
    "    Finally, process the results from the recursive function calls to solve the problem corresponding to X{X}X.\n"
   ]
  },
  {
   "cell_type": "code",
   "execution_count": null,
   "metadata": {},
   "outputs": [],
   "source": [
    "# swapPairs，这个不易懂，下面的好解释，在pad上画了\n",
    "    def swapPairs( head):#head不是指第一个数，而是第一个数与其指向的后面一串数字\n",
    "        print(head)#这里head☞第一次ListNode{val: 1, next: ListNode{val: 2, next: ListNode{val: 3, next: ListNode{val: 4, next: None}}}}，第二次进入wasPair（3，4）为ListNode{val: 3, next: ListNode{val: 4, next: None}}，第三次为wasPair(none)返回none\n",
    "        if head is None or head.next is None:\n",
    "            return head\n",
    "        restOfList = head.next.next\n",
    "        head, head.next = head.next, head\n",
    "        head.next.next = self.swapPairs(restOfList)\n",
    "        print(head)#先输出wasPair(3,4)的head为ListNode{val: 4, next: ListNode{val: 3, next: None}}\n",
    "        return head"
   ]
  },
  {
   "cell_type": "code",
   "execution_count": 30,
   "metadata": {},
   "outputs": [],
   "source": [
    "#swap易懂\n",
    "# Iteratively\n",
    "def swapPairs1(self, head):\n",
    "    dummy = p = ListNode(0)\n",
    "    dummy.next = head\n",
    "    while head and head.next:\n",
    "        tmp = head.next\n",
    "        head.next = tmp.next\n",
    "        tmp.next = head\n",
    "        p.next = tmp\n",
    "        head = head.next\n",
    "        p = tmp.next\n",
    "    return dummy.next\n",
    " \n",
    "# Recursively    \n",
    "def swapPairs(self, head):\n",
    "    if head and head.next:\n",
    "        tmp = head.next\n",
    "        head.next = self.swapPairs(tmp.next)\n",
    "        tmp.next = head\n",
    "        return tmp\n",
    "    return head"
   ]
  },
  {
   "cell_type": "code",
   "execution_count": 36,
   "metadata": {},
   "outputs": [],
   "source": [
    "#tree inorder\n",
    "def inorder(root,res=[]):\n",
    "    if not root:#设置base condition，终止条件。当遍历到没有左右节点时返回空。在recursion种，迭代的函数return后，继续执行下一条，不跳出。\n",
    "        return\n",
    "    inorder(root.left,res)\n",
    "    res.append(root.val)\n",
    "    inorder(root.right,res)\n",
    "    return res"
   ]
  },
  {
   "cell_type": "code",
   "execution_count": 34,
   "metadata": {},
   "outputs": [
    {
     "name": "stdout",
     "output_type": "stream",
     "text": [
      "3\n"
     ]
    }
   ],
   "source": [
    "#tree level BFS \n",
    "from collections import deque\n",
    "class Solution(object):\n",
    "    def levelOrder(self, root):\n",
    "        \"\"\"\n",
    "        :type root: TreeNode\n",
    "        :rtype: List[List[int]]\n",
    "        \"\"\"\n",
    "\n",
    "        lst=[]\n",
    "        res=deque()\n",
    "        a=[]\n",
    "        self.bfs(root,res,lst)\n",
    "        print(lst)\n",
    "        for i in range(len(lst)):\n",
    "            a.append(lst[i].val)\n",
    "            \n",
    "        return a\n",
    "    \n",
    "    def bfs(self,root,res,lst):\n",
    "        \n",
    "        if not root:\n",
    "            return\n",
    "        \n",
    "        res.append(root)\n",
    "        lst.append(root)\n",
    "        \n",
    "        for i in range(len(res)):\n",
    "            a=res.popleft()\n",
    "            self.bfs(a.left,res,lst)\n",
    "            self.bfs(a.right,res,lst)\n",
    "        return lst\n"
   ]
  },
  {
   "cell_type": "code",
   "execution_count": 33,
   "metadata": {},
   "outputs": [
    {
     "name": "stdout",
     "output_type": "stream",
     "text": [
      "2 1\n"
     ]
    }
   ],
   "source": [
    "#symmetric tree \n",
    "\n",
    "class Solution:\n",
    "    def isSymmetric(self, root):\n",
    "        if root is None:\n",
    "            return True\n",
    "        else:\n",
    "            return self.isMirror(root.left, root.right)\n",
    "\n",
    "    def isMirror(self, left, right):\n",
    "        if left is None and right is None:\n",
    "            return True\n",
    "        if left is None or right is None:\n",
    "            return False\n",
    "        if left.val == right.val:\n",
    "            outPair = self.isMirror(left.left, right.right)\n",
    "            inPiar = self.isMirror(left.right, right.left)\n",
    "            return outPair and inPiar\n",
    "        else:\n",
    "            return False\n",
    "#一般recursion想两层，抽象出来一个规律就可以写代码了，不用想太多层，想不明白"
   ]
  },
  {
   "cell_type": "code",
   "execution_count": null,
   "metadata": {},
   "outputs": [],
   "source": [
    "class Solution(object):\n",
    "    def hasPathSum(self, root,sum):\n",
    "        \"\"\"\n",
    "        :type root: TreeNode\n",
    "        :type sum: int\n",
    "        :rtype: bool\n",
    "        \"\"\"\n",
    "        res=0\n",
    "        self.dfs(root,res,sum)\n",
    "        \n",
    "        \n",
    "    def dfs(self,root,res,sum):\n",
    "        if not root:#为空，加0\n",
    "            return res\n",
    "        if not root.left and not root.right and res==sum:#极端情况,直接对了\n",
    "            return True\n",
    "        res+=root.val\n",
    "        return self.dfs(root.left,res,sum) or self.dfs(root.right,res,sum)"
   ]
  },
  {
   "cell_type": "code",
   "execution_count": 3,
   "metadata": {},
   "outputs": [
    {
     "data": {
      "text/plain": [
       "True"
      ]
     },
     "execution_count": 3,
     "metadata": {},
     "output_type": "execute_result"
    }
   ],
   "source": [
    "#path sum\n",
    "# DFS Recursively \n",
    "def hasPathSum1(self, root, sum):\n",
    "    res = []\n",
    "    self.dfs(root, sum, res)\n",
    "    return any(res)\n",
    "    \n",
    "def dfs(self, root, target, res):\n",
    "    if root:\n",
    "        if not root.left and not root.right:\n",
    "            if root.val == target:\n",
    "                res.append(True)\n",
    "        if root.left:\n",
    "            self.dfs(root.left, target-root.val, res)\n",
    "        if root.right:\n",
    "            self.dfs(root.right, target-root.val, res)"
   ]
  },
  {
   "cell_type": "code",
   "execution_count": null,
   "metadata": {},
   "outputs": [],
   "source": [
    "#path sum\n",
    "class Solution(object):\n",
    "    def hasPathSum(self, root,sum):\n",
    "        \"\"\"\n",
    "        :type root: TreeNode\n",
    "        :type sum: int\n",
    "        :rtype: bool\n",
    "        \"\"\"\n",
    "        res=0#因为有这个，所以要重新定义dfs，但是再另一个里面定义dfs，返回就会比较麻烦，我们可以下次选择单独定义re再__INIT__中而不是单独定义dfs\n",
    "        self.dfs(root,res,sum)\n",
    "\n",
    "    def dfs(self,root,res,sum):\n",
    "        if not root:#为空，加0\n",
    "            return res\n",
    "        res+=root.val\n",
    "        print(res)\n",
    "        if not root.left and not root.right and res==sum:\n",
    "            return True#这个return true没有返回dfs的值，而是返回了这个if为true，循环继续进行（不对）\n",
    "        if root.left:\n",
    "            self.dfs(root.left,res,sum) \n",
    "        if root.right:\n",
    "            self.dfs(root.right,res,sum)"
   ]
  },
  {
   "cell_type": "code",
   "execution_count": 11,
   "metadata": {},
   "outputs": [],
   "source": [
    "#改了之后还不对\n",
    "class Solution(object):\n",
    "    def __init__(self):\n",
    "        self.res=0\n",
    "        \n",
    "    def hasPathSum(self, root,sum):\n",
    "        \"\"\"\n",
    "        :type root: TreeNode\n",
    "        :type sum: int\n",
    "        :rtype: bool\n",
    "        \"\"\"\n",
    "        if not root:\n",
    "            return False\n",
    "        self.res+=root.val\n",
    "        \n",
    "        if self.res==sum and not root.left and not root.right:\n",
    "            return True\n",
    "        \n",
    "        return self.hasPathSum(root.left, sum) or self.hasPathSum(root.right, sum)\n",
    "        if root.left:\n",
    "            self.hasPathSum(root.left,sum) \n",
    "        if root.right:\n",
    "            self.hasPathSum(root.right,sum)"
   ]
  },
  {
   "cell_type": "code",
   "execution_count": 12,
   "metadata": {},
   "outputs": [
    {
     "data": {
      "text/plain": [
       "2"
      ]
     },
     "execution_count": 12,
     "metadata": {},
     "output_type": "execute_result"
    }
   ],
   "source": [
    "#聪明办法\n",
    "#不用多定义res,直接在函数操作\n",
    "class Solution:\n",
    "    # @param root, a tree node\n",
    "    # @param sum, an integer\n",
    "    # @return a boolean\n",
    "    # 1:27\n",
    "    def hasPathSum(self, root, sum):\n",
    "        if not root:\n",
    "            return False\n",
    "\n",
    "        if not root.left and not root.right and root.val == sum:\n",
    "            return True\n",
    "        \n",
    "        sum -= root.val\n",
    "\n",
    "        return self.hasPathSum(root.left, sum) or self.hasPathSum(root.right, sum)#return a or b，学到了"
   ]
  },
  {
   "cell_type": "code",
   "execution_count": null,
   "metadata": {},
   "outputs": [],
   "source": [
    "#search BFS\n",
    "class Solution(object):\n",
    "    def searchBST(self, root, val):\n",
    "        \"\"\"\n",
    "        :type root: TreeNode\n",
    "        :type val: int\n",
    "        :rtype: TreeNode\n",
    "        \"\"\"\n",
    "        if not root:\n",
    "            return \n",
    "        if root.val==val:\n",
    "            return root\n",
    "        return self.searchBST(root.left,val) or self.searchBST(root.right,val)"
   ]
  },
  {
   "cell_type": "code",
   "execution_count": 6,
   "metadata": {},
   "outputs": [
    {
     "name": "stdout",
     "output_type": "stream",
     "text": [
      "[2, 1]\n"
     ]
    }
   ],
   "source": [
    "#parscal's triangle\n",
    "a=[[1,2],[2,1]]\n",
    "print(a[-1])"
   ]
  },
  {
   "cell_type": "code",
   "execution_count": null,
   "metadata": {},
   "outputs": [],
   "source": []
  }
 ],
 "metadata": {
  "kernelspec": {
   "display_name": "Python 3",
   "language": "python",
   "name": "python3"
  },
  "language_info": {
   "codemirror_mode": {
    "name": "ipython",
    "version": 3
   },
   "file_extension": ".py",
   "mimetype": "text/x-python",
   "name": "python",
   "nbconvert_exporter": "python",
   "pygments_lexer": "ipython3",
   "version": "3.7.1"
  }
 },
 "nbformat": 4,
 "nbformat_minor": 2
}
