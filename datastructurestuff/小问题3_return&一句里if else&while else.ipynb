{
 "cells": [
  {
   "cell_type": "code",
   "execution_count": null,
   "metadata": {},
   "outputs": [],
   "source": [
    "#1，return只能用在方程里 \n",
    "\"\"\"\n",
    "if x in [2,3,4]:\n",
    "    return True\n",
    "return False\n",
    "这种会报错 'return' outside function，因为 Control statements aren't functions, you define a function with def，必须在def里才可以return\n",
    "\"\"\"\n",
    "#2，接1，return既然只能用在方程里，那他就是返回方程的值。不能把if 的else当成return混淆。比如：\n",
    "\"\"\"\n",
    "if  top== dict[parentheses]:\n",
    "        continue\n",
    "    else:\n",
    "        return False\n",
    "绝对不能写\n",
    "if  top== dict[parentheses]:\n",
    "        continue\n",
    "return False\n",
    "\"\"\"\n",
    "#3，与之前（动态queue)一样，注意return的位置。return要注意是循环中还是循环后return\n",
    "#4，不能写 return 3 if 1<3，这个不合法,因为这些和return无关，正确应该是：print(a) if a in [1,2,3] else 'lwh'.注意这里必须有else，没有会报错invalid syntax\n",
    "#5，也不能写，print(i) for i in range(3)，只能写\n",
    "\"\"\"\n",
    "for a in range(3):\n",
    "    print(a)\n",
    "\"\"\""
   ]
  },
  {
   "cell_type": "code",
   "execution_count": null,
   "metadata": {},
   "outputs": [],
   "source": [
    "#while else\n",
    "#当while的判断条件为flase时，执行else.否则执行while\n",
    "counter = 0\n",
    "\n",
    "while counter < 3:\n",
    "    print(\"Inside loop\")\n",
    "    counter = counter + 1\n",
    "else:\n",
    "    print(\"Inside else\")"
   ]
  },
  {
   "cell_type": "code",
   "execution_count": null,
   "metadata": {},
   "outputs": [],
   "source": [
    "#for else\n",
    "#for中遍历完，没有break，则false\n",
    "#https://stackoverflow.com/questions/9979970/why-does-python-use-else-after-for-and-while-loops\n",
    "\n",
    "\n",
    "It's a strange construct even to seasoned Python coders. When used in conjunction with for-loops it basically means \"find some item in the iterable, else if none was found do ...\". As in:\n",
    "\n",
    "found_obj = None\n",
    "for obj in objects:\n",
    "    if obj.key == search_key:\n",
    "        found_obj = obj\n",
    "        break\n",
    "else:\n",
    "    print('No object found.')\n",
    "\n",
    "But anytime you see this construct, a better alternative is to either encapsulate the search in a function:\n",
    "\n",
    "def find_obj(search_key):\n",
    "    for obj in objects:\n",
    "        if obj.key == search_key:\n",
    "            return obj\n",
    "\n",
    "Or use a list comprehension:\n",
    "\n",
    "matching_objs = [o for o in objects if o.key == search_key]\n",
    "if matching_objs:\n",
    "    print('Found {}'.format(matching_objs[0]))\n",
    "else:\n",
    "    print('No object found.')\n",
    "\n",
    "It is not semantically equivalent to the other two versions, but works good enough in non-performance critical code where it doesn't matter whether you iterate the whole list or not. Others may disagree, but I personally would avoid ever using the for-else or while-else blocks in production code. "
   ]
  },
  {
   "cell_type": "code",
   "execution_count": 7,
   "metadata": {},
   "outputs": [],
   "source": [
    "#默认return在函数中的作用\n",
    "def trya(n):\n",
    "    if n%2==0:\n",
    "        return True\n",
    "    return"
   ]
  },
  {
   "cell_type": "code",
   "execution_count": 14,
   "metadata": {},
   "outputs": [
    {
     "name": "stdout",
     "output_type": "stream",
     "text": [
      "1\n"
     ]
    }
   ],
   "source": [
    "if not trya(1):\n",
    "    print(1)"
   ]
  },
  {
   "cell_type": "code",
   "execution_count": null,
   "metadata": {},
   "outputs": [],
   "source": []
  }
 ],
 "metadata": {
  "kernelspec": {
   "display_name": "Python 3",
   "language": "python",
   "name": "python3"
  },
  "language_info": {
   "codemirror_mode": {
    "name": "ipython",
    "version": 3
   },
   "file_extension": ".py",
   "mimetype": "text/x-python",
   "name": "python",
   "nbconvert_exporter": "python",
   "pygments_lexer": "ipython3",
   "version": "3.7.1"
  }
 },
 "nbformat": 4,
 "nbformat_minor": 2
}
