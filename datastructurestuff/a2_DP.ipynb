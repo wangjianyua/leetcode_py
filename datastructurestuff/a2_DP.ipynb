{
 "cells": [
  {
   "cell_type": "code",
   "execution_count": null,
   "metadata": {},
   "outputs": [],
   "source": [
    "#674. Longest Continuous Increasing Subsequence\n",
    "def findLengthOfLCIS(nums):\n",
    "    \"\"\"\n",
    "    :type nums: List[int]\n",
    "    :rtype: int\n",
    "    \"\"\"\n",
    "    if not nums:\n",
    "        return 0\n",
    "    dp = [1] * len(nums)\n",
    "    for i in range(1, len(nums)):\n",
    "        if nums[i] > nums[i-1]:\n",
    "            dp[i] = dp[i - 1] + 1\n",
    "    return max(dp)"
   ]
  },
  {
   "cell_type": "code",
   "execution_count": null,
   "metadata": {},
   "outputs": [],
   "source": [
    "# 300. Longest Increasing Subsequence\n",
    "def lengthOfLIS(nums):\n",
    "    \"\"\"\n",
    "    :type nums: List[int]\n",
    "    :rtype: int\n",
    "    \"\"\"\n",
    "    if not nums:\n",
    "        return 0\n",
    "    dp=[1]*len(nums)\n",
    "    for i in range (1, len(nums)):\n",
    "        for j in range(i):\n",
    "            if nums[i] >nums[j]:\n",
    "                dp[i] = max(dp[i], dp[j]+1)\n",
    "    return max(dp)"
   ]
  },
  {
   "cell_type": "markdown",
   "metadata": {},
   "source": [
    "DP都是先用数学创建问题，再迭代求解的。难点在于数学创建问题。。。我还没搞懂怎么创建dp问题。\n",
    "最长上升子序列（LIS）问题：给定长度为n的序列a，从a中抽取出一个子序列，这个子序列需要单调递增。问最长的上升子序列（LIS）的长度。　　\n",
    "e.g. 1,5,3,4,6,9,7,8的LIS为1,3,4,6,7,8，长度为6。　　\n",
    "1如何设计状态（我是谁）？　　我们记ak为以  结尾的LIS长度，那么答案就是  .　　\n",
    "2状态x从哪里推过来（我从哪里来）？　　考虑比x小的每一个p：如果  ，那么f(x)可以取f(p)+1.　　解释：我们把  接在  的后面，肯定能构造一个以  结尾的上升子序列，长度比以  结尾的LIS大1.\n",
    "3我们可以写出状态转移方程了：　　至此解决问题。两层for循环，复杂度  .\n",
    "\n",
    "作者：阮行止\n",
    "链接：https://www.zhihu.com/question/23995189/answer/613096905\n",
    "来源：知乎\n",
    "著作权归作者所有。商业转载请联系作者获得授权，非商业转载请注明出处。"
   ]
  }
 ],
 "metadata": {
  "kernelspec": {
   "display_name": "Python 3",
   "language": "python",
   "name": "python3"
  },
  "language_info": {
   "codemirror_mode": {
    "name": "ipython",
    "version": 3
   },
   "file_extension": ".py",
   "mimetype": "text/x-python",
   "name": "python",
   "nbconvert_exporter": "python",
   "pygments_lexer": "ipython3",
   "version": "3.7.1"
  }
 },
 "nbformat": 4,
 "nbformat_minor": 2
}
