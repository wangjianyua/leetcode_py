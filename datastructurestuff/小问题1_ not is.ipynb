{
 "cells": [
  {
   "cell_type": "code",
   "execution_count": null,
   "metadata": {},
   "outputs": [],
   "source": [
    "#not\n",
    "#None,  False, 空字符串\"\", 0, 空列表[], 空字典{}, 空元组()都相当于False\n",
    "#`if x is not None`是最好的写法，清晰，不会出现错误，以后坚持使用这种写法。\n",
    "#使用if not x这种写法的前提是：必须清楚x等于None,  False, 空字符串\"\", 0, 空列表[], 空字典{}, 空元组()时对你的判断没有影响才行。\n",
    "x=[1]#x为true\n",
    "if x: #if指令中，判断x是否为true，这里x不是none,false,'',0,[],{}中的一个，是有数的为true，所以判断为true，打印x\n",
    "    print(x)\n",
    "#相反尝试\n",
    "if not x:\n",
    "    print(x)#此时无任何输出"
   ]
  },
  {
   "cell_type": "code",
   "execution_count": null,
   "metadata": {},
   "outputs": [],
   "source": [
    "#is\n",
    "#is是id相同时返回true，比如 (ob1 is ob2) 等价于 (id(ob1) == id(ob2))\n",
    "#两个list数值相同，is判断仍然返回false\n",
    "#但两个空list，is判断返回true"
   ]
  }
 ],
 "metadata": {
  "kernelspec": {
   "display_name": "Python 3",
   "language": "python",
   "name": "python3"
  },
  "language_info": {
   "codemirror_mode": {
    "name": "ipython",
    "version": 3
   },
   "file_extension": ".py",
   "mimetype": "text/x-python",
   "name": "python",
   "nbconvert_exporter": "python",
   "pygments_lexer": "ipython3",
   "version": "3.7.1"
  }
 },
 "nbformat": 4,
 "nbformat_minor": 2
}
