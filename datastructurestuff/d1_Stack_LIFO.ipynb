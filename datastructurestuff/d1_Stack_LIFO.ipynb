{
 "cells": [
  {
   "cell_type": "code",
   "execution_count": 5,
   "metadata": {},
   "outputs": [],
   "source": [
    "#1 minstack (数组实现)\n",
    "#创建一个stack，在O1时间复杂度内返回问题。如果在getMin用min，就是On复杂度，因为min本身需要排列。\n",
    "#这里创建一个tuple\n",
    "class MinStack(object):\n",
    "\n",
    "    def __init__(self):\n",
    "        self.stack = []\n",
    "        \n",
    "    def push(self, x):\n",
    "        self.stack.append((x, min(self.getMin(), x))) #这里min比较两个值为O1\n",
    "           \n",
    "    def pop(self):\n",
    "        self.stack.pop()\n",
    "\n",
    "    def top(self):\n",
    "        if self.stack:\n",
    "            return self.stack[-1][0]\n",
    "        \n",
    "    def getMin(self):\n",
    "        if self.stack:\n",
    "            return self.stack[-1][1]\n",
    "        return sys.maxint  #或者float('inf')，表示无穷值，因为min()不能比较None和一个数，但可以比较inf和一个数\n",
    "    \n",
    "#PS：对list/tuple做这种操作，可以想象成矩阵操作。一般都用np\n",
    "a=[(1,1),(2,2),(33,1)]\n",
    "print(a[-1][0])"
   ]
  },
  {
   "cell_type": "code",
   "execution_count": 19,
   "metadata": {},
   "outputs": [],
   "source": [
    "#2 valid parenthesis\n",
    "#空间On因为需要找n个，O1放进去。空间On\n",
    "def isValid(self, s):\n",
    "    \"\"\"\n",
    "    :type s: str\n",
    "    :rtype: bool\n",
    "    \"\"\"\n",
    "    stack=[]\n",
    "    dict = {\")\": \"(\", \"}\": \"{\", \"]\": \"[\"}\n",
    "    for parentheses in s:\n",
    "        if parentheses in dict:\n",
    "            top=stack.pop() if stack else 'lwh'\n",
    "            if  top== dict[parentheses]:\n",
    "                continue\n",
    "            else:\n",
    "                return False\n",
    "        else:\n",
    "            stack.append(parentheses)\n",
    "    return not stack\n",
    "#看似简单，暴露了两个问题\n",
    "#1，return只能用在方程里 \n",
    "\"\"\"\n",
    "if x in [2,3,4]:\n",
    "    return True\n",
    "return False\n",
    "这种会报错 'return' outside function，因为 Control statements aren't functions, you define a function with def，必须在def里才可以return\n",
    "\"\"\"\n",
    "#2，接1，return既然只能用在方程里，那他就是返回方程的值。不能把if 的else当成return混淆。比如：\n",
    "\"\"\"\n",
    "if  top== dict[parentheses]:\n",
    "        continue\n",
    "    else:\n",
    "        return False\n",
    "绝对不能写\n",
    "if  top== dict[parentheses]:\n",
    "        continue\n",
    "return False\n",
    "\"\"\"\n",
    "#3，与之前（动态queue)一样，注意return的位置。return要注意是循环中还是循环后return\n",
    "#4，不能写 return 3 if 1<3，这个不合法,因为这些和return无关，正确应该是：print(a) if a in [1,2,3] else 'lwh'.注意这里必须有else，没有会报错invalid syntax\n",
    "#5，也不能写，print(i) for i in range(3)，只能写\n",
    "\"\"\"\n",
    "for a in range(3):\n",
    "    print(a)\n",
    "\"\"\""
   ]
  },
  {
   "cell_type": "code",
   "execution_count": 11,
   "metadata": {},
   "outputs": [],
   "source": [
    "#daily temperatures\n",
    "def dailyTemperatures(T):\n",
    "    ans = [0] * len(T)\n",
    "    stack = [] #indexes from hottest to coldest\n",
    "    for i,t in enumerate(T):\n",
    "        while stack and t > T[stack[-1]]: #while空 and 判断条件，注意\n",
    "            pre_index=stack.pop()\n",
    "            ans[pre_index] = i-pre_index\n",
    "        stack.append(i)#初始化stack当为[]时。这个位置很重要，否则全为0\n",
    "    return ans\n"
   ]
  },
  {
   "cell_type": "code",
   "execution_count": 10,
   "metadata": {},
   "outputs": [
    {
     "name": "stdout",
     "output_type": "stream",
     "text": [
      "3\n",
      "2\n",
      "1\n",
      "0\n"
     ]
    }
   ],
   "source": [
    "#插入range\n",
    "for i in range(-1,3):\n",
    "    print(i) # -1 0 1 2，正序\n",
    "for i in range(3,-1,-1):\n",
    "    print(i) #  3 2 1 0 倒序（3到-1倒叙，包括3不包括-1（到0截至))"
   ]
  },
  {
   "cell_type": "code",
   "execution_count": 3,
   "metadata": {},
   "outputs": [
    {
     "name": "stdout",
     "output_type": "stream",
     "text": [
      "Return type: <class 'enumerate'>\n",
      "[(0, 'eat'), (1, 'sleep'), (2, 'repeat')]\n",
      "[(2, 'g'), (3, 'e'), (4, 'e'), (5, 'k')]\n"
     ]
    }
   ],
   "source": [
    "#插入enumerate，枚举，从0-len，生成tuple对.  注意要用list(enumrate(....))转换成list\n",
    "# enumerate function \n",
    "l1 = [\"eat\",\"sleep\",\"repeat\"] \n",
    "s1 = \"geek\"\n",
    "  \n",
    "# creating enumerate objects \n",
    "obj1 = enumerate(l1) \n",
    "obj2 = enumerate(s1) \n",
    "  \n",
    "print (\"Return type:\",type(obj1) )\n",
    "print (list(enumerate(l1)) )\n",
    "  \n",
    "# changing start index to 2 from 0 \n",
    "print (list(enumerate(s1,2)) )"
   ]
  },
  {
   "cell_type": "code",
   "execution_count": 7,
   "metadata": {},
   "outputs": [
    {
     "data": {
      "text/plain": [
       "'/'"
      ]
     },
     "execution_count": 7,
     "metadata": {},
     "output_type": "execute_result"
    }
   ],
   "source": [
    "#Evaluate Reverse Polish Notation\n",
    " def evalRPN(tokens):\n",
    "        \"\"\"\n",
    "        :type tokens: List[str]\n",
    "        :rtype: int\n",
    "        \"\"\"\n",
    "        stack=[]\n",
    "        operations=['+','-','*','/']\n",
    "        for i in tokens:\n",
    "            if i not in operations:\n",
    "                stack.append(int(i))\n",
    "            else:\n",
    "                r,l = stack.pop(),stack.pop()\n",
    "                if i=='+':\n",
    "                    stack.append(r+l)\n",
    "                if i=='-':\n",
    "                    stack.append(l-r)\n",
    "                if i=='*':\n",
    "                    stack.append(l*r)\n",
    "                if i=='/':\n",
    "                    if l*r < 0 and l % r != 0:\n",
    "                        stack.append(l/r+1)\n",
    "                    else:\n",
    "                        stack.append(l/r)\n",
    "        return int(round(stack.pop()))\n",
    "#看维基百科，思路比较简单，就是在token中都是string,要把数字转化为int再求。2是/的时候，python返回值的问题"
   ]
  },
  {
   "cell_type": "code",
   "execution_count": 13,
   "metadata": {},
   "outputs": [
    {
     "data": {
      "text/plain": [
       "1"
      ]
     },
     "execution_count": 13,
     "metadata": {},
     "output_type": "execute_result"
    }
   ],
   "source": [
    "#polish stuff\n",
    "class Solution:\n",
    "    # @param {string[]} tokens\n",
    "    # @return {integer}\n",
    "    def __init__(self):\n",
    "        self.operators = {\n",
    "            '+': lambda y, x: x + y,\n",
    "            '-': lambda y, x: x - y,\n",
    "            '*': lambda y, x: x * y,\n",
    "            '/': lambda y, x: int(operator.truediv(x, y))\n",
    "        }\n",
    "\n",
    "    def evalRPN(self, tokens):\n",
    "        if not tokens:\n",
    "            return 0\n",
    "\n",
    "        stack = []\n",
    "\n",
    "        for token in tokens:\n",
    "            if token in self.operators:\n",
    "                stack.append(self.operators[token](stack.pop(), stack.pop()))\n",
    "            else:\n",
    "                stack.append(int(token))\n",
    "\n",
    "        return stack[0]\n",
    "#在类中定义操作，方便调用\n",
    "#review lambda \n",
    "x = lambda a, b, c : a + b + c\n",
    "print(x(5, 6, 2)) \n",
    "调用为在（）中输入parameter"
   ]
  },
  {
   "cell_type": "code",
   "execution_count": null,
   "metadata": {},
   "outputs": [],
   "source": []
  }
 ],
 "metadata": {
  "kernelspec": {
   "display_name": "Python 3",
   "language": "python",
   "name": "python3"
  },
  "language_info": {
   "codemirror_mode": {
    "name": "ipython",
    "version": 3
   },
   "file_extension": ".py",
   "mimetype": "text/x-python",
   "name": "python",
   "nbconvert_exporter": "python",
   "pygments_lexer": "ipython3",
   "version": "3.7.1"
  }
 },
 "nbformat": 4,
 "nbformat_minor": 2
}
