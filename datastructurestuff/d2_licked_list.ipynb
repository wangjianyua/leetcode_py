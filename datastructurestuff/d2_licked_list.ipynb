{
 "cells": [
  {
   "cell_type": "markdown",
   "metadata": {},
   "source": [
    "reverse linked list"
   ]
  },
  {
   "cell_type": "code",
   "execution_count": null,
   "metadata": {},
   "outputs": [],
   "source": [
    "#自己迭代（细节在笔记上）\n",
    "class Solution(object):\n",
    "    def reverseList(self, head):\n",
    "        \"\"\"\n",
    "        :type head: ListNode\n",
    "        :rtype: ListNode\n",
    "        \"\"\"\n",
    "        #iterate\n",
    "        #first,initialize 3 cursor\n",
    "        pre=None#不用初始化为listnode因为下面会给这些赋值为listnode,#但如果初始化0,会报错int不能next\n",
    "        next=0\n",
    "        current=head\n",
    "        \n",
    "        while current!=None:\n",
    "            next=current.next\n",
    "            current.next=pre\n",
    "            pre=current\n",
    "            current=next\n",
    "        return pre"
   ]
  },
  {
   "cell_type": "code",
   "execution_count": null,
   "metadata": {},
   "outputs": [],
   "source": [
    "#自己递归（细节在笔记上）\n",
    "class Solution:\n",
    "    def reverseList(self, head: ListNode) -> ListNode:\n",
    "        #recursive\n",
    "        #base case\n",
    "        if head==None or head.next==None:\n",
    "            return head\n",
    "        new_head=self.reverseList(head.next)\n",
    "        head.next.next=head\n",
    "        head.next=None\n",
    "        return new_head"
   ]
  },
  {
   "cell_type": "code",
   "execution_count": null,
   "metadata": {},
   "outputs": [],
   "source": [
    "#reverse linked list\n",
    "#iterate别人写的\n",
    "class Solution:\n",
    "# @param {ListNode} head\n",
    "# @return {ListNode}\n",
    "def reverseList(self, head):\n",
    "    prev = None\n",
    "    while head:\n",
    "        curr = head\n",
    "        head = head.next\n",
    "        curr.next = prev\n",
    "        prev = curr\n",
    "    return prev\n",
    "\n",
    "#Recursion别人写的\n",
    "\n",
    "class Solution:\n",
    "# @param {ListNode} head\n",
    "# @return {ListNode}\n",
    "def reverseList(self, head):\n",
    "    return self._reverse(head)\n",
    "\n",
    "def _reverse(self, node, prev=None):\n",
    "    if not node:\n",
    "        return prev\n",
    "    n = node.next\n",
    "    node.next = prev\n",
    "    return self._reverse(n, node)"
   ]
  },
  {
   "cell_type": "code",
   "execution_count": 2,
   "metadata": {},
   "outputs": [
    {
     "name": "stdout",
     "output_type": "stream",
     "text": [
      "0\n"
     ]
    }
   ],
   "source": [
    "for i in range(1):\n",
    "    print(i)"
   ]
  },
  {
   "cell_type": "code",
   "execution_count": null,
   "metadata": {},
   "outputs": [],
   "source": [
    "#我写的，很多复杂情况不能满足\n",
    "#707\n",
    "\"\"\"\n",
    "\n",
    "复杂情况不行\n",
    "class Node(object):\n",
    "    def __init__(self,val):\n",
    "        self.val=val\n",
    "        self.next=None\n",
    "        \n",
    "class MyLinkedList(object):\n",
    "\n",
    "    def __init__(self):\n",
    "        \"\"\"\n",
    "        Initialize your data structure here.\n",
    "        \"\"\"\n",
    "        self.head=None#这个不能定义为Node(0)，否则加head1tail变为103\n",
    "        self.size=0\n",
    "\n",
    "    def get(self, index):\n",
    "        \"\"\"\n",
    "        Get the value of the index-th node in the linked list. If the index is invalid, return -1.\n",
    "        :type index: int\n",
    "        :rtype: int\n",
    "        \"\"\"\n",
    "        if index==0:\n",
    "            return self.head.val\n",
    "        if index>self.size or index<0:\n",
    "            return -1\n",
    "        cur=self.head\n",
    "        for i in range(index):\n",
    "            cur=cur.next\n",
    "        if cur is not None:\n",
    "            return cur.val\n",
    "        else:\n",
    "            return -1\n",
    "\n",
    "    def addAtHead(self, val):\n",
    "        \"\"\"\n",
    "        Add a node of value val before the first element of the linked list. After the insertion, the new node will be the first node of the linked list.\n",
    "        :type val: int\n",
    "        :rtype: None\n",
    "        \"\"\"\n",
    "        new=Node(val)\n",
    "        new.next=self.head\n",
    "        self.head=new#重要，之前没加这句。每次变了head之后要重新生命这个是新head\n",
    "        self.size+=1\n",
    "\n",
    "    def addAtTail(self, val):\n",
    "        \"\"\"\n",
    "        Append a node of value val to the last element of the linked list.\n",
    "        :type val: int\n",
    "        :rtype: None\n",
    "        \"\"\"\n",
    "        tail=Node(val)\n",
    "        \n",
    "        if self.size==0:\n",
    "            self.size+=1\n",
    "            self.head=tail\n",
    "        else:\n",
    "            cur=self.head\n",
    "            print(type(cur))\n",
    "            while cur.next is not None:\n",
    "                cur=cur.next\n",
    "            cur.next=tail\n",
    "            self.size+=1\n",
    "        \n",
    "\n",
    "    def addAtIndex(self, index, val):\n",
    "        \"\"\"\n",
    "        Add a node of value val before the index-th node in the linked list. If index equals to the length of linked list, the node will be appended to the end of linked list. If index is greater than the length, the node will not be inserted.\n",
    "        :type index: int\n",
    "        :type val: int\n",
    "        :rtype: None\n",
    "        \"\"\"\n",
    "       \n",
    "        if index > self.size:\n",
    "            return -1\n",
    "        elif index == 0 or index == -1:\n",
    "            self.addAtHead(val)\n",
    "        else:\n",
    "            tmp = Node(val)\n",
    "            cur = self.head\n",
    "            for _ in range(index-1):\n",
    "                cur = cur.next\n",
    "            tmp.next = cur.next\n",
    "            cur.next = tmp\n",
    "            if tmp.next is None:\n",
    "                self.tail = tmp\n",
    "            self.size += 1\n",
    "\n",
    "    def deleteAtIndex(self, index):\n",
    "        \"\"\"\n",
    "        Delete the index-th node in the linked list, if the index is valid.\n",
    "        :type index: int\n",
    "        :rtype: None\n",
    "        \"\"\"\n",
    "        if index<0 or index-1>self.size\n",
    "            return -1\n",
    "        if index == 0:\n",
    "            self.head = self.head.next\n",
    "            self.size-=1\n",
    "        else:\n",
    "            cur=self.head\n",
    "            \"\"\"\n",
    "            i=0\n",
    "            while i <index-2:\n",
    "                    cur=cur.next\n",
    "                    i+=1\n",
    "            \"\"\"   \n",
    "            for i in range(index-1):\n",
    "                cur=cur.next\n",
    "            #helper.next=None\n",
    "            cur.next=cur.next.next\n",
    "            self.size-=1\n",
    "\n",
    "\"\"\""
   ]
  },
  {
   "cell_type": "code",
   "execution_count": null,
   "metadata": {},
   "outputs": [],
   "source": [
    "#linked list circle\n",
    "class Solution(object):\n",
    "    def hasCycle(self, head):\n",
    "        slow = fast = head\n",
    "        while fast and fast.next:\n",
    "            fast = fast.next.next\n",
    "            slow = slow.next\n",
    "            if slow == fast:\n",
    "                return True\n",
    "        return False\n",
    "#双指针，一个fast一次走两步，一个slow一次走一步。如果能遇上，就是circle"
   ]
  },
  {
   "cell_type": "code",
   "execution_count": null,
   "metadata": {},
   "outputs": [],
   "source": [
    "#while else\n",
    "#当while的判断条件为flase时，执行else.否则执行while"
   ]
  },
  {
   "cell_type": "code",
   "execution_count": null,
   "metadata": {},
   "outputs": [],
   "source": [
    "#交叉链表\n",
    "\n",
    "class Solution(object):\n",
    "    def getIntersectionNode(self, headA, headB):\n",
    "        \"\"\"\n",
    "        :type head1, head1: ListNode\n",
    "        :rtype: ListNode\n",
    "        \"\"\"\n",
    "        visited=[]\n",
    "        while headA:\n",
    "            visited.append(headA)\n",
    "            headA=headA.next\n",
    "        while headB:\n",
    "            if headB in visited:\n",
    "                return headB\n",
    "            headB=headB.next"
   ]
  },
  {
   "cell_type": "code",
   "execution_count": 3,
   "metadata": {},
   "outputs": [
    {
     "data": {
      "text/plain": [
       "2"
      ]
     },
     "execution_count": 3,
     "metadata": {},
     "output_type": "execute_result"
    }
   ],
   "source": [
    "5//2"
   ]
  },
  {
   "cell_type": "code",
   "execution_count": null,
   "metadata": {},
   "outputs": [],
   "source": []
  }
 ],
 "metadata": {
  "kernelspec": {
   "display_name": "Python 3",
   "language": "python",
   "name": "python3"
  },
  "language_info": {
   "codemirror_mode": {
    "name": "ipython",
    "version": 3
   },
   "file_extension": ".py",
   "mimetype": "text/x-python",
   "name": "python",
   "nbconvert_exporter": "python",
   "pygments_lexer": "ipython3",
   "version": "3.7.1"
  }
 },
 "nbformat": 4,
 "nbformat_minor": 2
}
