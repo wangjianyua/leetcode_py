{
 "cells": [
  {
   "cell_type": "code",
   "execution_count": 20,
   "metadata": {},
   "outputs": [
    {
     "data": {
      "text/plain": [
       "'a red car'"
      ]
     },
     "execution_count": 20,
     "metadata": {},
     "output_type": "execute_result"
    }
   ],
   "source": [
    "#dunder str\n",
    "#1 __str__是built-in method，在class中定义__str__，调用时直接str(a)\n",
    "\n",
    "class Car:\n",
    "    def __init__(self, color, mileage):\n",
    "        self.color = color\n",
    "        self.mileage = mileage\n",
    "\n",
    "    def __str__(self):\n",
    "        return 'a {self.color} car'.format(self=self)\n",
    "        return 'a {} car'.format(self.color)#二者结果一样\n",
    "\n",
    "    \n",
    "a=Car('red',1000)\n",
    "str(a)# 'a red car'，在上面定义了 dunder(double underscore) str，返回我们想要的形式\n",
    "#print(a)# a red car， 直接print，print内部也是一个dunder格式，只不过给提前定义了\n"
   ]
  },
  {
   "cell_type": "code",
   "execution_count": 22,
   "metadata": {},
   "outputs": [
    {
     "ename": "SyntaxError",
     "evalue": "invalid syntax (<ipython-input-22-4617a2a68bab>, line 5)",
     "output_type": "error",
     "traceback": [
      "\u001b[1;36m  File \u001b[1;32m\"<ipython-input-22-4617a2a68bab>\"\u001b[1;36m, line \u001b[1;32m5\u001b[0m\n\u001b[1;33m    print str(s)\u001b[0m\n\u001b[1;37m            ^\u001b[0m\n\u001b[1;31mSyntaxError\u001b[0m\u001b[1;31m:\u001b[0m invalid syntax\n"
     ]
    }
   ],
   "source": [
    "#对比1 __repr__\n",
    "#str\n",
    "\n",
    "s = 'Hello, Geeks.'\n",
    "\n",
    "print str(s)     Hello, Geeks.\n",
    "print str(2.0/11.0)     0.181818181818\n",
    "\n",
    "#repr\n",
    "\n",
    "s = 'Hello, Geeks.'\n",
    "print repr(s)     'Hello, Geeks.'\n",
    "print repr(2.0/11.0)    0.18181818181818182\n",
    "\n",
    "#对比之下，repr打印为debug用，打印出String的所有信息。str非正式，打印出易读的形式\n",
    "\n"
   ]
  },
  {
   "cell_type": "code",
   "execution_count": 23,
   "metadata": {},
   "outputs": [
    {
     "ename": "SyntaxError",
     "evalue": "invalid syntax (<ipython-input-23-5b4743ecb05c>, line 6)",
     "output_type": "error",
     "traceback": [
      "\u001b[1;36m  File \u001b[1;32m\"<ipython-input-23-5b4743ecb05c>\"\u001b[1;36m, line \u001b[1;32m6\u001b[0m\n\u001b[1;33m    print str(today)\u001b[0m\n\u001b[1;37m            ^\u001b[0m\n\u001b[1;31mSyntaxError\u001b[0m\u001b[1;31m:\u001b[0m invalid syntax\n"
     ]
    }
   ],
   "source": [
    "#对比2\n",
    "import datetime \n",
    "today = datetime.datetime.now() \n",
    "  \n",
    "# Prints readable format for date-time object \n",
    "print str(today)                   2016-02-22 19:32:04.078030易读\n",
    "  \n",
    "# prints the official format of date-time object \n",
    "print repr(today)  datetime.datetime(2016, 2, 22, 19, 32, 4, 78030) 不易读，但可debug\n",
    "\n",
    "#A user defined class should also have a __repr__ if we need detailed information for debugging. \n",
    "#And if we think it would be useful to have a string version for users, we create a __str__ function."
   ]
  },
  {
   "cell_type": "code",
   "execution_count": 26,
   "metadata": {},
   "outputs": [
    {
     "data": {
      "text/plain": [
       "'Rational(10, 20)'"
      ]
     },
     "execution_count": 26,
     "metadata": {},
     "output_type": "execute_result"
    }
   ],
   "source": [
    "#用户定义的打印\n",
    "\n",
    "# Python program to demonstrate writing of __repr__ and \n",
    "# __str__ for user defined classes \n",
    "  \n",
    "# A user defined class to represent Complex numbers \n",
    "class Complex: \n",
    "  \n",
    "    # Constructor \n",
    "    def __init__(self, real, imag): \n",
    "       self.real = real \n",
    "       self.imag = imag \n",
    "  \n",
    "    # For call to repr(). Prints object's information \n",
    "    def __repr__(self): \n",
    "       return 'Rational(%s, %s)' % (self.real, self.imag)     \n",
    "  \n",
    "    # For call to str(). Prints readable form \n",
    "    def __str__(self): \n",
    "       return '%s + i%s' % (self.real, self.imag)   #也可以被定义为return 'Rational(%s, %s)' % (self.real, self.imag)，返回一样的  \n",
    "  \n",
    "  \n",
    "# Driver program to test above \n",
    "t = Complex(10, 20) \n",
    "  \n",
    "str(t)  # Same as \"print t\"    #10+i20\n",
    "repr(t)                        #'Rational(10, 20)'\n"
   ]
  },
  {
   "cell_type": "code",
   "execution_count": 42,
   "metadata": {},
   "outputs": [
    {
     "name": "stdout",
     "output_type": "stream",
     "text": [
      "Time is (9: 45: 0)\n",
      "Time is (11: 20: 0)\n"
     ]
    }
   ],
   "source": [
    "class Time(object):\n",
    "    def __init__(self, hour=0, minute=0, second=0):\n",
    "        self.hour = hour\n",
    "        self.minute = minute\n",
    "        self.second = second\n",
    "# inside class Time:\n",
    "\n",
    "    def time_to_int(self):\n",
    "        return self.hour*3600+self.minute*60+self.second\n",
    "        \n",
    "    def __add__(self, other):#重新定义了add\n",
    "        seconds = self.time_to_int() + other.time_to_int()\n",
    "        return int_to_time(seconds)#可以返回类之外的函数\n",
    "    \n",
    "    def __str__(self):\n",
    "        #return 'Time is {self.hour:self.minute:self.second} car'.format(self=self)\n",
    "        return 'Time is (%s: %s: %s)' % (self.hour, self.minute, self.second)   \n",
    "\n",
    "def int_to_time(seconds):#注意这里为在lcass外设置def\n",
    "    hour= seconds//3600\n",
    "    minute = (seconds-hour*3600)//60\n",
    "    second= seconds-hour*3600-minute*60\n",
    "    t=Time(hour,minute,second)\n",
    "    return t\n",
    "\n",
    "\n",
    "if __name__ == '__main__':#都好用\n",
    "    \n",
    "    start = Time(9, 45)\n",
    "    seconds=start.time_to_int()\n",
    "    print(seconds)\n",
    "    t=int_to_time(seconds)\n",
    "    str(t)\n",
    "    \n",
    "    start = Time(9, 45)\n",
    "    duration = Time(1, 35)\n",
    "    print(start)\n",
    "    print(start + duration)\n",
    "\n"
   ]
  },
  {
   "cell_type": "code",
   "execution_count": 39,
   "metadata": {},
   "outputs": [
    {
     "name": "stdout",
     "output_type": "stream",
     "text": [
      "35100\n"
     ]
    },
    {
     "data": {
      "text/plain": [
       "'Time is (9: 45: 0)'"
      ]
     },
     "execution_count": 39,
     "metadata": {},
     "output_type": "execute_result"
    }
   ],
   "source": []
  },
  {
   "cell_type": "code",
   "execution_count": null,
   "metadata": {},
   "outputs": [],
   "source": []
  }
 ],
 "metadata": {
  "kernelspec": {
   "display_name": "Python 3",
   "language": "python",
   "name": "python3"
  },
  "language_info": {
   "codemirror_mode": {
    "name": "ipython",
    "version": 3
   },
   "file_extension": ".py",
   "mimetype": "text/x-python",
   "name": "python",
   "nbconvert_exporter": "python",
   "pygments_lexer": "ipython3",
   "version": "3.7.1"
  }
 },
 "nbformat": 4,
 "nbformat_minor": 2
}
