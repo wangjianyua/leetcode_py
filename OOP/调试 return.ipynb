{
 "cells": [
  {
   "cell_type": "code",
   "execution_count": null,
   "metadata": {},
   "outputs": [],
   "source": [
    "if not x:\n",
    "    return -1\n",
    "#这样写报错，'return' outside function。因为只有在函数中才能return"
   ]
  },
  {
   "cell_type": "code",
   "execution_count": 1,
   "metadata": {},
   "outputs": [
    {
     "name": "stdout",
     "output_type": "stream",
     "text": [
      "<class 'list'>\n",
      "[1, 3, 5]\n"
     ]
    }
   ],
   "source": [
    "#return多个值，可指定类型\n",
    "def showlist():\n",
    "    return [1,3,5]   #多元素，返回list(因为指定了list)\n",
    " \n",
    "print(type(showlist()))\n",
    "print(showlist())"
   ]
  },
  {
   "cell_type": "code",
   "execution_count": null,
   "metadata": {},
   "outputs": [],
   "source": [
    "#return多个值，不指定类型，默认tuple\n",
    "def showlist():\n",
    "    return 2,4,6   #多值时，不指定类型，默认分装为元组tuple\n",
    " \n",
    "print(type(showlist()))\n",
    "print(showlist())"
   ]
  },
  {
   "cell_type": "code",
   "execution_count": null,
   "metadata": {},
   "outputs": [],
   "source": [
    "可以看收藏的CSDN:https://blog.csdn.net/sj349781478/article/details/79399213"
   ]
  }
 ],
 "metadata": {
  "kernelspec": {
   "display_name": "Python 3",
   "language": "python",
   "name": "python3"
  },
  "language_info": {
   "codemirror_mode": {
    "name": "ipython",
    "version": 3
   },
   "file_extension": ".py",
   "mimetype": "text/x-python",
   "name": "python",
   "nbconvert_exporter": "python",
   "pygments_lexer": "ipython3",
   "version": "3.7.1"
  }
 },
 "nbformat": 4,
 "nbformat_minor": 2
}
