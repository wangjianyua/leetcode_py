{
 "cells": [
  {
   "cell_type": "code",
   "execution_count": 5,
   "metadata": {},
   "outputs": [
    {
     "name": "stdout",
     "output_type": "stream",
     "text": [
      "foo __init__\n",
      "foo __del__\n",
      "<__main__.Foo object at 0x00000283CF951D68>\n",
      "foo __del__\n"
     ]
    },
    {
     "ename": "NameError",
     "evalue": "name 'foo' is not defined",
     "output_type": "error",
     "traceback": [
      "\u001b[1;31m---------------------------------------------------------------------------\u001b[0m",
      "\u001b[1;31mNameError\u001b[0m                                 Traceback (most recent call last)",
      "\u001b[1;32m<ipython-input-5-9442f7d16f5a>\u001b[0m in \u001b[0;36m<module>\u001b[1;34m\u001b[0m\n\u001b[0;32m     17\u001b[0m \u001b[0mprint\u001b[0m \u001b[1;33m(\u001b[0m\u001b[0mfoo\u001b[0m\u001b[1;33m)\u001b[0m\u001b[1;33m\u001b[0m\u001b[1;33m\u001b[0m\u001b[0m\n\u001b[0;32m     18\u001b[0m \u001b[1;32mdel\u001b[0m \u001b[0mfoo\u001b[0m\u001b[1;33m\u001b[0m\u001b[1;33m\u001b[0m\u001b[0m\n\u001b[1;32m---> 19\u001b[1;33m \u001b[0mprint\u001b[0m \u001b[1;33m(\u001b[0m\u001b[0mfoo\u001b[0m\u001b[1;33m)\u001b[0m  \u001b[1;31m# NameError, foo is not defined\u001b[0m\u001b[1;33m\u001b[0m\u001b[1;33m\u001b[0m\u001b[0m\n\u001b[0m",
      "\u001b[1;31mNameError\u001b[0m: name 'foo' is not defined"
     ]
    }
   ],
   "source": [
    "#__new__是用来创建类并返回这个类的实例, 而__init__只是将传入的参数来初始化该实例.\n",
    "#__new__方法总是需要返回该类的一个实例，而__init__不能返回除了None的任何值。\n",
    "class Foo(object):\n",
    "\n",
    "    def __init__(self):\n",
    "        print ('foo __init__')\n",
    "        return None  # 必须返回None,否则抛TypeError\n",
    "\n",
    "    def __del__(self):\n",
    "        print ('foo __del__')\n",
    "        \n",
    "#在对象的生命周期结束时, __del__会被调用,可以将__del__理解为\"析构函数\".\n",
    "#__del__定义的是当一个对象进行垃圾回收时候的行为。\n",
    "#x.__del__() 并不是对于del x的实现,但是往往执行del x时会调用x.__del__().就像print调用__str__一样\n",
    "foo = Foo()\n",
    "foo.__del__()\n",
    "print (foo)\n",
    "del foo\n",
    "print (foo)  # NameError, foo is not defined"
   ]
  },
  {
   "cell_type": "code",
   "execution_count": null,
   "metadata": {},
   "outputs": [],
   "source": [
    "#属性访问控制\n"
   ]
  }
 ],
 "metadata": {
  "kernelspec": {
   "display_name": "Python 3",
   "language": "python",
   "name": "python3"
  },
  "language_info": {
   "codemirror_mode": {
    "name": "ipython",
    "version": 3
   },
   "file_extension": ".py",
   "mimetype": "text/x-python",
   "name": "python",
   "nbconvert_exporter": "python",
   "pygments_lexer": "ipython3",
   "version": "3.7.1"
  }
 },
 "nbformat": 4,
 "nbformat_minor": 2
}
