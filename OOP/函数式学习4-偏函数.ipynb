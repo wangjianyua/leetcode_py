{
 "cells": [
  {
   "cell_type": "code",
   "execution_count": null,
   "metadata": {},
   "outputs": [],
   "source": [
    "#偏函数：假设要转换大量的二进制字符串，每次都传入int(x, base=2)非常麻烦，于是，我们想到，可以定义一个int2()的函数，默认把base=2传进去：\n",
    "#简而言之，偏函数是可以用来固定参数的某个值\n",
    "def int2(x, base=2):\n",
    "    return int(x, base)\n",
    "#写成偏函数形式\n",
    "import functools\n",
    "int2 = functools.partial(int, base=2)\n",
    "int2('1000000')\n",
    "#partial function把一个函数的某些参数给固定住（也就是设置默认值），返回一个新的函数，调用这个新函数会更简单"
   ]
  },
  {
   "cell_type": "code",
   "execution_count": 3,
   "metadata": {},
   "outputs": [
    {
     "data": {
      "text/plain": [
       "10"
      ]
     },
     "execution_count": 3,
     "metadata": {},
     "output_type": "execute_result"
    }
   ],
   "source": [
    "#创建偏函数时，实际上可以接收函数对象、*args和**kw这3个参数\n",
    "import functools\n",
    "max2 = functools.partial(max, 10)#这里将10作为*args传入arg中了。上面int是作为**KW base的键值对传入\n",
    "max2(1,2,3)"
   ]
  },
  {
   "cell_type": "code",
   "execution_count": null,
   "metadata": {},
   "outputs": [],
   "source": []
  }
 ],
 "metadata": {
  "kernelspec": {
   "display_name": "Python 3",
   "language": "python",
   "name": "python3"
  },
  "language_info": {
   "codemirror_mode": {
    "name": "ipython",
    "version": 3
   },
   "file_extension": ".py",
   "mimetype": "text/x-python",
   "name": "python",
   "nbconvert_exporter": "python",
   "pygments_lexer": "ipython3",
   "version": "3.7.1"
  }
 },
 "nbformat": 4,
 "nbformat_minor": 2
}
