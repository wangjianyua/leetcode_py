{
 "cells": [
  {
   "cell_type": "code",
   "execution_count": 1,
   "metadata": {},
   "outputs": [],
   "source": [
    "\"\"\"\n",
    "访问限制\n",
    "private类在py中定义用__开头，eg这里的self.__name。此时不可直接访问name，需要写新的函数来操作。（目的是在新的函数中加入限制条件，不让错误值输入）\n",
    "\"\"\"\n",
    "class Student(object):\n",
    "    def __init__(self, name, gender):\n",
    "        self.__name = name\n",
    "        self.__gender = gender\n",
    "    def get_gender(self):\n",
    "        return self.__gender\n",
    "    def set_gender(self,gender):\n",
    "        self.__gender=gender\n",
    "    def set_sex(self,sex):\n",
    "        self.__gender=sex-1"
   ]
  },
  {
   "cell_type": "code",
   "execution_count": 7,
   "metadata": {},
   "outputs": [
    {
     "name": "stdout",
     "output_type": "stream",
     "text": [
      "1\n"
     ]
    }
   ],
   "source": [
    "a=Student(1,'m')\n",
    "a.set_sex(2)\n",
    "print(a.get_gender())"
   ]
  },
  {
   "cell_type": "code",
   "execution_count": 8,
   "metadata": {},
   "outputs": [
    {
     "name": "stdout",
     "output_type": "stream",
     "text": [
      "测试成功!\n"
     ]
    }
   ],
   "source": [
    "# 测试:\n",
    "bart = Student('Bart', 'male')\n",
    "if bart.get_gender() != 'male':\n",
    "    print('测试失败!')\n",
    "else:\n",
    "    bart.set_gender('female')\n",
    "    if bart.get_gender() != 'female':\n",
    "        print('测试失败!')\n",
    "    else:\n",
    "        print('测试成功!')"
   ]
  },
  {
   "cell_type": "code",
   "execution_count": 9,
   "metadata": {},
   "outputs": [
    {
     "name": "stdout",
     "output_type": "stream",
     "text": [
      "a is Animal? True\n",
      "a is Dog? False\n",
      "a is Cat? False\n",
      "d is Animal? True\n",
      "d is Dog? True\n",
      "d is Cat? False\n",
      "Cat is running...\n",
      "Cat is running...\n"
     ]
    }
   ],
   "source": [
    "class Animal(object):\n",
    "    def run(self):\n",
    "        print('Animal is running...')\n",
    "\n",
    "class Dog(Animal):\n",
    "    def run(self):\n",
    "        print('Dog is running...')\n",
    "\n",
    "class Cat(Animal):\n",
    "    def run(self):\n",
    "        print('Cat is running...')\n",
    "\n",
    "def run_twice(animal):#接受一个Animal类型的变量，命名不需要与animal相同\n",
    "    animal.run()\n",
    "    animal.run()\n",
    "\n",
    "a = Animal()#括号必须有\n",
    "d = Dog()\n",
    "c = Cat()\n",
    "\n",
    "print('a is Animal?', isinstance(a, Animal))\n",
    "print('a is Dog?', isinstance(a, Dog))\n",
    "print('a is Cat?', isinstance(a, Cat))\n",
    "\n",
    "print('d is Animal?', isinstance(d, Animal))\n",
    "print('d is Dog?', isinstance(d, Dog))\n",
    "print('d is Cat?', isinstance(d, Cat))\n",
    "\n",
    "run_twice(c)"
   ]
  },
  {
   "cell_type": "code",
   "execution_count": 10,
   "metadata": {},
   "outputs": [
    {
     "name": "stdout",
     "output_type": "stream",
     "text": [
      "hasattr(obj, 'x') = True\n",
      "hasattr(obj, 'y') = False\n",
      "hasattr(obj, 'y') = True\n",
      "getattr(obj, 'y') = 19\n",
      "obj.y = 19\n",
      "getattr(obj, 'z') = 404\n",
      "<bound method MyObject.power of <__main__.MyObject object at 0x00000236B0F34F28>>\n",
      "81\n"
     ]
    }
   ],
   "source": [
    "\"\"\"\n",
    "判断是否存在属性\n",
    "\"\"\"\n",
    "class MyObject(object):\n",
    "\n",
    "    def __init__(self):\n",
    "        self.x = 9\n",
    "\n",
    "    def power(self):\n",
    "        return self.x * self.x\n",
    "\n",
    "obj = MyObject()\n",
    "\n",
    "print('hasattr(obj, \\'x\\') =', hasattr(obj, 'x')) # 有属性'x'吗？\n",
    "print('hasattr(obj, \\'y\\') =', hasattr(obj, 'y')) # 有属性'y'吗？\n",
    "setattr(obj, 'y', 19) # 设置一个属性'y'\n",
    "print('hasattr(obj, \\'y\\') =', hasattr(obj, 'y')) # 有属性'y'吗？\n",
    "\n",
    "\"\"\"\n",
    "obj.y能直接写就不写getattr(obj, 'y')\n",
    "\"\"\"\n",
    "print('getattr(obj, \\'y\\') =', getattr(obj, 'y')) # 获取属性'y'\n",
    "print('obj.y =', obj.y) # 获取属性'y'\n",
    "\n",
    "print('getattr(obj, \\'z\\') =',getattr(obj, 'z', 404)) # 获取属性'z'，如果不存在，返回默认值404\n",
    "\"\"\"\n",
    "可重新定义class中的方法，获取class属性后，NB操作要用()\n",
    "\"\"\"\n",
    "f = getattr(obj, 'power') # 获取属性'power'\n",
    "print(f)\n",
    "print(f())"
   ]
  },
  {
   "cell_type": "code",
   "execution_count": 4,
   "metadata": {},
   "outputs": [
    {
     "ename": "AttributeError",
     "evalue": "'int' object has no attribute 'aaaa'",
     "output_type": "error",
     "traceback": [
      "\u001b[1;31m---------------------------------------------------------------------------\u001b[0m",
      "\u001b[1;31mAttributeError\u001b[0m                            Traceback (most recent call last)",
      "\u001b[1;32m<ipython-input-4-15c42c93c247>\u001b[0m in \u001b[0;36m<module>\u001b[1;34m\u001b[0m\n\u001b[0;32m     10\u001b[0m \"\"\"\n\u001b[0;32m     11\u001b[0m \u001b[1;31m#test\u001b[0m\u001b[1;33m\u001b[0m\u001b[1;33m\u001b[0m\u001b[1;33m\u001b[0m\u001b[0m\n\u001b[1;32m---> 12\u001b[1;33m \u001b[0mStudent\u001b[0m\u001b[1;33m.\u001b[0m\u001b[0mcount\u001b[0m\u001b[1;33m.\u001b[0m\u001b[0maaaa\u001b[0m\u001b[1;33m\u001b[0m\u001b[1;33m\u001b[0m\u001b[0m\n\u001b[0m",
      "\u001b[1;31mAttributeError\u001b[0m: 'int' object has no attribute 'aaaa'"
     ]
    }
   ],
   "source": [
    "class Student(object):\n",
    "    count = 0\n",
    "    def __init__(self, name):\n",
    "        self.name = name\n",
    "        Student.count+=1\n",
    "    def aaaa(self):\n",
    "        return self.value\n",
    "\"\"\"\n",
    "self是实例属性，class里面自己的是类属性\n",
    "\"\"\"\n",
    "#test\n",
    "Student.count.aaaa  # 报错，AttributeError: 'int' object has no attribute 'aaaa'，对比enum中，因为这里创建类用的时object，enum中用enum已经创建了类实例"
   ]
  },
  {
   "cell_type": "code",
   "execution_count": 21,
   "metadata": {},
   "outputs": [
    {
     "name": "stdout",
     "output_type": "stream",
     "text": [
      "Students: 2\n",
      "测试通过!\n"
     ]
    },
    {
     "data": {
      "text/plain": [
       "'\\n实例属性属于各个实例所有，互不干扰；\\n\\n类属性属于类所有，所有实例共享一个属性；\\n\\n不要对实例属性和类属性使用相同的名字，否则将产生难以发现的错误。\\n'"
      ]
     },
     "execution_count": 21,
     "metadata": {},
     "output_type": "execute_result"
    }
   ],
   "source": [
    "# 测试:\n",
    "if Student.count != 0:\n",
    "    print('测试失败!')\n",
    "else:\n",
    "    bart = Student('Bart')\n",
    "    if Student.count != 1:\n",
    "        print('测试失败!')\n",
    "    else:\n",
    "        lisa = Student('Bart')\n",
    "        if Student.count != 2:\n",
    "            print('测试失败!')\n",
    "        else:\n",
    "            print('Students:', Student.count)\n",
    "            print('测试通过!')\n",
    "\"\"\"\n",
    "实例属性属于各个实例所有，互不干扰；\n",
    "\n",
    "类属性属于类所有，所有实例共享一个属性；\n",
    "\n",
    "不要对实例属性和类属性使用相同的名字，否则将产生难以发现的错误。\n",
    "\"\"\""
   ]
  },
  {
   "cell_type": "code",
   "execution_count": null,
   "metadata": {},
   "outputs": [],
   "source": [
    "#高级OOP"
   ]
  },
  {
   "cell_type": "code",
   "execution_count": null,
   "metadata": {},
   "outputs": [],
   "source": []
  }
 ],
 "metadata": {
  "kernelspec": {
   "display_name": "Python 3",
   "language": "python",
   "name": "python3"
  },
  "language_info": {
   "codemirror_mode": {
    "name": "ipython",
    "version": 3
   },
   "file_extension": ".py",
   "mimetype": "text/x-python",
   "name": "python",
   "nbconvert_exporter": "python",
   "pygments_lexer": "ipython3",
   "version": "3.7.1"
  }
 },
 "nbformat": 4,
 "nbformat_minor": 2
}
