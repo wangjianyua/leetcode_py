{
 "cells": [
  {
   "cell_type": "code",
   "execution_count": null,
   "metadata": {
    "scrolled": true
   },
   "outputs": [],
   "source": [
    "#;load data using with statement\n",
    "with open(\"ca1_step1_input_data.txt\",'r') as file: #data = file.read() 为read所有，read所有后不容易进行操作\n",
    "    for i in range(7):\n",
    "        header=file.readline()#不用header+=..也不用提前定义header，直接read进来一行一行\n",
    "        print(header)#type:str, 不能header.readline()因为Str不能readline，file可以\n",
    "    \"\"\"\n",
    "    #读一行\n",
    "    line = file.readline()\n",
    "    print(line)\n",
    "    #读n行\n",
    "    line = file.readlines()#读成list\n",
    "    header = line[0:2] #这样的话header.split不可用因为split用于str\n",
    "    print(header)\n",
    "    \"\"\""
   ]
  },
  {
   "cell_type": "code",
   "execution_count": 7,
   "metadata": {},
   "outputs": [
    {
     "name": "stdout",
     "output_type": "stream",
     "text": [
      "1000 0.02 0.05 0.1 400\n"
     ]
    }
   ],
   "source": [
    "value=[]\n",
    "with open(\"ca1_step1_input_data.txt\",'r') as file:\n",
    "    for i in range(2):\n",
    "        header=file.readline()\n",
    "        if i==0:\n",
    "            header=header.replace(';',',')\n",
    "            header=header.replace('#',' ')\n",
    "            header=header.replace('(s)',' ')\n",
    "            header=header.replace('\\t',' ')\n",
    "            header=header.replace('\\n',' ')\n",
    "            header=header.replace(' ','')\n",
    "            header=header.split(',')\n",
    "            key=header#list\n",
    "        elif i==1:\n",
    "            header=header.replace(';',',')\n",
    "            header=header.replace('#',' ')\n",
    "            header=header.replace('(s)',' ')\n",
    "            header=header.replace('\\t',' ')\n",
    "            header=header.replace('\\n',' ')\n",
    "            header=header.replace(' ','')\n",
    "            header=header.split(',')#list of string\n",
    "            for index in range(len(header)):#len(header)=5,header=['1000', '0.0200000000000000', '5.000000E-02', '1.000000E-01', '400']list\n",
    "                try:\n",
    "                    value += [int(header[index])]#int(0.0002)这里会报错，转到float\n",
    "                except:\n",
    "                    value += [float(header[index])]\n",
    "                finally:\n",
    "                    pass#after this, list of number\n",
    "            for name,value in zip(key,value):#把key-value zip到一起成zip形式(不是tuple)（若想print则list(zip(..))），然后iterate\n",
    "                #把vaAlue值赋给name,就像a=9一样赋值，这里不是字典\n",
    "                #NB：exec(obj)执行一个object，exec 'print \"Hello World\"'>>Hello World\n",
    "                #NB: f''(f\"\"),used to format strings:name = \"Eric\",age = 74...f\"Hello, {name}. You are {age}.\">>'Hello, Eric. You are 74.'\n",
    "                #NB:注意必须加{}\n",
    "                exec(f\"{name} = {value}\")\n",
    "            print(time_steps, time_step, radius, v_variance, N_particles)"
   ]
  },
  {
   "cell_type": "code",
   "execution_count": 6,
   "metadata": {},
   "outputs": [
    {
     "name": "stdout",
     "output_type": "stream",
     "text": [
      "1000 0.02 0.05 0.1 400\n",
      "1000 400 4 <class 'float'>\n"
     ]
    }
   ],
   "source": [
    "# parse main header\n",
    "value=[]\n",
    "dim1=[]#vx vy x y\n",
    "dim2=[]#400 particles\n",
    "dim3=[]#1000 snapshots\n",
    "with open(\"ca1_step1_input_data.txt\",'r') as file:\n",
    "    for i in range(1000000):\n",
    "        header=file.readline()\n",
    "        if header == '':\n",
    "            break\n",
    "        if i==0:\n",
    "            header=header.replace(';',',')\n",
    "            header=header.replace('#',' ')\n",
    "            header=header.replace('(s)',' ')\n",
    "            header=header.replace('\\t',' ')\n",
    "            header=header.replace('\\n',' ')\n",
    "            header=header.replace(' ','')\n",
    "            header=header.split(',')\n",
    "            key=header#list\n",
    "        elif i==1:\n",
    "            header=header.replace(';',',')\n",
    "            header=header.replace('#',' ')\n",
    "            header=header.replace('(s)',' ')\n",
    "            header=header.replace('\\t',' ')\n",
    "            header=header.replace('\\n',' ')\n",
    "            header=header.replace(' ','')\n",
    "            header=header.split(',')#list of string\n",
    "            for index in range(len(header)):#len(header)=5,header=['1000', '0.0200000000000000', '5.000000E-02', '1.000000E-01', '400']list\n",
    "                try:\n",
    "                    value += [int(header[index])]#int(0.0002)这里会报错，转到float\n",
    "                except:\n",
    "                    value += [float(header[index])]\n",
    "                finally:\n",
    "                    pass#after this, list of number\n",
    "            for name,value in zip(key,value):#把key-value zip到一起成zip形式(不是tuple)（若想print则list(zip(..))），然后iterate\n",
    "                #把vaAlue值赋给name,就像a=9一样赋值，这里不是字典\n",
    "                #NB：exec(obj)执行一个object，exec 'print \"Hello World\"'>>Hello World\n",
    "                #NB: f''(f\"\"),used to format strings:name = \"Eric\",age = 74...f\"Hello, {name}. You are {age}.\">>'Hello, Eric. You are 74.'\n",
    "                #NB:注意必须加{}\n",
    "                exec(f\"{name} = {value}\")\n",
    "            print(time_steps, time_step, radius, v_variance, N_particles)\n",
    "        else:\n",
    "            if '# time_step' in header:\n",
    "                header=header.replace('\\n','')\n",
    "                dim3.append(dim2)\n",
    "                dim2=[]\n",
    "            elif '# x, y; v_x, v_y' in header:\n",
    "                pass\n",
    "            elif header == '\\n':\n",
    "                pass\n",
    "            else:\n",
    "                header=header.replace(',','')\n",
    "                header=header.replace(';','')\n",
    "                header=header.replace('\\n','')\n",
    "                header=header.split()\n",
    "                dim1= [float(i) for i in header]#把header每个元素带入i，然后float(i)。i只是index，无实际意义                              \n",
    "                dim2.append(dim1)\n",
    "    dim3.append(dim2)   \n",
    "    data=list(filter(None,dim3))#去除不要的\n",
    "    #print(data)\n",
    "    print(len(data), len(data[0]), len(data[0][0]), type(data[0][0][0]))"
   ]
  },
  {
   "cell_type": "code",
   "execution_count": 2,
   "metadata": {},
   "outputs": [
    {
     "name": "stdout",
     "output_type": "stream",
     "text": [
      "<class 'numpy.ndarray'>\n",
      "float64\n",
      "(1000, 400, 4)\n"
     ]
    }
   ],
   "source": [
    "import numpy as np\n",
    "Nd=np.array(data)\n",
    "print(type(Nd))\n",
    "print(Nd.dtype)\n",
    "print(Nd.shape)"
   ]
  },
  {
   "cell_type": "code",
   "execution_count": 3,
   "metadata": {},
   "outputs": [
    {
     "name": "stdout",
     "output_type": "stream",
     "text": [
      "(1000, 2, 400)\n",
      "(1000, 2, 400)\n",
      "<class 'numpy.ndarray'>\n"
     ]
    }
   ],
   "source": [
    "R = Nd[0:, 0:, 0:2]\n",
    "V = Nd[0:, 0:, 2:4]\n",
    "R = np.swapaxes(R, 1, 2)\n",
    "V = np.swapaxes(V, 1, 2)\n",
    "print(R.shape)\n",
    "print(V.shape)\n",
    "print(type(R))"
   ]
  },
  {
   "cell_type": "code",
   "execution_count": 4,
   "metadata": {},
   "outputs": [
    {
     "data": {
      "text/plain": [
       "<Figure size 640x480 with 1 Axes>"
      ]
     },
     "metadata": {},
     "output_type": "display_data"
    }
   ],
   "source": [
    "import matplotlib.pyplot as plt\n",
    "plt.scatter(R[0][0][:], R[0][1][:])\n",
    "plt.axis([-1, 1,-1, 1],'equal')\n",
    "plt.show()    "
   ]
  },
  {
   "cell_type": "code",
   "execution_count": 8,
   "metadata": {},
   "outputs": [
    {
     "ename": "SyntaxError",
     "evalue": "invalid character in identifier (<ipython-input-8-d881e5325470>, line 4)",
     "output_type": "error",
     "traceback": [
      "\u001b[1;36m  File \u001b[1;32m\"<ipython-input-8-d881e5325470>\"\u001b[1;36m, line \u001b[1;32m4\u001b[0m\n\u001b[1;33m    f.attrs[’time_steps’] = time_steps\u001b[0m\n\u001b[1;37m                       ^\u001b[0m\n\u001b[1;31mSyntaxError\u001b[0m\u001b[1;31m:\u001b[0m invalid character in identifier\n"
     ]
    }
   ],
   "source": [
    "with h5py.File(\"ca1_step1_input_data.hdf5\", \"w\") as f:\n",
    "    f.create_dataset(\"R\", data=R)\n",
    "    f.create_dataset(\"V\", data=V)\n",
    "    f.attrs[’time_steps’] = time_steps\n",
    "    f.attrs[’time_step’] = time_step\n",
    "    f.attrs[’radius’] = radius\n",
    "    f.attrs[’v_variance’] = v_variance\n",
    "    f.attrs[’N_particles’] = N_particles"
   ]
  },
  {
   "cell_type": "code",
   "execution_count": null,
   "metadata": {},
   "outputs": [],
   "source": []
  }
 ],
 "metadata": {
  "kernelspec": {
   "display_name": "Python 3",
   "language": "python",
   "name": "python3"
  },
  "language_info": {
   "codemirror_mode": {
    "name": "ipython",
    "version": 3
   },
   "file_extension": ".py",
   "mimetype": "text/x-python",
   "name": "python",
   "nbconvert_exporter": "python",
   "pygments_lexer": "ipython3",
   "version": "3.7.1"
  }
 },
 "nbformat": 4,
 "nbformat_minor": 2
}
