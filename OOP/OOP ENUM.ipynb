{
 "cells": [
  {
   "cell_type": "code",
   "execution_count": 1,
   "metadata": {},
   "outputs": [
    {
     "name": "stdout",
     "output_type": "stream",
     "text": [
      "The enum member as a string is : Days.Mon\n",
      "he enum member as a repr is : <Days.Sun: 1>\n",
      "The type of enum member is : <enum 'Days'>\n",
      "The name of enum member is : Tue\n"
     ]
    },
    {
     "data": {
      "text/plain": [
       "2"
      ]
     },
     "execution_count": 1,
     "metadata": {},
     "output_type": "execute_result"
    }
   ],
   "source": [
    "#An enumeration is a set of symbolic names (members) bound to unique, constant values. Within an enumeration, the members can be compared by identity, and the enumeration itself can be iterated over.\n",
    "\n",
    "import enum\n",
    "# Using enum class create enumerations\n",
    "class Days(enum.Enum):#若import enum，要用enum.Enum调用。 #from enum import Enum，若这样可以直接调用\n",
    "   Sun = 1\n",
    "   Mon = 2\n",
    "   Tue = 3\n",
    "# print the enum member as a string\n",
    "print (\"The enum member as a string is : \",end=\"\")\n",
    "print (Days.Mon)\n",
    "\n",
    "# print the enum member as a repr\n",
    "print (\"he enum member as a repr is : \",end=\"\")\n",
    "print (repr(Days.Sun))\n",
    "\n",
    "# Check type of enum member\n",
    "print (\"The type of enum member is : \",end =\"\")\n",
    "print (type(Days.Mon))\n",
    "\n",
    "# print name of enum member\n",
    "print (\"The name of enum member is : \",end =\"\")\n",
    "print (Days.Tue.name)\n",
    "\n",
    "\n",
    "\n",
    "#enum is a hashable dictionary\n",
    "Days(1) #<Days.Sun: 1>，index by number\n",
    "Days['Mon'] #<Days.Mon: 2>,index by name\n",
    "\n",
    "#If you have an enum member and need its name or value:\n",
    "member=Days.Mon\n",
    "member.name#Mon\n",
    "member.value#2"
   ]
  },
  {
   "cell_type": "code",
   "execution_count": 10,
   "metadata": {},
   "outputs": [
    {
     "ename": "ValueError",
     "evalue": "duplicate values found in <enum 'Mistake'>: four -> three",
     "output_type": "error",
     "traceback": [
      "\u001b[1;31m---------------------------------------------------------------------------\u001b[0m",
      "\u001b[1;31mValueError\u001b[0m                                Traceback (most recent call last)",
      "\u001b[1;32m<ipython-input-10-2830093f74bd>\u001b[0m in \u001b[0;36m<module>\u001b[1;34m\u001b[0m\n\u001b[0;32m      1\u001b[0m \u001b[1;32mfrom\u001b[0m \u001b[0menum\u001b[0m \u001b[1;32mimport\u001b[0m \u001b[0mEnum\u001b[0m\u001b[1;33m,\u001b[0m \u001b[0munique\u001b[0m\u001b[1;33m\u001b[0m\u001b[1;33m\u001b[0m\u001b[0m\n\u001b[0;32m      2\u001b[0m \u001b[1;33m@\u001b[0m\u001b[0munique\u001b[0m\u001b[1;33m\u001b[0m\u001b[1;33m\u001b[0m\u001b[0m\n\u001b[1;32m----> 3\u001b[1;33m \u001b[1;32mclass\u001b[0m \u001b[0mMistake\u001b[0m\u001b[1;33m(\u001b[0m\u001b[0mEnum\u001b[0m\u001b[1;33m)\u001b[0m\u001b[1;33m:\u001b[0m\u001b[1;33m\u001b[0m\u001b[1;33m\u001b[0m\u001b[0m\n\u001b[0m\u001b[0;32m      4\u001b[0m     \u001b[0mone\u001b[0m \u001b[1;33m=\u001b[0m \u001b[1;36m1\u001b[0m\u001b[1;33m\u001b[0m\u001b[1;33m\u001b[0m\u001b[0m\n\u001b[0;32m      5\u001b[0m     \u001b[0mtwo\u001b[0m \u001b[1;33m=\u001b[0m \u001b[1;36m2\u001b[0m\u001b[1;33m\u001b[0m\u001b[1;33m\u001b[0m\u001b[0m\n",
      "\u001b[1;32mf:\\python\\lib\\enum.py\u001b[0m in \u001b[0;36munique\u001b[1;34m(enumeration)\u001b[0m\n\u001b[0;32m    846\u001b[0m                 [\"%s -> %s\" % (alias, name) for (alias, name) in duplicates])\n\u001b[0;32m    847\u001b[0m         raise ValueError('duplicate values found in %r: %s' %\n\u001b[1;32m--> 848\u001b[1;33m                 (enumeration, alias_details))\n\u001b[0m\u001b[0;32m    849\u001b[0m     \u001b[1;32mreturn\u001b[0m \u001b[0menumeration\u001b[0m\u001b[1;33m\u001b[0m\u001b[1;33m\u001b[0m\u001b[0m\n\u001b[0;32m    850\u001b[0m \u001b[1;33m\u001b[0m\u001b[0m\n",
      "\u001b[1;31mValueError\u001b[0m: duplicate values found in <enum 'Mistake'>: four -> three"
     ]
    }
   ],
   "source": [
    "#enum unique： 创建不允许重复的类\n",
    "\n",
    "from enum import Enum, unique\n",
    "@unique\n",
    "class Mistake(Enum):#报错，duplicate values found in <enum 'Mistake'>: four -> three。因为unique之后，不允许存在duplicate\n",
    "    one = 1\n",
    "    two = 2\n",
    "    three = 3\n",
    "    four = 3"
   ]
  },
  {
   "cell_type": "code",
   "execution_count": 15,
   "metadata": {},
   "outputs": [
    {
     "name": "stdout",
     "output_type": "stream",
     "text": [
      "Sun Days.Sun\n",
      "Mon Days.Mon\n",
      "Tue Days.Tue\n"
     ]
    }
   ],
   "source": [
    "#enum中自带的interation，用member\n",
    "for name, member in Days.__members__.items():\n",
    "    print(name, member)"
   ]
  },
  {
   "cell_type": "code",
   "execution_count": 33,
   "metadata": {},
   "outputs": [
    {
     "data": {
      "text/plain": [
       "True"
      ]
     },
     "execution_count": 33,
     "metadata": {},
     "output_type": "execute_result"
    }
   ],
   "source": [
    "#compare\n",
    "\n",
    "#Ordered comparisons between enumeration values are not supported\n",
    "\n",
    "Days.Sun<Days.Mon #会报错'<' not supported between instances of 'Days' and 'Days'\n",
    "Days.Mon==2#False，Comparisons against non-enumeration values will always compare not equal\n",
    "\n",
    "#用Intenum可以解决以上问题\n",
    "from enum import IntEnum\n",
    "class Shape(IntEnum):\n",
    "    circle = 1\n",
    "    square = 2\n",
    "\n",
    "class Request(IntEnum):\n",
    "    post = 1\n",
    "    get = 2\n",
    "\n",
    "Shape.circle<Shape.square #True\n",
    "Shape.circle==Request.post #True，甚至可以跨类（但必须都用IntEnum定义）比较\n",
    "Shape.square=Days.Mon #false，因为Days用enum定义，shape用intenum定义\n"
   ]
  },
  {
   "cell_type": "code",
   "execution_count": 40,
   "metadata": {},
   "outputs": [
    {
     "ename": "TypeError",
     "evalue": "favorite_mood() takes 1 positional argument but 2 were given",
     "output_type": "error",
     "traceback": [
      "\u001b[1;31m---------------------------------------------------------------------------\u001b[0m",
      "\u001b[1;31mTypeError\u001b[0m                                 Traceback (most recent call last)",
      "\u001b[1;32m<ipython-input-40-8df9b93d2039>\u001b[0m in \u001b[0;36m<module>\u001b[1;34m\u001b[0m\n\u001b[0;32m     20\u001b[0m \u001b[1;33m\u001b[0m\u001b[0m\n\u001b[0;32m     21\u001b[0m \u001b[1;31m#test\u001b[0m\u001b[1;33m\u001b[0m\u001b[1;33m\u001b[0m\u001b[1;33m\u001b[0m\u001b[0m\n\u001b[1;32m---> 22\u001b[1;33m \u001b[0mMood\u001b[0m\u001b[1;33m.\u001b[0m\u001b[0mfavorite_mood\u001b[0m\u001b[1;33m(\u001b[0m\u001b[0mMood\u001b[0m\u001b[1;33m)\u001b[0m \u001b[1;31m#<Mood.happy: 3>\u001b[0m\u001b[1;33m\u001b[0m\u001b[1;33m\u001b[0m\u001b[0m\n\u001b[0m\u001b[0;32m     23\u001b[0m \u001b[1;31m#Mood.happy.describe() #('happy', 3)#用onject创建会报错'int' object has no attribute 'describe'\u001b[0m\u001b[1;33m\u001b[0m\u001b[1;33m\u001b[0m\u001b[1;33m\u001b[0m\u001b[0m\n\u001b[0;32m     24\u001b[0m \u001b[1;31m#str(Mood.funky) #'my custom str! 1'\u001b[0m\u001b[1;33m\u001b[0m\u001b[1;33m\u001b[0m\u001b[1;33m\u001b[0m\u001b[0m\n",
      "\u001b[1;31mTypeError\u001b[0m: favorite_mood() takes 1 positional argument but 2 were given"
     ]
    }
   ],
   "source": [
    "#enum的修饰\n",
    "\n",
    "class Mood(object):\n",
    "    \n",
    "    funky = 1#一个实例，self.name=funky,self.value=1\n",
    "    happy = 3\n",
    "    \n",
    "    def describe(self):\n",
    "    # self is the member here\n",
    "        return self.name, self.value\n",
    "\n",
    "    def __str__(self):\n",
    "        return 'my custom str! {0}'.format(self.value)\n",
    "\n",
    "    @classmethod \n",
    "    def favorite_mood(cls):\n",
    "    # cls here is the enumeration\n",
    "        return cls.happy\n",
    "\n",
    "\n",
    "#test\n",
    "Mood.favorite_mood() #<Mood.happy: 3>\n",
    "#Mood.happy.describe() #('happy', 3)#用onject创建会报错'int' object has no attribute 'describe'\n",
    "#str(Mood.funky) #'my custom str! 1'\n",
    "\n",
    "\"\"\"\n",
    "此例中，funky和happy为类属性，用Enum创建。\n",
    "\"\"\""
   ]
  },
  {
   "cell_type": "code",
   "execution_count": 26,
   "metadata": {},
   "outputs": [
    {
     "ename": "TypeError",
     "evalue": "Cannot extend enumerations",
     "output_type": "error",
     "traceback": [
      "\u001b[1;31m---------------------------------------------------------------------------\u001b[0m",
      "\u001b[1;31mTypeError\u001b[0m                                 Traceback (most recent call last)",
      "\u001b[1;32m<ipython-input-26-063d235ca940>\u001b[0m in \u001b[0;36m<module>\u001b[1;34m\u001b[0m\n\u001b[0;32m      1\u001b[0m \u001b[1;31m#Enum与继承\u001b[0m\u001b[1;33m\u001b[0m\u001b[1;33m\u001b[0m\u001b[1;33m\u001b[0m\u001b[0m\n\u001b[0;32m      2\u001b[0m \u001b[1;31m#Subclassing an enumeration is allowed only if the enumeration does not define any members. So this is forbidden:\u001b[0m\u001b[1;33m\u001b[0m\u001b[1;33m\u001b[0m\u001b[1;33m\u001b[0m\u001b[0m\n\u001b[1;32m----> 3\u001b[1;33m \u001b[1;32mclass\u001b[0m \u001b[0mMoreDays\u001b[0m\u001b[1;33m(\u001b[0m\u001b[0mDays\u001b[0m\u001b[1;33m)\u001b[0m\u001b[1;33m:\u001b[0m\u001b[1;33m\u001b[0m\u001b[1;33m\u001b[0m\u001b[0m\n\u001b[0m\u001b[0;32m      4\u001b[0m     \u001b[0mlwh\u001b[0m \u001b[1;33m=\u001b[0m \u001b[1;36m17\u001b[0m\u001b[1;33m\u001b[0m\u001b[1;33m\u001b[0m\u001b[0m\n",
      "\u001b[1;32mf:\\python\\lib\\enum.py\u001b[0m in \u001b[0;36m__prepare__\u001b[1;34m(metacls, cls, bases)\u001b[0m\n\u001b[0;32m    127\u001b[0m         \u001b[0menum_dict\u001b[0m \u001b[1;33m=\u001b[0m \u001b[0m_EnumDict\u001b[0m\u001b[1;33m(\u001b[0m\u001b[1;33m)\u001b[0m\u001b[1;33m\u001b[0m\u001b[1;33m\u001b[0m\u001b[0m\n\u001b[0;32m    128\u001b[0m         \u001b[1;31m# inherit previous flags and _generate_next_value_ function\u001b[0m\u001b[1;33m\u001b[0m\u001b[1;33m\u001b[0m\u001b[1;33m\u001b[0m\u001b[0m\n\u001b[1;32m--> 129\u001b[1;33m         \u001b[0mmember_type\u001b[0m\u001b[1;33m,\u001b[0m \u001b[0mfirst_enum\u001b[0m \u001b[1;33m=\u001b[0m \u001b[0mmetacls\u001b[0m\u001b[1;33m.\u001b[0m\u001b[0m_get_mixins_\u001b[0m\u001b[1;33m(\u001b[0m\u001b[0mbases\u001b[0m\u001b[1;33m)\u001b[0m\u001b[1;33m\u001b[0m\u001b[1;33m\u001b[0m\u001b[0m\n\u001b[0m\u001b[0;32m    130\u001b[0m         \u001b[1;32mif\u001b[0m \u001b[0mfirst_enum\u001b[0m \u001b[1;32mis\u001b[0m \u001b[1;32mnot\u001b[0m \u001b[1;32mNone\u001b[0m\u001b[1;33m:\u001b[0m\u001b[1;33m\u001b[0m\u001b[1;33m\u001b[0m\u001b[0m\n\u001b[0;32m    131\u001b[0m             \u001b[0menum_dict\u001b[0m\u001b[1;33m[\u001b[0m\u001b[1;34m'_generate_next_value_'\u001b[0m\u001b[1;33m]\u001b[0m \u001b[1;33m=\u001b[0m \u001b[0mgetattr\u001b[0m\u001b[1;33m(\u001b[0m\u001b[0mfirst_enum\u001b[0m\u001b[1;33m,\u001b[0m \u001b[1;34m'_generate_next_value_'\u001b[0m\u001b[1;33m,\u001b[0m \u001b[1;32mNone\u001b[0m\u001b[1;33m)\u001b[0m\u001b[1;33m\u001b[0m\u001b[1;33m\u001b[0m\u001b[0m\n",
      "\u001b[1;32mf:\\python\\lib\\enum.py\u001b[0m in \u001b[0;36m_get_mixins_\u001b[1;34m(bases)\u001b[0m\n\u001b[0;32m    468\u001b[0m         \u001b[0mmember_type\u001b[0m \u001b[1;33m=\u001b[0m \u001b[0m_find_data_type\u001b[0m\u001b[1;33m(\u001b[0m\u001b[0mbases\u001b[0m\u001b[1;33m)\u001b[0m \u001b[1;32mor\u001b[0m \u001b[0mobject\u001b[0m\u001b[1;33m\u001b[0m\u001b[1;33m\u001b[0m\u001b[0m\n\u001b[0;32m    469\u001b[0m         \u001b[1;32mif\u001b[0m \u001b[0mfirst_enum\u001b[0m\u001b[1;33m.\u001b[0m\u001b[0m_member_names_\u001b[0m\u001b[1;33m:\u001b[0m\u001b[1;33m\u001b[0m\u001b[1;33m\u001b[0m\u001b[0m\n\u001b[1;32m--> 470\u001b[1;33m             \u001b[1;32mraise\u001b[0m \u001b[0mTypeError\u001b[0m\u001b[1;33m(\u001b[0m\u001b[1;34m\"Cannot extend enumerations\"\u001b[0m\u001b[1;33m)\u001b[0m\u001b[1;33m\u001b[0m\u001b[1;33m\u001b[0m\u001b[0m\n\u001b[0m\u001b[0;32m    471\u001b[0m         \u001b[1;32mreturn\u001b[0m \u001b[0mmember_type\u001b[0m\u001b[1;33m,\u001b[0m \u001b[0mfirst_enum\u001b[0m\u001b[1;33m\u001b[0m\u001b[1;33m\u001b[0m\u001b[0m\n\u001b[0;32m    472\u001b[0m \u001b[1;33m\u001b[0m\u001b[0m\n",
      "\u001b[1;31mTypeError\u001b[0m: Cannot extend enumerations"
     ]
    }
   ],
   "source": [
    "#Enum与继承   \n",
    "\n",
    "#Subclassing an enumeration is allowed only if the enumeration does not define any members. So this is forbidden:\n",
    "class MoreDays(Days):\n",
    "    lwh = 17 #TypeError: Cannot extend enumerations\n",
    "\n",
    "#但如果，则可以。因为这里enum没有定义任何number，但这样\n",
    "class Foo(Enum):\n",
    "    def some_behavior(self):\n",
    "        pass\n",
    "\n",
    "class Bar(Foo):\n",
    "    happy = 1\n",
    "    sad = 2\n",
    "#Allowing subclassing of enums that define members would lead to a violation of some important invariants of types and instances. On the other hand, it makes sense to allow sharing some common behavior between a group of enumerations. "
   ]
  },
  {
   "cell_type": "code",
   "execution_count": null,
   "metadata": {},
   "outputs": [],
   "source": [
    "#enum的简单创建\n",
    "\n",
    "Animal = Enum('Animal', 'ant bee cat dog')\n",
    "Animal #<enum 'Animal'>,直接时enum类的animal\n",
    "Animal.ant #<Animal.ant: 1>\n",
    "Animal.ant.value #1\n",
    "list(Animal) #[<Animal.ant: 1>, <Animal.bee: 2>, <Animal.cat: 3>, <Animal.dog: 4>] list后变为member:name, value\n",
    "#自动排序从1开始，因为boolean判断0为false，从1开始\n",
    "\n",
    "\"\"\"\n",
    "class Animal(Enum):\n",
    "...     ant = 1\n",
    "...     bee = 2\n",
    "...     cat = 3\n",
    "...     dog = 4\n",
    "和这样创建时一样的\n",
    "\"\"\"\n"
   ]
  },
  {
   "cell_type": "code",
   "execution_count": 30,
   "metadata": {},
   "outputs": [
    {
     "name": "stdout",
     "output_type": "stream",
     "text": [
      "[<animal.lwh: 1>, <animal.yjf: 2>, <animal.lcy: 3>]\n"
     ]
    }
   ],
   "source": [
    "twentyban = Enum('animal', 'lwh yjf lcy')\n",
    "print(list(twentyban))"
   ]
  },
  {
   "cell_type": "code",
   "execution_count": null,
   "metadata": {},
   "outputs": [],
   "source": []
  }
 ],
 "metadata": {
  "kernelspec": {
   "display_name": "Python 3",
   "language": "python",
   "name": "python3"
  },
  "language_info": {
   "codemirror_mode": {
    "name": "ipython",
    "version": 3
   },
   "file_extension": ".py",
   "mimetype": "text/x-python",
   "name": "python",
   "nbconvert_exporter": "python",
   "pygments_lexer": "ipython3",
   "version": "3.7.1"
  }
 },
 "nbformat": 4,
 "nbformat_minor": 2
}
