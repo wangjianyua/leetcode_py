{
 "cells": [
  {
   "cell_type": "code",
   "execution_count": 1,
   "metadata": {},
   "outputs": [
    {
     "name": "stdout",
     "output_type": "stream",
     "text": [
      "2015-3-25\n"
     ]
    }
   ],
   "source": [
    "#导语：我们可以把函数（当作object）赋给变量，如下把now赋给f，再调用f就是调用now\n",
    "def now():\n",
    "    print('2015-3-25')\n",
    "f = now\n",
    "f()"
   ]
  },
  {
   "cell_type": "code",
   "execution_count": 11,
   "metadata": {},
   "outputs": [
    {
     "name": "stdout",
     "output_type": "stream",
     "text": [
      "call now():\n",
      "2015-3-25\n"
     ]
    },
    {
     "data": {
      "text/plain": [
       "'wrapper'"
      ]
     },
     "execution_count": 11,
     "metadata": {},
     "output_type": "execute_result"
    }
   ],
   "source": [
    "#现在，假设我们要增强now()函数的功能，比如，在函数调用前后自动打印日志，但又不希望修改now()函数的定义，这种在代码运行期间动态增加功能的方式，称之为“装饰器”（Decorator）。\n",
    "#简而言之，装饰器是把想要添加功能的函数nest进来\n",
    "def log(func):#作为decorator，接受函数作为输入，再返回一个函数\n",
    "    def wrapper(*args, **kw):#可接受任何参数输入\n",
    "        print('call %s():' % func.__name__)#相当于matlab disp，func.__name__显示输入函数的name\n",
    "        return func(*args, **kw)\n",
    "    return wrapper#返回函数，闭包\n",
    "@log#我们要借助Python的@语法，把decorator置于函数的定义处。 把@log放到now()函数的定义处，相当于执行了语句log(new)\n",
    "def now():\n",
    "    print('2015-3-25')\n",
    "now()\n",
    "now.__name__#值得注意，这里now的name改变了，因为我们返回的是warper\n",
    "#由于log()是一个decorator，返回一个函数，所以，原来的now()函数仍然存在，只是现在同名的now变量指向了新的函数，\n",
    "#于是调用now()将执行新函数，即在log()函数中返回的wrapper()函数。"
   ]
  },
  {
   "cell_type": "code",
   "execution_count": 12,
   "metadata": {},
   "outputs": [
    {
     "name": "stdout",
     "output_type": "stream",
     "text": [
      "execute now():\n",
      "2015-3-25\n"
     ]
    },
    {
     "data": {
      "text/plain": [
       "'wrapper'"
      ]
     },
     "execution_count": 12,
     "metadata": {},
     "output_type": "execute_result"
    }
   ],
   "source": [
    "#如果decorator本身需要传入参数，那就需要编写一个返回decorator的高阶函数，写出来会更复杂。比如，要自定义log的文本：\n",
    "def log(text):\n",
    "    def decorator(func):\n",
    "        def wrapper(*args, **kw):\n",
    "            print('%s %s():' % (text, func.__name__))\n",
    "            return func(*args, **kw)#注意这三个return\n",
    "        return wrapper\n",
    "    return decorator\n",
    "@log('execute')#当log需要输入时\n",
    "def now():\n",
    "    print('2015-3-25')\n",
    "now()\n",
    "now.__name__#值得注意，这里now的name改变了，因为我们返回了warper。\n",
    "#这时，需要把原始函数的__name__等属性复制到wrapper()函数中，否则，有些依赖函数签名的代码执行就会出错\n",
    "#不需要编写wrapper.__name__ = func.__name__这样的代码，使用Python内置的functools.wraps，见下面"
   ]
  },
  {
   "cell_type": "code",
   "execution_count": 13,
   "metadata": {},
   "outputs": [
    {
     "name": "stdout",
     "output_type": "stream",
     "text": [
      "execute now():\n",
      "2015-3-25\n"
     ]
    },
    {
     "data": {
      "text/plain": [
       "'now'"
      ]
     },
     "execution_count": 13,
     "metadata": {},
     "output_type": "execute_result"
    }
   ],
   "source": [
    "import functools\n",
    "\n",
    "def log(text):\n",
    "    def decorator(func):\n",
    "        @functools.wraps(func)#保留原函数的签名,把func赋给wrap\n",
    "        def wrapper(*args, **kw):\n",
    "            print('%s %s():' % (text, func.__name__))\n",
    "            return func(*args, **kw)\n",
    "        return wrapper\n",
    "    return decorator\n",
    "@log('execute')#当log需要输入时\n",
    "def now():\n",
    "    print('2015-3-25')\n",
    "now()\n",
    "now.__name__#这里是now了，需要依赖函数签名的情况下不改变"
   ]
  },
  {
   "cell_type": "code",
   "execution_count": 45,
   "metadata": {},
   "outputs": [
    {
     "name": "stdout",
     "output_type": "stream",
     "text": [
      "fast executed in 0.003011465072631836 ms\n",
      "slow executed in 0.12406492233276367 ms\n"
     ]
    }
   ],
   "source": [
    "#test: 请设计一个decorator，它可作用于任何函数上，并打印该函数的执行时间：\n",
    "\n",
    "import time, functools\n",
    "def metric(fn):\n",
    "    @functools.wraps(fn)#注意，一定要在warper（被赋予原函数签名的函数）前运行，否则会报错Invalid syntax。并且，这里要用wraps，不用函数名\n",
    "    def wrapper(*args, **kw):\n",
    "        a = time.time ()\n",
    "        ccc = fn(*args, **kw)\n",
    "        b = time.time ()\n",
    "        print('%s executed in %s ms' % (fn.__name__, b-a))#print('%s executed in %.4f ms' % (fn.__name__, time.time() - t0))取四位\n",
    "        return ccc\n",
    "    return wrapper\n",
    "\n",
    "\"\"\"\n",
    "def metric(fn):\n",
    "    @functools.wraps(fn)\n",
    "    def wrapper(*args, **kw):\n",
    "        t0 = time.time()\n",
    "        result = fn(*args, **kw)\n",
    "        print('%s executed in %.4f ms' % (fn.__name__, time.time() - t0))\n",
    "        return result\n",
    "    return wrapper\n",
    "\"\"\"\n",
    "\n",
    "\n",
    "              \n",
    "# 测试\n",
    "@metric\n",
    "def fast(x, y):\n",
    "    time.sleep(0.0012)\n",
    "    return x + y;\n",
    "\n",
    "@metric\n",
    "def slow(x, y, z):\n",
    "    time.sleep(0.1234)\n",
    "    return x * y * z;\n",
    "\n",
    "f = fast(11, 22)\n",
    "s = slow(11, 22, 33)\n",
    "if f != 33:\n",
    "    print('测试失败!')\n",
    "elif s != 7986:\n",
    "    print('测试失败!')"
   ]
  },
  {
   "cell_type": "code",
   "execution_count": 46,
   "metadata": {},
   "outputs": [
    {
     "name": "stdout",
     "output_type": "stream",
     "text": [
      "fast executed in 0.0030 ms\n",
      "slow executed in 0.1244 ms\n"
     ]
    }
   ],
   "source": [
    "#decorator，用函数作为输入。在使用时，在像使用的函数前调用。"
   ]
  }
 ],
 "metadata": {
  "kernelspec": {
   "display_name": "Python 3",
   "language": "python",
   "name": "python3"
  },
  "language_info": {
   "codemirror_mode": {
    "name": "ipython",
    "version": 3
   },
   "file_extension": ".py",
   "mimetype": "text/x-python",
   "name": "python",
   "nbconvert_exporter": "python",
   "pygments_lexer": "ipython3",
   "version": "3.7.1"
  }
 },
 "nbformat": 4,
 "nbformat_minor": 2
}
