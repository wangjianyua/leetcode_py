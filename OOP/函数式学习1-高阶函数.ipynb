{
 "cells": [
  {
   "cell_type": "code",
   "execution_count": 4,
   "metadata": {},
   "outputs": [
    {
     "name": "stdout",
     "output_type": "stream",
     "text": [
      "11\n"
     ]
    }
   ],
   "source": [
    "#高阶函数是什么\n",
    "#首先看普通函数abs，我们可以对abs赋值例如abs=10，但之后就不可以调用了。或者f=abs，则f可以实现abs得作用\n",
    "#既然变量可以指向函数，函数的参数能接收变量，那么一个函数就可以接收另一个函数作为参数，这种函数就称之为高阶函数\n",
    "#简而言之，高阶函数可以接受另一个函数作为参数\n",
    "\n",
    "def add(x, y, f):#此例中，可输入abs作为参数\n",
    "    return f(x) + f(y)\n",
    "\n",
    "print(add(-5, 6, abs))\n",
    "\n",
    "#下面介绍几个常用的高阶函数"
   ]
  },
  {
   "cell_type": "code",
   "execution_count": null,
   "metadata": {},
   "outputs": [],
   "source": [
    "#高阶函数 map\n",
    "def f(x):\n",
    "    return x * x\n",
    "r = map(f, [1, 2, 3, 4, 5, 6, 7, 8, 9])#不用import functiontool\n",
    "list(r)\n",
    "#比较蠢办法\n",
    "L = []\n",
    "for n in [1, 2, 3, 4, 5, 6, 7, 8, 9]:\n",
    "    L.append(f(n))\n",
    "print(L)\n",
    "#map成组转换类型\n",
    "list(map(str, [1, 2, 3, 4, 5, 6, 7, 8, 9]))\n",
    "s=['123456789']\n",
    "list(map(int,s ))#会得到123456789，如果想拆开，可定义char2nu函数，见reducne+map"
   ]
  },
  {
   "cell_type": "code",
   "execution_count": null,
   "metadata": {},
   "outputs": [],
   "source": [
    "#高阶函数reduce\n",
    "from functools import reduce#必须加\n",
    "def fn(x, y):\n",
    "    return x * 10 + y\n",
    "reduce(fn, [1, 3, 5, 7, 9])"
   ]
  },
  {
   "cell_type": "code",
   "execution_count": null,
   "metadata": {},
   "outputs": [],
   "source": [
    "#reduc+map\n",
    "from functools import reduce\n",
    "def fn(x, y):\n",
    "    return x * 10 + y\n",
    "def char2num(s):#拆开字符串，用字典与map\n",
    "    digits = {'0': 0, '1': 1, '2': 2, '3': 3, '4': 4, '5': 5, '6': 6, '7': 7, '8': 8, '9': 9}\n",
    "    return digits[s]\n",
    "list(map(char2num, '13579'))\n",
    "\n",
    "#整理成函数\n",
    "from functools import reduce\n",
    "\n",
    "DIGITS = {'0': 0, '1': 1, '2': 2, '3': 3, '4': 4, '5': 5, '6': 6, '7': 7, '8': 8, '9': 9}\n",
    "\n",
    "def str2int(s):\n",
    "    def fn(x, y):\n",
    "        return x * 10 + y\n",
    "    def char2num(s):\n",
    "        return DIGITS[s]\n",
    "    return reduce(fn, map(char2num, s))\n",
    "\n",
    "#用lamda简化\n",
    "from functools import reduce\n",
    "\n",
    "DIGITS = {'0': 0, '1': 1, '2': 2, '3': 3, '4': 4, '5': 5, '6': 6, '7': 7, '8': 8, '9': 9}\n",
    "\n",
    "def char2num(s):\n",
    "    return DIGITS[s]\n",
    "\n",
    "def str2int(s):\n",
    "    return reduce(lambda x, y: x * 10 + y, map(char2num, s))"
   ]
  },
  {
   "cell_type": "code",
   "execution_count": null,
   "metadata": {},
   "outputs": [],
   "source": [
    "#练习1：\n",
    "#利用map()函数，把用户输入的不规范的英文名字，变为首字母大写，其他小写的规范名字。输入：['adam', 'LISA', 'barT']，输出：['Adam', 'Lisa', 'Bart']\n",
    "\n",
    "def normalize(name):\n",
    "    def changename(name):\n",
    "        return name.title() #可用Lambda代替，见下面练习2\n",
    "    return list(map(changename,name))\n",
    "\n",
    "#test1\n",
    "L1 = ['adam', 'LISA', 'barT']\n",
    "print(normalize(L1))    \n",
    "      \n",
    "    \n",
    "#相关内置函数\n",
    "\"\"\"\n",
    "str = \"www.runoob.com\"\n",
    "print(str.upper())          # 把所有字符中的小写字母转换成大写字母\n",
    "print(str.lower())          # 把所有字符中的大写字母转换成小写字母\n",
    "print(str.capitalize())     # 把第一个字母转化为大写字母，其余小写\n",
    "print(str.title())          # 把每个单词的第一个字母转化为大写，其余小写 \n",
    "\"\"\""
   ]
  },
  {
   "cell_type": "code",
   "execution_count": null,
   "metadata": {},
   "outputs": [],
   "source": [
    "#练习2   请编写一个prod()函数，可以接受一个list并利用reduce()求积：\n",
    "def prod(L):\n",
    "    return reduce(lambda x,y:x*y, L) #这里import因为之前cell import过了，正常要自己Import一遍\n",
    "#test2\n",
    "print('3 * 5 * 7 * 9 =', prod([3, 5, 7, 9]))\n",
    "if prod([3, 5, 7, 9]) == 945:\n",
    "    print('测试成功!')\n",
    "else:\n",
    "    print('测试失败!')"
   ]
  },
  {
   "cell_type": "code",
   "execution_count": 13,
   "metadata": {},
   "outputs": [
    {
     "name": "stdout",
     "output_type": "stream",
     "text": [
      "str2float('123.456') = 123.456\n",
      "测试成功!\n"
     ]
    }
   ],
   "source": [
    "#练习3：  利用map和reduce编写一个str2float函数，把字符串'123.456'转换成浮点数123.456：\n",
    "from functools import reduce\n",
    "def str2float(s):\n",
    "    #return list(map(float,s)) 不好使因为有','\n",
    "    n=s.index('.')\n",
    "    def fn(x,y):\n",
    "        return 10*x+y\n",
    "    integer=list(map(int, s[:n]))#得[1, 2, 3]，拆分开了\n",
    "    decimal=list(map(int, s[n+1:]))\n",
    "    return reduce(fn,integer)+reduce(fn,decimal)/10**len(decimal)\n",
    "#test3\n",
    "print('str2float(\\'123.456\\') =', str2float('123.456'))\n",
    "if abs(str2float('123.456') - 123.456) < 0.00001:\n",
    "    print('测试成功!')\n",
    "else:\n",
    "    print('测试失败!')\n",
    "\"\"\"\n",
    "s=['123456789']\n",
    "n=s.index('.')  #error:'.' is not in list，因为此时s为list，list中只有一个元素\n",
    "\"\"\""
   ]
  },
  {
   "cell_type": "code",
   "execution_count": 45,
   "metadata": {},
   "outputs": [
    {
     "name": "stdout",
     "output_type": "stream",
     "text": [
      "2\n",
      "3\n",
      "5\n",
      "7\n",
      "11\n",
      "13\n",
      "17\n",
      "19\n",
      "23\n",
      "29\n",
      "31\n",
      "37\n",
      "41\n",
      "43\n",
      "47\n",
      "53\n",
      "59\n",
      "61\n",
      "67\n",
      "71\n",
      "73\n",
      "79\n",
      "83\n",
      "89\n",
      "97\n"
     ]
    }
   ],
   "source": [
    "#高阶函数filter\n",
    "#例子，素数\n",
    "def _odd_iter():#先产生一个只有奇数的序列，因为偶数肯定不是素数\n",
    "    n = 1\n",
    "    while True:#用来与n<100呼应，设置生成条件\n",
    "        n = n + 2\n",
    "        yield n#返回生成器，用于迭代\n",
    "def _not_divisible(n):#判断一堆数能否被n整除\n",
    "    return lambda x: x % n > 0\n",
    "def primes():\n",
    "    yield 2#先在生成器中生成一个2，此时函数不结束（！NB因为c中return就结束了，但是这里不结束），并且次生成器无论如何都输出2，与下面条件无关。（可以实验，设置为0，照样输入0，不参与下面条件判断）\n",
    "    it = _odd_iter() # 初始奇数序列\n",
    "    while True:#用来与n<100呼应，设置生成条件\n",
    "        n = next(it) # 返回序列的第一个数，这里为3，5等（直接对一个iterator next从第一个值开始输出）\n",
    "        yield n#将n放入生成器\n",
    "        it = filter(_not_divisible(n), it) # 判断序列被n整除\n",
    "for n in primes():\n",
    "    if n < 100:\n",
    "        print(n)\n",
    "    else:\n",
    "        break\n",
    "    "
   ]
  },
  {
   "cell_type": "code",
   "execution_count": 21,
   "metadata": {},
   "outputs": [
    {
     "name": "stdout",
     "output_type": "stream",
     "text": [
      "0\n",
      "1\n",
      "4\n"
     ]
    }
   ],
   "source": [
    "#可迭代对象与生成器\n",
    "\n",
    "#可迭代对象：list,str等\n",
    "mylist = [x*x for x in range(3)]#注意使用[]，把数据都读到内存中了，可以重复调用。比如可以再写一个for i in mylist ： print(i)\n",
    "for i in mylist :\n",
    "     print(i)\n",
    "        \n",
    "#生成器：生成器也可以迭代，但是不读入内存，每次迭代实时产生数据\n",
    "mygenerator = (x*x for x in range(3))#注意使用（），不可以反复调用，比如在这个下面在for i in .. print的话是没有结果的\n",
    "for i in mygenerator :\n",
    "    print(i)\n",
    "#理解生成器\n",
    "def yield_test(n):  \n",
    "    for i in range(n):  \n",
    "        yield call(i)  \n",
    "        print(\"i=\",i)  \n",
    "    #做一些其它的事情      \n",
    "    print(\"do something.\")      \n",
    "    print(\"end.\")  \n",
    "def call(i):  \n",
    "    return i*2  \n",
    "  \n",
    "#使用for循环  \n",
    "for i in yield_test(5):  \n",
    "    print(i,\",\")  #看最后结果，直到最后一个迭代结束之后才print do something,因为每次生成器单独计算\n",
    "    \n",
    "#yield：类似return，只是返回生成器。用yield后，函数代码不立刻执行并存储，而是一次一次得迭代存储\n",
    "def createGenerator() :\n",
    "    mylist = range(3)\n",
    "    for i in mylist :\n",
    "        yield i*i\n",
    "mygenerator = createGenerator() # create a generator\n",
    "print(mygenerator) # a genearator!   generator object createGenerator at 0xb7555c34>\n",
    "for i in mygenerator:\n",
    "print(i)\n",
    "\n",
    "#extend生成器\n",
    "a = [1, 2]\n",
    "b = [3, 4]\n",
    "a.extend(b)#对list用extend之后已经变成一个生成器（generator object ），很实用\n",
    "print(i for i in a)\n",
    "\n",
    "#进阶：intertools\n",
    "import itertools"
   ]
  },
  {
   "cell_type": "code",
   "execution_count": 2,
   "metadata": {},
   "outputs": [
    {
     "name": "stdout",
     "output_type": "stream",
     "text": [
      "1~1000: [1, 2, 3, 4, 5, 6, 7, 8, 9, 11, 22, 33, 44, 55, 66, 77, 88, 99, 101, 111, 121, 131, 141, 151, 161, 171, 181, 191, 202, 212, 222, 232, 242, 252, 262, 272, 282, 292, 303, 313, 323, 333, 343, 353, 363, 373, 383, 393, 404, 414, 424, 434, 444, 454, 464, 474, 484, 494, 505, 515, 525, 535, 545, 555, 565, 575, 585, 595, 606, 616, 626, 636, 646, 656, 666, 676, 686, 696, 707, 717, 727, 737, 747, 757, 767, 777, 787, 797, 808, 818, 828, 838, 848, 858, 868, 878, 888, 898, 909, 919, 929, 939, 949, 959, 969, 979, 989, 999]\n",
      "测试成功!\n"
     ]
    }
   ],
   "source": [
    "#test：练习回数/回数是指从左向右读和从右向左读都是一样的数，例如12321，909。请利用filter()筛选出回数：\n",
    "#PS:l=list(str(n)),强制转换，若n=1222，输出['1', '2', '2', '2']\n",
    "\n",
    "# 判断回数\n",
    "def is_palindrome(n):\n",
    "    s=str(n)\n",
    "    for i in range((len(s)+1)//2):\n",
    "        if s[i] != s[-(i+1)]:\n",
    "            return False\n",
    "    return True\n",
    "\n",
    "# 测试:\n",
    "output = filter(is_palindrome, range(1, 1000))\n",
    "print('1~1000:', list(output))\n",
    "if list(filter(is_palindrome, range(1, 200))) == [1, 2, 3, 4, 5, 6, 7, 8, 9, 11, 22, 33, 44, 55, 66, 77, 88, 99, 101, 111, 121, 131, 141, 151, 161, 171, 181, 191]:\n",
    "    print('测试成功!')\n",
    "else:\n",
    "    print('测试失败!')"
   ]
  },
  {
   "cell_type": "code",
   "execution_count": 3,
   "metadata": {},
   "outputs": [
    {
     "data": {
      "text/plain": [
       "[5, 9, -12, -21, 36]"
      ]
     },
     "execution_count": 3,
     "metadata": {},
     "output_type": "execute_result"
    }
   ],
   "source": [
    "#sorted函数，改变key或者reverse来设置constraints\n",
    "sorted(['bob', 'about', 'Zoo', 'Credit'], key=str.lower, reverse=True)\n",
    "sorted([36, 5, -12, 9, -21], key=abs)"
   ]
  },
  {
   "cell_type": "code",
   "execution_count": null,
   "metadata": {},
   "outputs": [],
   "source": []
  }
 ],
 "metadata": {
  "kernelspec": {
   "display_name": "Python 3",
   "language": "python",
   "name": "python3"
  },
  "language_info": {
   "codemirror_mode": {
    "name": "ipython",
    "version": 3
   },
   "file_extension": ".py",
   "mimetype": "text/x-python",
   "name": "python",
   "nbconvert_exporter": "python",
   "pygments_lexer": "ipython3",
   "version": "3.7.1"
  }
 },
 "nbformat": 4,
 "nbformat_minor": 2
}
