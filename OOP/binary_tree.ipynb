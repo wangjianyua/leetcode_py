{
 "cells": [
  {
   "cell_type": "code",
   "execution_count": 5,
   "metadata": {},
   "outputs": [
    {
     "name": "stdout",
     "output_type": "stream",
     "text": [
      "[3, 4, 0, 5, 0, 0, 0, 6, 7, 0, 0, 8, 0, 0]\n",
      "[4, 0, 5, 0, 0, 0, 6, 7, 0, 0, 8, 0, 0]\n",
      "[0, 5, 0, 0, 0, 6, 7, 0, 0, 8, 0, 0]\n",
      "[5, 0, 0, 0, 6, 7, 0, 0, 8, 0, 0]\n",
      "[0, 0, 0, 6, 7, 0, 0, 8, 0, 0]\n",
      "[0, 0, 6, 7, 0, 0, 8, 0, 0]\n",
      "[0, 6, 7, 0, 0, 8, 0, 0]\n",
      "[6, 7, 0, 0, 8, 0, 0]\n",
      "[7, 0, 0, 8, 0, 0]\n",
      "[0, 0, 8, 0, 0]\n",
      "[0, 8, 0, 0]\n",
      "[8, 0, 0]\n",
      "[0, 0]\n",
      "[0]\n",
      "[]\n",
      "4 5 3 2 7 6 8 "
     ]
    }
   ],
   "source": [
    "class Binary_Tree():\n",
    "    def __init__(self,data=0,Left_child=None,Right_child=None):#初始化变量\n",
    "        self.data=data\n",
    "        self.Left_child=Left_child#左孩子\n",
    "        self.Right_child=Right_child#右孩子\n",
    "def Creat_Binary_Tree(Root):\n",
    "    if Data_Input[0]!=0:\n",
    "        Root=Binary_Tree(Data_Input[0])#给Root赋给空间并且初始化\n",
    "        Data_Input.pop(0)#pop处第一个数据，这样第一个数据就是原来的第二个位置上的数据如原来是[1,2,3]这样就变成[2,3]\n",
    "        print(Data_Input)#输出当前列表中的元素\n",
    "        Root.Left_child=Creat_Binary_Tree(Root.Left_child)\n",
    "        Root.Right_child=Creat_Binary_Tree(Root.Right_child)\n",
    "        return Root#将得到的节点返回\n",
    "    else:\n",
    "        Root=None#当data=0的时候就递归停止，就不继续产生节点\n",
    "        Data_Input.pop(0)\n",
    "        print(Data_Input)\n",
    "def Inorder(Root):\n",
    "    if Root != None:\n",
    "        Inorder(Root.Left_child)\n",
    "        print(Root.data,end=' ')\n",
    "        Inorder(Root.Right_child)\n",
    "Data_Input=[2,3,4,0,5,0,0,0,6,7,0,0,8,0,0]#创建二叉树需要的数据当data=0的时候就递归停止\n",
    "def main():\n",
    "    Root=None\n",
    "    Root=Creat_Binary_Tree(Root)\n",
    "    Inorder(Root)#中序遍历二叉树\n",
    "main()"
   ]
  },
  {
   "cell_type": "code",
   "execution_count": null,
   "metadata": {},
   "outputs": [],
   "source": []
  }
 ],
 "metadata": {
  "kernelspec": {
   "display_name": "Python 3",
   "language": "python",
   "name": "python3"
  },
  "language_info": {
   "codemirror_mode": {
    "name": "ipython",
    "version": 3
   },
   "file_extension": ".py",
   "mimetype": "text/x-python",
   "name": "python",
   "nbconvert_exporter": "python",
   "pygments_lexer": "ipython3",
   "version": "3.7.1"
  }
 },
 "nbformat": 4,
 "nbformat_minor": 2
}
