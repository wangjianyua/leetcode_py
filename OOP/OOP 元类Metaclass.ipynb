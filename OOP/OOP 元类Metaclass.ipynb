{
 "cells": [
  {
   "cell_type": "code",
   "execution_count": null,
   "metadata": {},
   "outputs": [],
   "source": [
    "#type. class的类型是type\n",
    "class Hello(object):\n",
    "    def hello(self, name='world'):\n",
    "        print('Hello, %s.' % name)\n",
    "h=Hello()\n",
    "\"\"\"\n",
    "type()函数可以查看一个类型或变量的类型，Hello是一个class，它的类型就是type，而h是一个实例，它的类型就是class Hello。\n",
    "\n",
    "我们说class的定义是运行时动态创建的，而创建class的方法就是使用type()函数。\n",
    "\"\"\"\n",
    "def fn(self, name='world'): # 先定义函数\n",
    "    print('Hello, %s.' % name)\n",
    "Hello = type('Hello', (object,), dict(hello=fn)) # 用type创建Hello class。与直接创建class结果一样\n",
    "\n",
    "\"\"\"\n",
    "要创建一个class对象，type()函数依次传入3个参数：\n",
    "\n",
    "    class的名称；\n",
    "    继承的父类集合，注意Python支持多重继承，如果只有一个父类，别忘了tuple的单元素写法；\n",
    "    class的方法名称与函数绑定，这里我们把函数fn绑定到方法名hello上。\n",
    "\n",
    "通过type()函数创建的类和直接写class是完全一样的，因为Python解释器遇到class定义时，\n",
    "仅仅是扫描一下class定义的语法，然后调用type()函数创建出class。\n",
    "\"\"\"\n",
    "#总结，class的类型是type,实例Instance的类型是class object"
   ]
  },
  {
   "cell_type": "code",
   "execution_count": null,
   "metadata": {},
   "outputs": [],
   "source": [
    "#__new__，用来创建新对象\n",
    "\"\"\"\n",
    "The __new__ method is the constructor (it returns the new instance) \n",
    "while __init__ is just a initializer (the instance is already created when __init__ is called).\n",
    "\n",
    "\"\"\"\n",
    "class Foobar:\n",
    "    def __new__(cls):\n",
    "        return super().__new__(cls)\n",
    "\"\"\"\n",
    "Now if you recall the previous section, you'd expect that __new__ would be looked up on the metaclass, \n",
    "but alas, it wouldn't be so useful that way [19] so it's looked up statically.\n",
    "\"\"\"\n",
    "# metaclass是类的模板，所以必须从`type`类型派生：\n",
    "class ListMetaclass(type):\n",
    "    def __new__(cls, name, bases, attrs):\n",
    "        attrs['add'] = lambda self, value: self.append(value)\n",
    "        return type.__new__(cls, name, bases, attrs)\n",
    "\"\"\"\n",
    "When the Foobar class wants this magic method it will be looked up on the same object (the class), \n",
    "not on a upper level like all the other magic methods. \n",
    "This is very important to understand, because both the class and the metaclass can define this method:\n",
    "\n",
    "    Foobar.__new__ is used to create instances of Foobar\n",
    "    type.__new__ is used to create the Foobar class (an instance of type in the example)\n",
    "\n",
    "\"\"\"\n"
   ]
  },
  {
   "cell_type": "code",
   "execution_count": null,
   "metadata": {},
   "outputs": [],
   "source": [
    "#metaclass"
   ]
  },
  {
   "cell_type": "code",
   "execution_count": 2,
   "metadata": {},
   "outputs": [
    {
     "ename": "TypeError",
     "evalue": "metaclass conflict: the metaclass of a derived class must be a (non-strict) subclass of the metaclasses of all its bases",
     "output_type": "error",
     "traceback": [
      "\u001b[1;31m---------------------------------------------------------------------------\u001b[0m",
      "\u001b[1;31mTypeError\u001b[0m                                 Traceback (most recent call last)",
      "\u001b[1;32m<ipython-input-2-657e33ca7a8a>\u001b[0m in \u001b[0;36m<module>\u001b[1;34m\u001b[0m\n\u001b[0;32m      8\u001b[0m \u001b[1;32mclass\u001b[0m \u001b[0mB\u001b[0m\u001b[1;33m(\u001b[0m\u001b[0mobject\u001b[0m\u001b[1;33m,\u001b[0m \u001b[0mmetaclass\u001b[0m\u001b[1;33m=\u001b[0m\u001b[0mMetaB\u001b[0m\u001b[1;33m)\u001b[0m\u001b[1;33m:\u001b[0m\u001b[1;33m\u001b[0m\u001b[1;33m\u001b[0m\u001b[0m\n\u001b[0;32m      9\u001b[0m     \u001b[1;32mpass\u001b[0m\u001b[1;33m\u001b[0m\u001b[1;33m\u001b[0m\u001b[0m\n\u001b[1;32m---> 10\u001b[1;33m \u001b[1;32mclass\u001b[0m \u001b[0mC\u001b[0m\u001b[1;33m(\u001b[0m\u001b[0mA\u001b[0m\u001b[1;33m,\u001b[0m \u001b[0mB\u001b[0m\u001b[1;33m)\u001b[0m\u001b[1;33m:\u001b[0m\u001b[1;33m\u001b[0m\u001b[1;33m\u001b[0m\u001b[0m\n\u001b[0m\u001b[0;32m     11\u001b[0m     \u001b[1;32mpass\u001b[0m\u001b[1;33m\u001b[0m\u001b[1;33m\u001b[0m\u001b[0m\n\u001b[0;32m     12\u001b[0m \u001b[1;33m\u001b[0m\u001b[0m\n",
      "\u001b[1;31mTypeError\u001b[0m: metaclass conflict: the metaclass of a derived class must be a (non-strict) subclass of the metaclasses of all its bases"
     ]
    }
   ],
   "source": [
    "#终极问题，metaclass的多重继承\n",
    "class MetaA(type):\n",
    "    pass\n",
    "class MetaB(type):\n",
    "    pass\n",
    "class A(object, metaclass=MetaA):\n",
    "    pass\n",
    "class B(object, metaclass=MetaB):\n",
    "    pass\n",
    "class C(A, B):#因为AB不是一个元类，不能这么继承\n",
    "    pass\n",
    "#报错：metaclass conflict: the metaclass of a derived class must be a (non-strict) subclass of the metaclasses of all its bases\n",
    "#修改：需要手动构建新的子类元类\n",
    "class MetaC(MetaA, MetaB):#创建一个元类C,继承自AB元类\n",
    "    pass\n",
    "class C(object, metaclass=MetaC):#用这个元类C创建class不会报错\n",
    "    pass"
   ]
  },
  {
   "cell_type": "code",
   "execution_count": null,
   "metadata": {},
   "outputs": [],
   "source": []
  }
 ],
 "metadata": {
  "kernelspec": {
   "display_name": "Python 3",
   "language": "python",
   "name": "python3"
  },
  "language_info": {
   "codemirror_mode": {
    "name": "ipython",
    "version": 3
   },
   "file_extension": ".py",
   "mimetype": "text/x-python",
   "name": "python",
   "nbconvert_exporter": "python",
   "pygments_lexer": "ipython3",
   "version": "3.7.1"
  }
 },
 "nbformat": 4,
 "nbformat_minor": 2
}
