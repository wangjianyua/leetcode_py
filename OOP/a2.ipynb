{
 "cells": [
  {
   "cell_type": "code",
   "execution_count": 1,
   "metadata": {},
   "outputs": [],
   "source": [
    "#initialize\n",
    "from enum import Enum\n",
    "from enum import unique\n",
    "import abc\n",
    "from functools import total_ordering\n",
    "import random"
   ]
  },
  {
   "cell_type": "code",
   "execution_count": 2,
   "metadata": {},
   "outputs": [],
   "source": [
    "@unique\n",
    "class Suit(Enum):\n",
    "    Spade = 1\n",
    "    Heart = 2\n",
    "    Dimond = 3\n",
    "    Club = 4\n",
    "\n",
    "    def __repr__(self):\n",
    "        return self.name\n",
    "    #如果想，self.value，不可行。报错__str__ returned non-string (type int). 把str换成repr也不行\n",
    "    \n",
    "@unique\n",
    "class Number(Enum):\n",
    "    \n",
    "    N2 = 2\n",
    "    N3 = 3\n",
    "    N4 = 4\n",
    "    N5 = 5\n",
    "    N6 = 6\n",
    "    N7 = 7\n",
    "    N8 = 8\n",
    "    N9 = 9\n",
    "    N10 = 10\n",
    "    J = 11\n",
    "    Q = 12\n",
    "    K = 13\n",
    "    Ace = 14\n",
    "\n",
    "    def __int__(self):\n",
    "        if self.value <= 10:\n",
    "            return int(self.value)\n",
    "\n",
    "#NB,Cannot extend enumerations,枚举类不能继承。但也可以继承，我不懂。"
   ]
  },
  {
   "cell_type": "code",
   "execution_count": 3,
   "metadata": {},
   "outputs": [],
   "source": [
    "@total_ordering\n",
    "class PlayingCard(metaclass=abc.ABCMeta):\n",
    "    def __init__(self, suit: Suit):#元类init初始化可以引用其他类Suit\n",
    "        self.suit = suit\n",
    "    @abc.abstractmethod\n",
    "    def get_value(self):\n",
    "        pass\n",
    "    def __eq__(self, other):\n",
    "        return self.get_value()==other.get_value()\n",
    "    def __gt__(self, other):\n",
    "        return self.get_value() > other.get_value() #千万别忘打括号\n",
    "\n"
   ]
  },
  {
   "cell_type": "code",
   "execution_count": 4,
   "metadata": {},
   "outputs": [],
   "source": [
    "class NumberedCard(PlayingCard):\n",
    "\n",
    "    def __init__(self, value: int, suit: Suit):\n",
    "        self.value = value\n",
    "        super().__init__(suit)\n",
    "    def get_value(self):\n",
    "        return self.value\n",
    "    def get_suit(self):\n",
    "        return self.suit\n",
    "    def __str__(self):\n",
    "        return '%s, %s'%(self.value,self.suit)\n",
    "    \n",
    "#a=NumberedCard(1,Suit.Heart)\n",
    "#print(a)\n",
    "\"\"\"\n",
    "枚举类不能继承，这样做没意义，但学习了元类的多重继承，留着参考\n",
    "\n",
    "class DerivedMeta(abc.ABCMeta, type(Suit)):\n",
    "    pass\n",
    "\n",
    "class NumberedCard(PlayingCard,DerivedMeta):\n",
    "    def __init__(self,value:int,suit:Suit):\n",
    "    \n",
    "\"\"\"    \n",
    "class JackCard(PlayingCard):#子类没有定义自己的初始化函数，父类的初始化函数会被默认调用:\n",
    "    \n",
    "    #def __init__(self,suit:Suit):\n",
    "        #super().__init__(suit)\n",
    "        #或者PlayingCard.__init__(self,suit)\n",
    "        #super()init时也要输入父类的init变量，例如继承中super().__init__(name, age, sex)与SchoolMember.__init__(self, name, age, sex)是一样的，其中schoolmember是父类\n",
    "    #但注意这里，除了引用父类的init之外没有自己新创建任何东西，完全引用父类，所以不用def __init__\n",
    "    def get_value(self):\n",
    "        return 11\n",
    "    def get_suit(self):\n",
    "        return self.suit\n",
    "#b=JackCard(Suit.Heart)#子类实例化时，由于子类没有初始化，此时父类的初始化函数就会默认被调用。但注意一定要传入suit，因为需要这个init\n",
    "#b.get_suit()\n",
    "    def __str__(self):\n",
    "        return 'Jack, %s'%(self.suit)\n",
    "class QueenCard(PlayingCard):\n",
    "    \n",
    "    #def __init__(self,suit:Suit):\n",
    "        #super().__init__(suit)\n",
    "    def get_value(self):\n",
    "        return 12\n",
    "    def get_suit(self):\n",
    "        return self.suit\n",
    "    def __str__(self):\n",
    "        return 'Queen, %s'%(self.suit)    \n",
    "class KingCard(PlayingCard):\n",
    "    \n",
    "    #def __init__(self,suit:Suit):\n",
    "        #super().__init__(suit)\n",
    "    def get_value(self):\n",
    "        return 13\n",
    "    def get_suit(self):\n",
    "        return self.suit\n",
    "    def __str__(self):\n",
    "        return 'King, %s'%(self.suit)    \n",
    "class AceCard(PlayingCard):\n",
    "    \n",
    "    #def __init__(self,suit:Suit):\n",
    "        #super().__init__(suit)\n",
    "    def get_value(self):\n",
    "        return 14\n",
    "    def get_suit(self):\n",
    "        return self.suit\n",
    "    def __str__(self):\n",
    "        return 'Ace, %s'%(self.suit)    \n",
    "#c=AceCard(Suit.Spade)\n",
    "#c.get_value()#注意一定要有括号，否则会显示bound method balbla"
   ]
  },
  {
   "cell_type": "code",
   "execution_count": 5,
   "metadata": {},
   "outputs": [],
   "source": [
    "def takevalue(item):\n",
    "    return item.get_value()\n",
    "\n",
    "class Hand():\n",
    "    hand=list()#一个公用类\n",
    "    def add_a_card(self,NumberedCard):\n",
    "        Hand.hand.append(NumberedCard)\n",
    "    def drop_several_cards(self,index):#注意这个函数，若有3张牌，只能drop两个\n",
    "        for card_index in index:\n",
    "            Hand.hand.pop(card_index)\n",
    "    def sort_cards(self):#默认从大到小排序\n",
    "        Hand.hand.sort(key=takevalue, reverse=True)\n",
    "    def list_hand(self):\n",
    "        return Hand.hand\n",
    "    def best_poker_hand(self,card=[]):#1-6张牌，输入牌，返回最好的手\n",
    "        a=PokerHand()\n",
    "        if a.straight_flush(card)!=False:\n",
    "            return card.sort()              #检查完后，返回一副手牌\n",
    "        elif a.four_of_a_kind(card)!=False:\n",
    "            return card.sort()\n",
    "def one_card(card):\n",
    "    return card\n",
    "def two_card(card):\n",
    "    if \n",
    "        \n",
    "    def rank(self,card=list()):\n",
    "        if self.straight_flush(card)!=False:\n",
    "            return 9\n",
    "        elif self.four_of_a_kind(card)!=False:\n",
    "            return 8\n",
    "        elif self.full_house(card)!=False:\n",
    "            return 7\n",
    "        elif self.flush(card)!=False:\n",
    "            return 6\n",
    "        elif self.straight(card)!=False:\n",
    "            return 5\n",
    "        elif self.three_of_a_kind(card)!=False:\n",
    "            return 4\n",
    "        elif self.two_pairs(card)!=False:\n",
    "            return 3\n",
    "        elif self.one_pair(card)!=False:\n",
    "            return 2\n",
    "        elif self.high_card(card)!=False:\n",
    "            return 1\n",
    "    \"\"\"\n",
    "#test hand\n",
    "a=Hand()#空手\n",
    "card=NumberedCard(11,Suit.Spade)#定义一张牌\n",
    "a.add_a_card(card)#抽牌\n",
    "a.add_a_card(card)#抽牌\n",
    "a.add_a_card(card)#抽牌\n",
    "a.add_a_card(card)#抽牌\n",
    "str(a.hand[0])#打印这张牌\n",
    "drop=[0,1]\n",
    "a.drop_several_cards(drop)\n",
    "a.sort_cards()\n",
    "    \"\"\""
   ]
  },
  {
   "cell_type": "code",
   "execution_count": 6,
   "metadata": {},
   "outputs": [
    {
     "data": {
      "text/plain": [
       "2"
      ]
     },
     "execution_count": 6,
     "metadata": {},
     "output_type": "execute_result"
    }
   ],
   "source": [
    "class StandardDeck():\n",
    "\n",
    "    def __init__(self):\n",
    "        self.Deck=list();\n",
    "        for suit in Suit:\n",
    "            for value in range(2,11):\n",
    "                self.Deck.append(NumberedCard(value,suit))\n",
    "            self.Deck.append(JackCard(suit))\n",
    "            self.Deck.append(QueenCard(suit))\n",
    "            self.Deck.append(KingCard(suit))\n",
    "            self.Deck.append(AceCard(suit))\n",
    "    def shuffle(self):\n",
    "        random.shuffle(self.Deck)\n",
    "        #return self.Deck.不能这样。这样生成的话会返回一个list，之后不能再用类的方法了，正确应该是不返回值，shuffle后还在class里\n",
    "        #random.shuffle(self.Deck) 这样返回会报错AttributeError: 'NoneType' object has no attribute 'hand'，因为shuffle返回了一个nonetype，没有生成新的list，数据还是在原来的self.deck\n",
    "    def pop_top(self,i=-1):\n",
    "        return self.Deck.pop(i)#按堆理解创建，用pop出最后一个创建的即为poptop\n",
    "    \n",
    "#test\n",
    "deck=StandardDeck()\n",
    "deck.shuffle()\n",
    "a=deck.pop_top()\n",
    "a.get_value()"
   ]
  },
  {
   "cell_type": "code",
   "execution_count": null,
   "metadata": {},
   "outputs": [],
   "source": [
    "class PokerHand():\n",
    "    \n",
    "    dictionary = {'check_straight_flush': 9,\n",
    "                  'check_four_of_a_kind': 8,\n",
    "                  'check_full_house': 7,\n",
    "                  'check_flush': 6,\n",
    "                  'check_straight': 5,\n",
    "                  'check_three_of_a_kind': 4,\n",
    "                  'check_two_pair': 3,\n",
    "                  'check_one_pair': 2,\n",
    "                  'check_high_card': 1}\n",
    "\n",
    "    #def __init__(self, type) :#value, suit):\n",
    "        #self.type = type\n",
    "\n",
    "    #def __lt__(self, other):\n",
    "        \"\"\"\n",
    "            Compare the type of of the cards\n",
    "        \"\"\"\n",
    "        #return self.dictionary[self.type] < other.dictionary[other.type]"
   ]
  },
  {
   "cell_type": "code",
   "execution_count": 7,
   "metadata": {},
   "outputs": [],
   "source": [
    "#pokerhand\n",
    "\n",
    "\n",
    "class PokerHand(): #不需要init初始化实例，当作PokerHand方法的集合类.不需要继承，因为不是card子类，但在类中可以引用card。 \n",
    "    \n",
    "    def __init__(self):\n",
    "        self.type=None\n",
    "        \n",
    "    def __lt__(self,other):\n",
    "        return self.type < other.type\n",
    "    \n",
    "    def flush(self,card=list()):#顺子,花色敏感\n",
    "        flowers = [p.get_suit() for p in card]  # 花色列表\n",
    "        value = [c.get_value() for c in card]\n",
    "        value.sort()\n",
    "        return self.type=6,value[-1] if len(set(flowers)) == 1 else False  #这里运用了len去重属性，return两个值会返回一个tuple\n",
    "    \n",
    "    def straight(self,card=list()):#因为object不是iterable，这里用list，需要提前转化为list\n",
    "        value = [c.get_value() for c in card]#得到输入card list的number值.虽然playingcard子类可以比较大小，但这里card传入list为object，总getvalue太麻烦，所以先都转为value。\n",
    "        value.sort()#默认从小到大\n",
    "        return self.type=5,value[-1] if value[-1]-value[0]==len(value)-1 else False #返回最大值\n",
    "        \n",
    "    def straight_flush(self,card=list()):\n",
    "        value = [c.get_value() for c in card]\n",
    "        value.sort()\n",
    "        return self.type=9,value[-1] if self.straight(card) and self.flush(card) else False\n",
    "    \n",
    "    def four_of_a_kind(self,card=list()):#花色不敏感\n",
    "        value = [c.get_value() for c in card]\n",
    "        value.sort()\n",
    "        if value[0]==value[3]:\n",
    "            return self.type=8,value[3]\n",
    "        elif value[1]==value[4]:\n",
    "            return self.type=8,value[4]\n",
    "        else:\n",
    "            return False\n",
    "    \n",
    "    def full_house(self,card=list()):#花色不敏感\n",
    "        value = [c.get_value() for c in card]\n",
    "        value.sort()\n",
    "        if value[0]==value[2] and value[3]==value[4]:\n",
    "            return self.type=7,value[3]\n",
    "        elif value[0]==value[1] and value[2]==value[4]:\n",
    "            return self.type=7,value[2]\n",
    "        else:\n",
    "            return False\n",
    "    \n",
    "    def three_of_a_kind(self,card=list()):\n",
    "        value = [c.get_value() for c in card]\n",
    "        value.sort()\n",
    "        if value[0]==value[2]:\n",
    "            return self.type=4,value[2]\n",
    "        elif value[1]==value[3]:\n",
    "            return self.type=4,value[3]\n",
    "        elif value[2]==value[4]:\n",
    "            return self.type=4,value[4]\n",
    "        else:\n",
    "            return False\n",
    "    \n",
    "    def two_pairs(self,card=list()):\n",
    "        value = [c.get_value() for c in card]\n",
    "        value.sort()\n",
    "        if value[0]==value[1] and value[2]==value[3]:\n",
    "            return self.type=3,value[3]\n",
    "        elif value[0]==value[1] and value[3]==value[4]:\n",
    "            return self.type=3,value[4]\n",
    "        elif value[1]==value[2] and value[3]==value[4]:\n",
    "            return self.type=3,value[4]\n",
    "        else:\n",
    "            return False\n",
    "        \n",
    "    def one_pair(self,card=list()):\n",
    "        value = [c.get_value() for c in card]\n",
    "        value.sort()\n",
    "        if value[0]==value[1]:\n",
    "            return self.type=2,value[1]\n",
    "        elif value[1]==value[2]:\n",
    "            return self.type=2,value[2]\n",
    "        elif value[2]==value[3]:\n",
    "            return self.type=2,value[3]\n",
    "        elif value[3]==value[4]:\n",
    "            return self.type=2,value[4]\n",
    "        else:\n",
    "            return False\n",
    "        \n",
    "    def high_card(self,card=list()):\n",
    "        value = [c.get_value() for c in card]\n",
    "        value.sort()\n",
    "        return self.type=1,value[-1] if value[0]!=value[1] and value[1]!=value[2] and value[2]!=value[3] and value[3]!=value[4] else False\n",
    "    \"\"\"\n",
    "    运行起来太慢了\n",
    "    \"\"\"\n",
    "    "
   ]
  },
  {
   "cell_type": "code",
   "execution_count": null,
   "metadata": {},
   "outputs": [],
   "source": [
    "\n",
    "Pokerhand.high_card(lwh_list)#判断是否high_card"
   ]
  },
  {
   "cell_type": "code",
   "execution_count": null,
   "metadata": {},
   "outputs": [],
   "source": [
    "\n",
    "#test check_method\n",
    "\"\"\"\n",
    "deck=StandardDeck()#创建deck，类\n",
    "deck.shuffle()#洗牌，还是这个类\n",
    "lwh=Hand()#创建hand\n",
    "for i in range(5):#抽五张到hand\n",
    "    lwh.add_a_card(deck.pop_top())\n",
    "Pokerhand=PokerHand()#创建判断类，pokerhand\n",
    "lwh_list=lwh.list_hand()#把lwh转为list\n",
    "for i in range(5):\n",
    "    print(lwh_list[i].get_value())\n",
    "\"\"\"\n",
    "#随机生成 2 4 6 12 14\n",
    "Pokerhand.straight(lwh_list)#判断是否straight。\n",
    "Pokerhand.flush(lwh_list)#判断是否flush。\n",
    "Pokerhand.straight_flush(lwh_list)#判断是否straight_flush\n",
    "Pokerhand.four_of_a_kind(lwh_list)#判断是否four_of a kind\n",
    "Pokerhand.full_house(lwh_list)#判断是否full_house\n",
    "Pokerhand.three_of_a_kind(lwh_list)#判断是否3_a_kind\n",
    "Pokerhand.two_pairs(lwh_list)#判断是否2_pairs\n",
    "Pokerhand.one_pair(lwh_list)#判断是否1_pair"
   ]
  },
  {
   "cell_type": "code",
   "execution_count": 8,
   "metadata": {},
   "outputs": [
    {
     "name": "stdout",
     "output_type": "stream",
     "text": [
      "5\n",
      "5\n",
      "12\n",
      "12\n",
      "4\n"
     ]
    }
   ],
   "source": [
    "deck=StandardDeck()#创建deck，类\n",
    "deck.shuffle()#洗牌，还是这个类\n",
    "lwh=Hand()#创建hand\n",
    "for i in range(5):#抽五张到hand\n",
    "    lwh.add_a_card(deck.pop_top())\n",
    "Pokerhand=PokerHand()#创建判断类，pokerhand\n",
    "lwh_list=lwh.list_hand()#把lwh转为list\n",
    "for i in range(5):\n",
    "    print(lwh_list[i].get_value())"
   ]
  },
  {
   "cell_type": "code",
   "execution_count": null,
   "metadata": {},
   "outputs": [],
   "source": [
    "1!=2"
   ]
  },
  {
   "cell_type": "code",
   "execution_count": 9,
   "metadata": {},
   "outputs": [
    {
     "data": {
      "text/plain": [
       "12"
      ]
     },
     "execution_count": 9,
     "metadata": {},
     "output_type": "execute_result"
    }
   ],
   "source": [
    "Pokerhand.two_pairs(lwh_list)#判断是否2_pairs"
   ]
  },
  {
   "cell_type": "code",
   "execution_count": null,
   "metadata": {},
   "outputs": [],
   "source": [
    "Pokerhand.one_pair(lwh_list)#判断是否1_pair"
   ]
  },
  {
   "cell_type": "code",
   "execution_count": null,
   "metadata": {},
   "outputs": [],
   "source": [
    "Pokerhand.three_of_a_kind(lwh_list)#判断是否3_a_kind"
   ]
  },
  {
   "cell_type": "code",
   "execution_count": null,
   "metadata": {},
   "outputs": [],
   "source": [
    "Pokerhand.flush.rank()#判断是否flush。"
   ]
  },
  {
   "cell_type": "code",
   "execution_count": 10,
   "metadata": {},
   "outputs": [
    {
     "ename": "TypeError",
     "evalue": "rank() takes 1 positional argument but 2 were given",
     "output_type": "error",
     "traceback": [
      "\u001b[1;31m---------------------------------------------------------------------------\u001b[0m",
      "\u001b[1;31mTypeError\u001b[0m                                 Traceback (most recent call last)",
      "\u001b[1;32m<ipython-input-10-29f7f798f252>\u001b[0m in \u001b[0;36m<module>\u001b[1;34m\u001b[0m\n\u001b[1;32m----> 1\u001b[1;33m \u001b[0mPokerhand\u001b[0m\u001b[1;33m.\u001b[0m\u001b[0mrank\u001b[0m\u001b[1;33m(\u001b[0m\u001b[0mlwh_list\u001b[0m\u001b[1;33m)\u001b[0m\u001b[1;33m\u001b[0m\u001b[1;33m\u001b[0m\u001b[0m\n\u001b[0m",
      "\u001b[1;31mTypeError\u001b[0m: rank() takes 1 positional argument but 2 were given"
     ]
    }
   ],
   "source": [
    "Pokerhand.rank(lwh_list)"
   ]
  },
  {
   "cell_type": "code",
   "execution_count": null,
   "metadata": {},
   "outputs": [],
   "source": [
    "    def rank(self,card=list()):\n",
    "        if self.straight_flush(card)!=False:\n",
    "            return 9\n",
    "        elif self.four_of_a_kind(card)!=False:\n",
    "            return 8\n",
    "        elif self.full_house(card)!=False:\n",
    "            return 7\n",
    "        elif self.flush(card)!=False:\n",
    "            return 6\n",
    "        elif self.straight(card)!=False:\n",
    "            return 5\n",
    "        elif self.three_of_a_kind(card)!=False:\n",
    "            return 4\n",
    "        elif self.two_pairs(card)!=False:\n",
    "            return 3\n",
    "        elif self.one_pair(card)!=False:\n",
    "            return 2\n",
    "        elif self.high_card(card)!=False:\n",
    "            return 1"
   ]
  },
  {
   "cell_type": "code",
   "execution_count": 4,
   "metadata": {},
   "outputs": [],
   "source": [
    "def aa():\n",
    "    return 1,2"
   ]
  },
  {
   "cell_type": "code",
   "execution_count": 5,
   "metadata": {},
   "outputs": [
    {
     "data": {
      "text/plain": [
       "2"
      ]
     },
     "execution_count": 5,
     "metadata": {},
     "output_type": "execute_result"
    }
   ],
   "source": [
    "aa()[1]"
   ]
  },
  {
   "cell_type": "code",
   "execution_count": null,
   "metadata": {},
   "outputs": [],
   "source": []
  }
 ],
 "metadata": {
  "kernelspec": {
   "display_name": "Python 3",
   "language": "python",
   "name": "python3"
  },
  "language_info": {
   "codemirror_mode": {
    "name": "ipython",
    "version": 3
   },
   "file_extension": ".py",
   "mimetype": "text/x-python",
   "name": "python",
   "nbconvert_exporter": "python",
   "pygments_lexer": "ipython3",
   "version": "3.7.1"
  }
 },
 "nbformat": 4,
 "nbformat_minor": 2
}
