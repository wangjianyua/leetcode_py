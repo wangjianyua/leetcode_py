{
 "cells": [
  {
   "cell_type": "code",
   "execution_count": 5,
   "metadata": {},
   "outputs": [
    {
     "name": "stdout",
     "output_type": "stream",
     "text": [
      "The age is: 25\n",
      "The age is: 25\n",
      "The age is: 25\n"
     ]
    }
   ],
   "source": [
    "#classmethod基础\n",
    "#A class method is a method that is bound to a class rather than its object.\n",
    "#调用 Class.classmethod()，eg Mood.favorite_mood(Class)，特可以返回类的类属性，而staticmethod只能返回类的实例属性\n",
    "#定义 def classMethod(cls, args...) 必用cls\n",
    "\n",
    "class Person:\n",
    "    age = 25\n",
    "\n",
    "    def printAge(cls):\n",
    "        print('The age is:', cls.age)\n",
    "\n",
    "# create printAge class method\n",
    "#Person.printAge = classmethod(Person.printAge)\n",
    "\n",
    "Person.printAge(Person)#如果调用 Person.printAge()，报错printAge() missing 1 required positional argument: 'cls'\n",
    "#或者# create printAge class method\n",
    "Person.printAge = classmethod(Person.printAge)\n",
    "Person.printAge()\n",
    "\n",
    "#或者，这样写最省事\n",
    "class Person:\n",
    "    age = 25\n",
    "\n",
    "    @classmethod\n",
    "    def printAge(cls):\n",
    "        print('The age is:', cls.age)\n",
    "\n",
    "Person.printAge()#如果按以上定义，注意不要重复，比如，Person.printAge(Person)会报错\n",
    "\n",
    "\"\"\"\n",
    "Here, we have a class Person, with a member variable age assigned to 25.\n",
    "\n",
    "We also have a function printAge which takes a single parameter cls and not self we usually take.\n",
    "\n",
    "cls accepts the class Person as a parameter rather than Person's object/instance.\n",
    "\n",
    "Now, we pass the method Person.printAge as an argument to the function classmethod. This converts the method to a class method so that it accepts the first parameter as a class (i.e. Person).\n",
    "\n",
    "In the final line, we call printAge without creating a Person object like we do for static methods. This prints the class variable age.\n",
    "\"\"\""
   ]
  },
  {
   "cell_type": "code",
   "execution_count": 13,
   "metadata": {},
   "outputs": [
    {
     "name": "stdout",
     "output_type": "stream",
     "text": [
      "Adam's age is: 19\n"
     ]
    },
    {
     "ename": "TypeError",
     "evalue": "fromBirthYear() missing 1 required positional argument: 'birthYear'",
     "output_type": "error",
     "traceback": [
      "\u001b[1;31m---------------------------------------------------------------------------\u001b[0m",
      "\u001b[1;31mTypeError\u001b[0m                                 Traceback (most recent call last)",
      "\u001b[1;32m<ipython-input-13-807c8b08d526>\u001b[0m in \u001b[0;36m<module>\u001b[1;34m\u001b[0m\n\u001b[0;32m     20\u001b[0m \u001b[0mperson\u001b[0m\u001b[1;33m.\u001b[0m\u001b[0mdisplay\u001b[0m\u001b[1;33m(\u001b[0m\u001b[1;33m)\u001b[0m\u001b[1;33m\u001b[0m\u001b[1;33m\u001b[0m\u001b[0m\n\u001b[0;32m     21\u001b[0m \u001b[1;33m\u001b[0m\u001b[0m\n\u001b[1;32m---> 22\u001b[1;33m \u001b[0mperson1\u001b[0m \u001b[1;33m=\u001b[0m \u001b[0mPerson\u001b[0m\u001b[1;33m.\u001b[0m\u001b[0mfromBirthYear\u001b[0m\u001b[1;33m(\u001b[0m\u001b[1;34m'a'\u001b[0m\u001b[1;33m,\u001b[0m\u001b[1;36m1985\u001b[0m\u001b[1;33m)\u001b[0m\u001b[1;33m\u001b[0m\u001b[1;33m\u001b[0m\u001b[0m\n\u001b[0m\u001b[0;32m     23\u001b[0m \u001b[0mperson1\u001b[0m\u001b[1;33m.\u001b[0m\u001b[0mdisplay\u001b[0m\u001b[1;33m(\u001b[0m\u001b[1;33m)\u001b[0m\u001b[1;33m\u001b[0m\u001b[1;33m\u001b[0m\u001b[0m\n\u001b[0;32m     24\u001b[0m \u001b[1;31m#Constructor takes normal parameters name and age.\u001b[0m\u001b[1;33m\u001b[0m\u001b[1;33m\u001b[0m\u001b[1;33m\u001b[0m\u001b[0m\n",
      "\u001b[1;31mTypeError\u001b[0m: fromBirthYear() missing 1 required positional argument: 'birthYear'"
     ]
    }
   ],
   "source": [
    "#如上所说，为什么要用classmethod哪，有什么好处 When do you use class method?\n",
    "#1 1. Factory methods\n",
    "from datetime import date\n",
    "\n",
    "# random Person\n",
    "from datetime import date\n",
    "\n",
    "# random Person\n",
    "class Person:\n",
    "    def __init__(self, name, age):\n",
    "        self.name = name\n",
    "        self.age = age\n",
    "\n",
    "    @classmethod\n",
    "    def fromBirthYear(cls, name, birthYear):\n",
    "        return cls(name, date.today().year - birthYear)\n",
    "\n",
    "    def display(self):\n",
    "        print(self.name + \"'s age is: \" + str(self.age))\n",
    "\n",
    "person = Person('Adam', 19)\n",
    "person.display()\n",
    "\n",
    "person1 = Person.fromBirthYear('John',  1985)\n",
    "person1.display()\n",
    "#Constructor takes normal parameters name and age. \n",
    "#While, fromBirthYear takes class, name and birthYear, calculates the current age by subtracting it with the current year and returns the class instance.\n",
    "\n",
    "#这里，通过Person:name/age来定义Person，Person('Adam', 19)定义后为一个object.\n",
    "#而，fromBirthYear，通过Person(class注意不是object)，person.name和输入birthYear来定义，通过输入birthYear返回一个age给person类"
   ]
  },
  {
   "cell_type": "code",
   "execution_count": 15,
   "metadata": {},
   "outputs": [
    {
     "name": "stdout",
     "output_type": "stream",
     "text": [
      "True\n",
      "True\n"
     ]
    }
   ],
   "source": [
    "#2 Correct instance creation in inheritance\n",
    "#解决继承中出现的问题\n",
    "from datetime import date\n",
    "\n",
    "# random Person\n",
    "class Person:\n",
    "    def __init__(self, name, age):\n",
    "        self.name = name\n",
    "        self.age = age\n",
    "\n",
    "    @staticmethod\n",
    "    def fromFathersAge(name, fatherAge, fatherPersonAgeDiff):\n",
    "        return Person(name, date.today().year - fatherAge + fatherPersonAgeDiff)\n",
    "\n",
    "    @classmethod\n",
    "    def fromBirthYear(cls, name, birthYear):\n",
    "        return cls(name, date.today().year - birthYear)\n",
    "\n",
    "    def display(self):\n",
    "        print(self.name + \"'s age is: \" + str(self.age))\n",
    "\n",
    "class Man(Person):\n",
    "    sex = 'Male'\n",
    "\n",
    "man = Man.fromBirthYear('John', 1985)\n",
    "print(isinstance(man, Man)) #trur\n",
    "\n",
    "man1 = Man.fromFathersAge('John', 1965, 20)\n",
    "print(isinstance(man1, Man)) #false，这里用fromFathersAge，把man1从子类man变到父类static，因为这个函数在父类中static定义\n",
    "\n",
    "#一些改动\n",
    "\n",
    "# random Person\n",
    "class Person:\n",
    "    def __init__(self, name, age):\n",
    "        self.name = name\n",
    "        self.age = age\n",
    "\n",
    "    @classmethod\n",
    "    def fromFathersAge(cls, name, fatherAge, fatherPersonAgeDiff):\n",
    "        return cls(name, date.today().year - fatherAge + fatherPersonAgeDiff)\n",
    "\n",
    "    @classmethod\n",
    "    def fromBirthYear(cls, name, birthYear):\n",
    "        return cls(name, date.today().year - birthYear)\n",
    "\n",
    "    def display(self):\n",
    "        print(self.name + \"'s age is: \" + str(self.age))\n",
    "\n",
    "class Man(Person):\n",
    "    sex = 'Male'\n",
    "\n",
    "man = Man.fromBirthYear('John', 1985)\n",
    "print(isinstance(man, Man)) #trur\n",
    "\n",
    "man1 = Man.fromFathersAge('John', 1965, 20)\n",
    "print(isinstance(man1, Man)) #true，这里改为动态定义，使用函数后man1继承不变"
   ]
  },
  {
   "cell_type": "code",
   "execution_count": null,
   "metadata": {},
   "outputs": [],
   "source": [
    "#staticmethod基础\n"
   ]
  },
  {
   "cell_type": "code",
   "execution_count": null,
   "metadata": {},
   "outputs": [],
   "source": []
  },
  {
   "cell_type": "code",
   "execution_count": null,
   "metadata": {},
   "outputs": [],
   "source": [
    "\n",
    "#APPENDIX 2 hard code是什么\n",
    "\"\"\"\n",
    "\n",
    "\"Hard Coding\" means something that you want to embeded with your program or any project that can not be changed directly.\n",
    " For example if you are using a database server, then you must hardcode to connect your database with your project and that can not be changed by user. \n",
    " Because you have hard coded.\n",
    " \n",
    "  That’s where hard-coding comes in. “Don’t hard code” basically means, you should rely on your code, your logic, your program, and you should not write things out by hand or do computation in your head – even if you can do so easily.\n",
    "\n",
    "\"\"\"\n",
    "\n",
    "#appendix 3 bytecode\n",
    "\"\"\"\n",
    "    Python source code is compiled into bytecode, the internal representation of a Python program in the CPython interpreter. The bytecode is also cached in .pyc and .pyo files so that executing the same file is faster the second time (recompilation from source to bytecode can be avoided). This “intermediate language” is said to run on a virtual machine that executes the machine code corresponding to each bytecode. Do note that bytecodes are not expected to work between different Python virtual machines, nor to be stable between Python releases.\n",
    "\n",
    "    A list of bytecode instructions can be found in the documentation for the dis module.\n",
    "\n",
    "\"\"\""
   ]
  }
 ],
 "metadata": {
  "kernelspec": {
   "display_name": "Python 3",
   "language": "python",
   "name": "python3"
  },
  "language_info": {
   "codemirror_mode": {
    "name": "ipython",
    "version": 3
   },
   "file_extension": ".py",
   "mimetype": "text/x-python",
   "name": "python",
   "nbconvert_exporter": "python",
   "pygments_lexer": "ipython3",
   "version": "3.7.1"
  }
 },
 "nbformat": 4,
 "nbformat_minor": 2
}
