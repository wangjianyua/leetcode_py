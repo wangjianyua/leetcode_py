{
 "cells": [
  {
   "cell_type": "code",
   "execution_count": 6,
   "metadata": {},
   "outputs": [
    {
     "data": {
      "text/plain": [
       "'\\n我们在函数lazy_sum中又定义了函数sum，并且，内部函数sum可以引用外部函数lazy_sum的参数和局部变量，当lazy_sum返回函数sum时，相关参数和变量都保存在返回的函数中，这种称为“闭包（Closure）”的程序结构拥有极大的威力。\\n'"
      ]
     },
     "execution_count": 6,
     "metadata": {},
     "output_type": "execute_result"
    }
   ],
   "source": [
    "#1 返回函数\n",
    "#高阶函数除了可以接受函数作为参数外，还可以把函数作为结果值返回。\n",
    "\n",
    "def calc_sum(*args):#正常求和\n",
    "    ax = 0\n",
    "    for n in args:\n",
    "        ax = ax + n\n",
    "    return ax\n",
    "\n",
    "def lazy_sum(*args):#返回式求和，在后面代码中根据需要再计算\n",
    "    def sum():\n",
    "        ax = 0\n",
    "        for n in args:\n",
    "            ax = ax + n\n",
    "        return ax\n",
    "    return sum\n",
    "\n",
    "f = lazy_sum(1, 3, 5, 7, 9)#这时f不是一个数，是<function lazy_sum.<locals>.sum at 0x101c6ed90>，直到调用f时（输入f()）才输出结果\n",
    "\n",
    "f1 = lazy_sum(1, 3, 5, 7, 9)\n",
    "f2 = lazy_sum(1, 3, 5, 7, 9)\n",
    "#f1==f2 -> False，f1 f2返回两个不同的结构，即使定义与参数均相同.   f1()和f2()的调用结果互不影响\n",
    "\"\"\"\n",
    "我们在函数lazy_sum中又定义了函数sum，并且，内部函数sum可以引用外部函数lazy_sum的参数和局部变量，当lazy_sum返回函数sum时，相关参数和变量都保存在返回的函数中，这种称为“闭包（Closure）”的程序结构拥有极大的威力。\n",
    "\"\"\"\n",
    "\n",
    "#闭包   #与返回式编程sum一致，这里nest了一个innerfunc，然后返回innerfunc。\n",
    "def outerfunc(x):\n",
    "    def innerfunc():\n",
    "        print(x)\n",
    "    return innerfunc #Return the object instead of calling the function\n",
    "\"\"\"\n",
    "The point to note here is that instead of calling innerfunc here, we returned it (the object). \n",
    "Once we’ve defined outerfunc, we call it with the argument 7 and store it in variable myfunc. \n",
    "3个条件：\n",
    "    We must have a nested function.\n",
    "    This nested function must refer to a variable nonlocal to it(a variable in the scope enclosing it). 比如innerfunc中可以调用x\n",
    "    The enclosing scope must return this function.\n",
    "\"\"\"\n",
    "def outer(x):\n",
    "    result=0\n",
    "    def inner(n):\n",
    "        nonlocal result #With Python closure, we don’t need to use global values. This is because they let us refer to nonlocal variables. A closure then provides some form of data hiding.\n",
    "        while n>0:\n",
    "        result+=x*n\n",
    "        n-=1\n",
    "        return result\n",
    "    return inner#注意这里return inner，既函数out返回了函数Inner。一定不要写return outer，就没意义了！！！！\n",
    "myfunc=outer(7)#这个7=x，\n",
    "myfunc(3)"
   ]
  },
  {
   "cell_type": "code",
   "execution_count": 5,
   "metadata": {},
   "outputs": [
    {
     "ename": "TypeError",
     "evalue": "'list' object is not callable",
     "output_type": "error",
     "traceback": [
      "\u001b[1;31m---------------------------------------------------------------------------\u001b[0m",
      "\u001b[1;31mTypeError\u001b[0m                                 Traceback (most recent call last)",
      "\u001b[1;32m<ipython-input-5-d48200153dc6>\u001b[0m in \u001b[0;36m<module>\u001b[1;34m\u001b[0m\n\u001b[0;32m     10\u001b[0m \u001b[1;33m\u001b[0m\u001b[0m\n\u001b[0;32m     11\u001b[0m \u001b[0mf1\u001b[0m \u001b[1;33m=\u001b[0m \u001b[0mcount\u001b[0m\u001b[1;33m(\u001b[0m\u001b[1;33m)\u001b[0m\u001b[1;33m\u001b[0m\u001b[1;33m\u001b[0m\u001b[0m\n\u001b[1;32m---> 12\u001b[1;33m \u001b[0mf1\u001b[0m\u001b[1;33m(\u001b[0m\u001b[1;33m)\u001b[0m\u001b[1;33m\u001b[0m\u001b[1;33m\u001b[0m\u001b[0m\n\u001b[0m",
      "\u001b[1;31mTypeError\u001b[0m: 'list' object is not callable"
     ]
    }
   ],
   "source": [
    "#2 闭包\n",
    "#注意到返回的函数在其定义内部引用了局部变量args，所以，当一个函数返回了一个函数后，其内部的局部变量还被新函数引用\n",
    "def count():\n",
    "    fs = []\n",
    "    for i in range(1, 4):\n",
    "        def f():\n",
    "             return i*i\n",
    "        fs.append(f)\n",
    "    return fs\n",
    "#需要注意的问题是，返回的函数并没有立刻执行\n",
    "f1,f2,f3 = count()\n",
    "#在上面的例子中，每次循环，都创建了一个新的函数，然后，把创建的3个函数都返回了。\n",
    "#f1()f2()f3()全部都是9！原因就在于返回的函数引用了变量i，但它并非立刻执行。等到3个函数都返回时，它们所引用的变量i已经变成了3，因此最终结果为9。\n",
    "\n",
    "#若想修改以上函数\n",
    "#方法是再创建一个函数，用该函数的参数绑定循环变量当前的值，无论该循环变量后续如何更改，已绑定到函数参数的值不变\n",
    "def count():\n",
    "    def f(j):\n",
    "        def g():#在f内新创建的函数\n",
    "            return j*j\n",
    "        return g\n",
    "    fs = []\n",
    "    for i in range(1, 4):\n",
    "        fs.append(f(i)) # f(i)立刻被执行，因此i的当前值被传入f()\n",
    "    return fs\n",
    "\n",
    "#***没看懂他讲的，但可以理解为每次想闭包时，先定义def"
   ]
  },
  {
   "cell_type": "code",
   "execution_count": 12,
   "metadata": {},
   "outputs": [
    {
     "ename": "SyntaxError",
     "evalue": "'return' outside function (<ipython-input-12-b03f603bb378>, line 9)",
     "output_type": "error",
     "traceback": [
      "\u001b[1;36m  File \u001b[1;32m\"<ipython-input-12-b03f603bb378>\"\u001b[1;36m, line \u001b[1;32m9\u001b[0m\n\u001b[1;33m    return createCounter\u001b[0m\n\u001b[1;37m                        ^\u001b[0m\n\u001b[1;31mSyntaxError\u001b[0m\u001b[1;31m:\u001b[0m 'return' outside function\n"
     ]
    }
   ],
   "source": [
    "#利用闭包返回一个计数器函数，每次调用它返回递增整数：\n",
    "def createCounter():\n",
    "    m=0\n",
    "    def counter():\n",
    "        nonlocal m  #The nonlocal keyword is used to work with variables inside nested functions, where the variable should not belong to the inner function.Use the keyword nonlocal to declare that the variable is not local.\n",
    "        m+=1\n",
    "        return m\n",
    "    return counter\n",
    "# 测试:\n",
    "counterA = createCounter()\n",
    "print(counterA(), counterA(), counterA(), counterA(), counterA()) # 1 2 3 4 5\n",
    "counterB = createCounter()\n",
    "if [counterB(), counterB(), counterB(), counterB()] == [1, 2, 3, 4]:\n",
    "    print('测试通过!')\n",
    "else:\n",
    "    print('测试失败!')"
   ]
  },
  {
   "cell_type": "code",
   "execution_count": 13,
   "metadata": {},
   "outputs": [
    {
     "name": "stdout",
     "output_type": "stream",
     "text": [
      "1\n",
      "John\n"
     ]
    }
   ],
   "source": [
    "#插入 nonlocal关键字\n",
    "def myfunc1():\n",
    "  x = \"John\"\n",
    "  def myfunc2():\n",
    "    #nonlocal x #加上nonlocal，x可以在func2中被改变，输出hello\n",
    "    x = \"hello\"\n",
    "    #print(x) #若在func2中对这里的x进行操作，会输出hello。所以，这里\n",
    "  myfunc2() \n",
    "  return x #若改为y = \"hello\"，return y，会报错name 'y' is not defined。因为对于func1而言，func2中为local变量，运算后未返回则不存储\n",
    "print(myfunc1())#输出为john。这里x不是global（是func1得local）,但不是func2的local变量。"
   ]
  },
  {
   "cell_type": "code",
   "execution_count": 15,
   "metadata": {},
   "outputs": [
    {
     "name": "stdout",
     "output_type": "stream",
     "text": [
      "777\n",
      "John\n"
     ]
    }
   ],
   "source": [
    "#与上例比较\n",
    "def myfunc1(y):#这里函数输入了一个y，在#这个函数中#为全局变量，下面所有nest可以直接用\n",
    "  x = \"John\"\n",
    "  def myfunc2():\n",
    "    x = \"hello\"\n",
    "    print(y) \n",
    "  myfunc2() \n",
    "  return x \n",
    "print(myfunc1(777))"
   ]
  },
  {
   "cell_type": "code",
   "execution_count": null,
   "metadata": {},
   "outputs": [],
   "source": []
  }
 ],
 "metadata": {
  "kernelspec": {
   "display_name": "Python 3",
   "language": "python",
   "name": "python3"
  },
  "language_info": {
   "codemirror_mode": {
    "name": "ipython",
    "version": 3
   },
   "file_extension": ".py",
   "mimetype": "text/x-python",
   "name": "python",
   "nbconvert_exporter": "python",
   "pygments_lexer": "ipython3",
   "version": "3.7.1"
  }
 },
 "nbformat": 4,
 "nbformat_minor": 2
}
